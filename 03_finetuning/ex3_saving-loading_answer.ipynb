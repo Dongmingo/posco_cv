{
 "cells": [
  {
   "cell_type": "code",
   "execution_count": null,
   "metadata": {},
   "outputs": [],
   "source": [
    "import os\n",
    "import torch \n",
    "import torch.nn as nn\n",
    "import torch.nn.functional as F\n",
    "from torchsummary import summary\n",
    "\n",
    "device = torch.device(\"cuda\" if torch.cuda.is_available() else \"cpu\")"
   ]
  },
  {
   "cell_type": "code",
   "execution_count": null,
   "metadata": {},
   "outputs": [],
   "source": [
    "class VGG11(nn.Module):\n",
    "    \n",
    "    def __init__(self, num_classes=1000):\n",
    "        super().__init__()\n",
    "        self.conv1_1 = self.make_conv_relu(3, 64)\n",
    "        \n",
    "        self.conv2_1 = self.make_conv_relu(64, 128)\n",
    "\n",
    "        self.conv3_1 = self.make_conv_relu(128, 256)\n",
    "        self.conv3_2 = self.make_conv_relu(256, 256)\n",
    "\n",
    "        self.conv4_1 = self.make_conv_relu(256, 512)\n",
    "        self.conv4_2 = self.make_conv_relu(512, 512)\n",
    "\n",
    "        self.conv5_1 = self.make_conv_relu(512, 512)\n",
    "        self.conv5_2 = self.make_conv_relu(512, 512)\n",
    "        \n",
    "        self.maxpool = nn.MaxPool2d(kernel_size=2, stride=2)\n",
    "        \n",
    "        self.relu = nn.ReLU()\n",
    "        \n",
    "        self.linear_layers = nn.Sequential(\n",
    "            nn.Linear(512, 4096),\n",
    "            nn.ReLU(),\n",
    "            nn.Dropout2d(0.5),\n",
    "            nn.Linear(4096, 4096),\n",
    "            nn.ReLU(),\n",
    "            nn.Dropout2d(0.5),\n",
    "            nn.Linear(4096, num_classes)\n",
    "        )\n",
    "\n",
    "    def make_conv_relu(self, in_channels, out_channel):\n",
    "        layers = []\n",
    "        layers += [nn.Conv2d(in_channels, out_channel, kernel_size=3, padding=1),  #using kernel size 3, padding 1 -> keep the spatial dimension of tensor\n",
    "                   nn.ReLU()]\n",
    "        return nn.Sequential(*layers)\n",
    "    \n",
    "        \n",
    "    def forward(self, x):\n",
    "        # x shape: [Batchsize, 3, 32, 32]\n",
    "        \n",
    "        x = self.conv1_1(x) # [Batchsize, 64, 32, 32]\n",
    "        x = self.maxpool(x) # [Batchsize, 64, 16, 16]\n",
    "        \n",
    "        x = self.conv2_1(x) # [Batchsize, 128, 16, 16]\n",
    "        x = self.maxpool(x) # [Batchsize, 128, 8, 8]\n",
    "        \n",
    "        x = self.conv3_1(x) # [Batchsize, 256, 8, 8]\n",
    "        x = self.conv3_2(x) # [Batchsize, 256, 8, 8]\n",
    "        x = self.maxpool(x) # [Batchsize, 256, 4, 4]\n",
    "        \n",
    "        x = self.conv4_1(x) # [Batchsize, 512, 4, 4]\n",
    "        x = self.conv4_2(x) # [Batchsize, 512, 4, 4]\n",
    "        x = self.maxpool(x) # [Batchsize, 512, 2, 2]\n",
    "        \n",
    "        x = self.conv5_1(x) # [Batchsize, 512, 2, 2]\n",
    "        x = self.conv5_2(x) # [Batchsize, 512, 2, 2]\n",
    "        x = self.maxpool(x) # [Batchsize, 512, 1, 1]\n",
    "\n",
    "        x = x.view(x.size(0), -1) # [Batchsize, 512]\n",
    "        \n",
    "        x = self.linear_layers(x) # [Batchsize, num_classes]\n",
    "\n",
    "        \n",
    "        return x"
   ]
  },
  {
   "cell_type": "code",
   "execution_count": null,
   "metadata": {},
   "outputs": [],
   "source": [
    "vgg = VGG11(10)\n",
    "summary(vgg, batch_size=-1, input_size=(3, 32, 32), device='cpu')\n",
    "vgg = vgg.to(device)\n",
    "vgg.train()\n",
    "# print(vgg.state_dict())"
   ]
  },
  {
   "cell_type": "code",
   "execution_count": null,
   "metadata": {},
   "outputs": [],
   "source": [
    "vgg = VGG11(10)\n",
    "summary(vgg, batch_size=-1, input_size=(3, 32, 32), device='cpu')"
   ]
  },
  {
   "cell_type": "code",
   "execution_count": null,
   "metadata": {},
   "outputs": [],
   "source": [
    "# state dictionary\n",
    "a = {\n",
    "    \"key\": 5,\n",
    "    \"name\": \"dongmin\",\n",
    "    \"age\": 27\n",
    "}"
   ]
  },
  {
   "cell_type": "code",
   "execution_count": null,
   "metadata": {},
   "outputs": [],
   "source": [
    "print(a[\"name\"])"
   ]
  },
  {
   "cell_type": "code",
   "execution_count": null,
   "metadata": {},
   "outputs": [],
   "source": [
    "for k, v in a.items():\n",
    "    print(f'{k} : {v}')"
   ]
  },
  {
   "cell_type": "code",
   "execution_count": null,
   "metadata": {},
   "outputs": [],
   "source": [
    "state_dict = vgg.state_dict()\n",
    "type(state_dict)"
   ]
  },
  {
   "cell_type": "code",
   "execution_count": null,
   "metadata": {},
   "outputs": [],
   "source": [
    "# implementation\n",
    "# print state_dict\n",
    "for k, v in state_dict.items():\n",
    "    print(k)"
   ]
  },
  {
   "cell_type": "code",
   "execution_count": null,
   "metadata": {},
   "outputs": [],
   "source": [
    "weight = state_dict[\"conv1_1.0.weight\"]\n",
    "print(weight.shape)\n",
    "print(weight)"
   ]
  },
  {
   "cell_type": "code",
   "execution_count": null,
   "metadata": {},
   "outputs": [],
   "source": [
    "vgg = vgg.to(device)\n",
    "vgg.train()"
   ]
  },
  {
   "cell_type": "code",
   "execution_count": null,
   "metadata": {},
   "outputs": [],
   "source": [
    "# Loading and normalizing CIFAR-10\n",
    "import torch\n",
    "import torchvision\n",
    "import torchvision.transforms as transforms\n",
    "\n",
    "import torch.optim as optim\n",
    "\n",
    "\n",
    "transform_train = transforms.Compose([\n",
    "     transforms.ToTensor(),\n",
    "     transforms.Normalize((0.5, 0.5, 0.5), (0.5, 0.5, 0.5)) #normalization value for cifar10\n",
    "    ])\n",
    "\n",
    "\n",
    "transform_test = transforms.Compose([\n",
    "    transforms.ToTensor(),\n",
    "    transforms.Normalize((0.5, 0.5, 0.5), (0.5, 0.5, 0.5)),\n",
    "])\n",
    "\n",
    "trainset = torchvision.datasets.CIFAR10(root='./data', train=True,\n",
    "                                      download=True, transform=transform_train)\n",
    "trainloader = torch.utils.data.DataLoader(trainset, batch_size=64,\n",
    "                                         shuffle=True, num_workers=2)\n",
    "\n",
    "testset = torchvision.datasets.CIFAR10(root='./data', train=False,\n",
    "                                      download=True, transform=transform_test)\n",
    "testloader = torch.utils.data.DataLoader(testset, batch_size=4,\n",
    "                                        shuffle=False, num_workers=2)\n",
    "\n",
    "\n",
    "classes = ('plane', 'car', 'bird', 'cat', 'deer', 'dog', 'frog', 'horse', 'ship', 'truck')\n",
    "\n",
    "# Loss and optimizer\n",
    "criterion = nn.CrossEntropyLoss()\n",
    "optimizer = optim.Adam(vgg.parameters(), lr=0.001)\n",
    "\n",
    "print(len(trainloader))"
   ]
  },
  {
   "cell_type": "code",
   "execution_count": null,
   "metadata": {},
   "outputs": [],
   "source": [
    "import os\n",
    "save_folder = './checkpoints'\n",
    "os.makedirs(save_folder, exist_ok=True)"
   ]
  },
  {
   "cell_type": "code",
   "execution_count": null,
   "metadata": {},
   "outputs": [],
   "source": [
    "torch.save(vgg.state_dict(), \"checkpoints/vgg_epoch0.pth\")\n",
    "state_dict_before = vgg.state_dict()\n",
    "state_dict_after = torch.load(\"checkpoints/vgg_epoch0.pth\")"
   ]
  },
  {
   "cell_type": "code",
   "execution_count": null,
   "metadata": {},
   "outputs": [],
   "source": [
    "print(state_dict_before['conv1_1.0.weight'])"
   ]
  },
  {
   "cell_type": "code",
   "execution_count": null,
   "metadata": {},
   "outputs": [],
   "source": [
    "print(state_dict_after['conv1_1.0.weight'])"
   ]
  },
  {
   "cell_type": "code",
   "execution_count": null,
   "metadata": {
    "tags": []
   },
   "outputs": [],
   "source": [
    "### Train the network\n",
    "for epoch in range(3):\n",
    "    running_loss = 0.0\n",
    "    correct = 0\n",
    "    total = 0\n",
    "    for i, data in enumerate(trainloader):\n",
    "        # get the inputs\n",
    "        inputs, labels = data\n",
    "        inputs, labels = inputs.to(device), labels.to(device)\n",
    "\n",
    "        # zero the parameter gradients\n",
    "        optimizer.zero_grad()\n",
    "\n",
    "        # forward + backward + optimize\n",
    "        outputs = vgg(inputs)\n",
    "        loss = criterion(outputs, labels)\n",
    "        loss.backward()\n",
    "        optimizer.step()\n",
    "        running_loss += loss.item()\n",
    "        \n",
    "        _, predicted = outputs.max(1)\n",
    "        total += labels.size(0)\n",
    "        correct += predicted.eq(labels).sum().item()\n",
    "        \n",
    "        # print statistics\n",
    "        if i % 100 == 99:\n",
    "            print('[%d, %5d] loss: %.3f' %\n",
    "                 (epoch + 1, i + 1, running_loss / 100))\n",
    "            running_loss = 0.0\n",
    "    \n",
    "    #save models\n",
    "    ##implement this\n",
    "\n",
    "    torch.save(\n",
    "        {\n",
    "            'state_dict': vgg.state_dict(),\n",
    "            'epoch': epoch\n",
    "        },\n",
    "        f'./checkpoints/vgg_epoch{epoch+1}.pth')\n",
    "    torch.save(vgg.state_dict(), f'./checkpoints/vgg_latest.pth')\n",
    "    \n",
    "print('Finished Training')"
   ]
  },
  {
   "cell_type": "code",
   "execution_count": null,
   "metadata": {
    "tags": []
   },
   "outputs": [],
   "source": [
    "#load model\n",
    "vgg_before = VGG11(10)\n",
    "checkpoint = torch.load(\"./checkpoints/vgg_epoch1.pth\")"
   ]
  },
  {
   "cell_type": "code",
   "execution_count": null,
   "metadata": {},
   "outputs": [],
   "source": [
    "vgg_before.load_state_dict(checkpoint['state_dict'])"
   ]
  },
  {
   "cell_type": "code",
   "execution_count": null,
   "metadata": {},
   "outputs": [],
   "source": [
    "vgg_before.load_state_dict(checkpoint['state_dict'])"
   ]
  }
 ],
 "metadata": {
  "kernelspec": {
   "display_name": "Python 3",
   "language": "python",
   "name": "python3"
  },
  "language_info": {
   "codemirror_mode": {
    "name": "ipython",
    "version": 3
   },
   "file_extension": ".py",
   "mimetype": "text/x-python",
   "name": "python",
   "nbconvert_exporter": "python",
   "pygments_lexer": "ipython3",
   "version": "3.8.8"
  }
 },
 "nbformat": 4,
 "nbformat_minor": 4
}
