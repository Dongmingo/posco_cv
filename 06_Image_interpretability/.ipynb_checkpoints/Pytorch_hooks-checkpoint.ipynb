{
 "cells": [
  {
   "cell_type": "code",
   "execution_count": 1,
   "id": "a8d9052f-f023-4331-ac1a-cd228370d30a",
   "metadata": {},
   "outputs": [],
   "source": [
    "import torch \n",
    "import torch.nn as nn"
   ]
  },
  {
   "cell_type": "code",
   "execution_count": 15,
   "id": "cd948c15-fb7d-4524-8fff-9a9cd228c37d",
   "metadata": {},
   "outputs": [],
   "source": [
    "class SumNet(nn.Module):\n",
    "    def __init__(self):\n",
    "        super(SumNet, self).__init__()\n",
    "        \n",
    "    def forward(self, a, b, c):\n",
    "        d = a + b + c\n",
    "        print(\"forward called\")\n",
    "        return d\n",
    "\n",
    "output_list = []    \n",
    "\n",
    "def forward_hook(module, inputs, output):\n",
    "    print(\"forward_hook_called\")\n",
    "    print(\"inputs\", inputs)\n",
    "    print(\"outputs\", output)\n",
    "    output_list.append(output)\n",
    "    return output + random \n",
    "\n",
    "sum_net = SumNet()\n",
    "\n",
    "hook = sum_net.register_forward_hook(forward_hook)\n",
    "\n",
    "a = torch.tensor(1.0)\n",
    "b = torch.tensor(2.0)\n",
    "c = torch.tensor(3.0)"
   ]
  },
  {
   "cell_type": "code",
   "execution_count": 16,
   "id": "fe630891-f4a2-45da-87b5-2ac6280cab05",
   "metadata": {},
   "outputs": [
    {
     "name": "stdout",
     "output_type": "stream",
     "text": [
      "forward called\n",
      "forward_hook_called\n",
      "inputs (tensor(1.), tensor(2.), tensor(3.))\n",
      "outputs tensor(6.)\n",
      "d: tensor(106.)\n",
      "[tensor(6.)]\n"
     ]
    }
   ],
   "source": [
    "d = sum_net(a, b, c) #forward\n",
    "print(\"d:\", d)\n",
    "print(output_list)"
   ]
  },
  {
   "cell_type": "code",
   "execution_count": 17,
   "id": "59ab244e-bded-452a-a47f-b37ae4b39dab",
   "metadata": {},
   "outputs": [
    {
     "name": "stdout",
     "output_type": "stream",
     "text": [
      "forward called\n",
      "d after: tensor(6.)\n"
     ]
    }
   ],
   "source": [
    "hook.remove()\n",
    "d_after = sum_net(a, b, c)\n",
    "print(\"d after:\", d_after)"
   ]
  },
  {
   "cell_type": "code",
   "execution_count": 10,
   "id": "05dab4de-503a-48e5-82ec-6b64436d0210",
   "metadata": {},
   "outputs": [],
   "source": [
    "class MyMultiply(nn.Module):\n",
    "    def __init__(self):\n",
    "        super(MyMultiply, self).__init__()\n",
    "        \n",
    "    def forward(self, a, b, c):\n",
    "        print(\"forward called\")\n",
    "        return a*(b*c)\n",
    "\n",
    "my_multiply = MyMultiply()\n",
    "\n",
    "grad_list = []\n",
    "def grad_func(grad):\n",
    "    print(\"grad called\")\n",
    "    print(\"grad\", grad)\n",
    "    grad_list.append(grad)\n",
    "    return grad\n",
    "\n",
    "a = torch.tensor(2.0, requires_grad = True)\n",
    "b = torch.tensor(3.0, requires_grad = True)\n",
    "c = torch.tensor(4.0, requires_grad = True)"
   ]
  },
  {
   "cell_type": "code",
   "execution_count": 11,
   "id": "102ee28c-dcc5-4586-af08-aca40349e868",
   "metadata": {},
   "outputs": [
    {
     "name": "stdout",
     "output_type": "stream",
     "text": [
      "forward called\n",
      "tensor(24., grad_fn=<MulBackward0>)\n"
     ]
    }
   ],
   "source": [
    "d = my_multiply(a, b, c) #forward\n",
    "print(d)"
   ]
  },
  {
   "cell_type": "code",
   "execution_count": 12,
   "id": "4548490a-d2a0-477a-9a30-a73db59a848b",
   "metadata": {},
   "outputs": [
    {
     "name": "stdout",
     "output_type": "stream",
     "text": [
      "backward\n",
      "grad called\n",
      "grad tensor(6.)\n",
      "[tensor(6.)]\n"
     ]
    }
   ],
   "source": [
    "# a.register_hook(grad_func) ## register backward hook\n",
    "# b.register_hook(grad_func)\n",
    "c.register_hook(grad_func)\n",
    "# d.register_hook(grad_func)\n",
    "\n",
    "print(\"backward\") #backward\n",
    "d.backward()\n",
    "\n",
    "print(grad_list)"
   ]
  },
  {
   "cell_type": "code",
   "execution_count": 6,
   "id": "97898ada-779c-452d-8521-cafa01c3190a",
   "metadata": {},
   "outputs": [
    {
     "data": {
      "text/plain": [
       "[tensor(1.), tensor(12.), tensor(8.), tensor(6.)]"
      ]
     },
     "execution_count": 6,
     "metadata": {},
     "output_type": "execute_result"
    }
   ],
   "source": [
    "grad_list"
   ]
  },
  {
   "cell_type": "code",
   "execution_count": null,
   "id": "d4af64dd-656c-4cee-82a0-7fe0923bad69",
   "metadata": {},
   "outputs": [],
   "source": []
  }
 ],
 "metadata": {
  "kernelspec": {
   "display_name": "Python 3",
   "language": "python",
   "name": "python3"
  },
  "language_info": {
   "codemirror_mode": {
    "name": "ipython",
    "version": 3
   },
   "file_extension": ".py",
   "mimetype": "text/x-python",
   "name": "python",
   "nbconvert_exporter": "python",
   "pygments_lexer": "ipython3",
   "version": "3.8.8"
  }
 },
 "nbformat": 4,
 "nbformat_minor": 5
}
