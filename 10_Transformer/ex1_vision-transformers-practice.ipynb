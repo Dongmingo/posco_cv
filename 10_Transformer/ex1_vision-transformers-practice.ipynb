{
 "cells": [
  {
   "cell_type": "markdown",
   "id": "9311e8d0-50bc-4f08-8d9d-1f1e19373699",
   "metadata": {},
   "source": [
    "# Vision Transformer"
   ]
  },
  {
   "cell_type": "code",
   "execution_count": 1,
   "id": "ad09cca0-c6be-4a27-9ff2-36446fd85f47",
   "metadata": {},
   "outputs": [
    {
     "name": "stdout",
     "output_type": "stream",
     "text": [
      "Requirement already satisfied: einops in /root/anaconda3/lib/python3.8/site-packages (0.4.1)\n"
     ]
    }
   ],
   "source": [
    "import torch\n",
    "import torch.nn as nn\n",
    "import torch.nn.functional as F\n",
    "\n",
    "!pip install einops\n",
    "from einops import rearrange, repeat\n",
    "from einops.layers.torch import Rearrange\n",
    "from torch.nn.modules.linear import Linear\n",
    "import torch.nn as nn\n",
    "from torchsummary import summary\n",
    "import math"
   ]
  },
  {
   "cell_type": "markdown",
   "id": "2b3289c2-a692-4aa7-8d03-faa453f486cc",
   "metadata": {},
   "source": [
    "## SelfAttention"
   ]
  },
  {
   "cell_type": "code",
   "execution_count": 2,
   "id": "b97221c5-9897-4700-a7f5-97128deefa6f",
   "metadata": {},
   "outputs": [],
   "source": [
    "def masked_attention(query, key, value, mask=None):\n",
    "    \"\"\"\n",
    "    Inputs:\n",
    "        query: torch.Tensor, (N, d_k)\n",
    "        key: torch.Tensor, (M, d_k)\n",
    "        value: torch.Tensor, (M, d_v)\n",
    "        (optional) mask: torch.Tensor, (N, M) (query, key) = 1 or 0\n",
    "    Output: torch.Tensor, (N, d_v)\n",
    "    \n",
    "    Hint) use torch.Tensor.masked_fill\n",
    "    \"\"\"\n",
    "    d_k = key.shape[1]\n",
    "    \n",
    "    # (step 1) smilarity between query and key\n",
    "    sim = torch.mm(query, key.transpose(-2, -1)) # (N, M) torch.matmul\n",
    "    # (step 2) scaling\n",
    "    sim = sim / math.sqrt(d_k) # (N, M)\n",
    "    # (masking)\n",
    "    if mask is not None:\n",
    "        sim = sim.masked_fill(mask=~mask, value=-np.inf)\n",
    "    # (step 3) softmax\n",
    "    attn = torch.softmax(sim, dim=1) # torch.sum(attn, dim=1) = [1, 1, 1, ...] (N, M)\n",
    "    # (step 4) weighted aggregation!\n",
    "    out = torch.mm(attn, value) # (N, M) * (M, D) = (N, D)\n",
    "    return out"
   ]
  },
  {
   "cell_type": "code",
   "execution_count": 3,
   "id": "c888352f-425c-43eb-9b09-213ec963a1ad",
   "metadata": {},
   "outputs": [
    {
     "name": "stdout",
     "output_type": "stream",
     "text": [
      "torch.Size([3, 6])\n"
     ]
    }
   ],
   "source": [
    "N, M, d_k, d_v = 3, 4, 5, 6\n",
    "\n",
    "query = torch.randn(N, d_k)\n",
    "key = torch.randn(M, d_k)\n",
    "value = torch.randn(M, d_v)\n",
    "\n",
    "out = masked_attention(query, key, value)\n",
    "print(out.shape)"
   ]
  },
  {
   "cell_type": "code",
   "execution_count": 4,
   "id": "354f91ea-0a9a-4732-b23a-7d0322b9d9c3",
   "metadata": {},
   "outputs": [],
   "source": [
    "def batch_masked_multi_head_attention(query, key, value, mask=None):\n",
    "    \"\"\"\n",
    "    Inputs:\n",
    "        query: torch.Tensor, (B, H, N, D)\n",
    "        key: torch.Tensor, (B, H, M, D)\n",
    "        value: torch.Tensor, (B, H, M, D)\n",
    "        (optional) mask: torch.Tensor, (B, N, M)\n",
    "    Output: torch.Tensor, (B, H, N, D)\n",
    "    \n",
    "    Hint) use torch.Tensor.masked_fill\n",
    "    \"\"\"\n",
    "    d_k = key.shape[-1]\n",
    "    \n",
    "    # (step 1) smilarity between query and key\n",
    "    key = key.transpose(2, 3) # (B, H, D, M)\n",
    "    sim = torch.mm(query, key) # (B, H, N, D) * (B, H, D, M) = (B, H, N, M)\n",
    "    # (step 2) scaling\n",
    "    sim = sim / math.sqrt(d_k) # (B, H, N, M)\n",
    "    # (masking)\n",
    "    if mask is not None:\n",
    "        sim = sim.masked_fill(mask=~mask.unsqueeze(1), value=-np.inf) # (B, 1, N, M)\n",
    "    # (step 3) softmax\n",
    "    attn = torch.softmax(sim, dim=-1) # torch.sum(attn, dim=-1) = [1, 1, 1, ...] (B, H, N)\n",
    "    # (step 4) weighted aggregation!\n",
    "    out = torch.mm(attn, value) # (B, H, N, M) * (B, H, M, D) = (B, H, N, D)\n",
    "    return out"
   ]
  },
  {
   "cell_type": "markdown",
   "id": "efbf523f-4193-4ee5-bc38-e6dacb2f99ad",
   "metadata": {},
   "source": [
    "### MultiHeadAttention"
   ]
  },
  {
   "cell_type": "code",
   "execution_count": 5,
   "id": "8f086371-9ea3-4ee5-bc8c-75b795ca0a4f",
   "metadata": {},
   "outputs": [],
   "source": [
    "class MultiHeadAttentionLayer(nn.Module):\n",
    "    def __init__(self, d_model, h):\n",
    "        super(MultiHeadAttentionLayer, self).__init__()\n",
    "        \n",
    "        self.d_model = d_model\n",
    "        self.h = h\n",
    "        self.query_fc_layer = nn.Linear(d_model, d_model)\n",
    "        self.key_fc_layer = nn.Linear(d_model, d_model)\n",
    "        self.value_fc_layer = nn.Linear(d_model, d_model)\n",
    "        self.fc_layer = nn.Linear(d_model, d_model)\n",
    "\n",
    "    def forward(self, query, key, value, mask=None):\n",
    "        # query, key, value's shape: [Batch, seq_len, d_model] [Batch, 197, 768]\n",
    "        # mask's shape: [Batch, seq_len, seq_len]\n",
    "        n_batch = query.shape[0] \n",
    "\n",
    "        def transform(x, fc_layer): # reshape (Batch, seq_len, d_model) to (n_batch, h, seq_len, d_k)\n",
    "            out = fc_layer(x) # out's shape: (Batch, seq_len, d_model)\n",
    "            out = out.view(n_batch, -1, self.h, self.d_model//self.h) # out's shape: (Batch, seq_len, h, d_k) [Batch, 197, 12, 64]\n",
    "            out = out.transpose(1, 2) # out's shape: (Batch, h, seq_len, d_k) [Batch, 12, 197, 64]\n",
    "            return out\n",
    "\n",
    "        query = transform(query, self.query_fc_layer) # query, key, value's shape: (Batch, h, seq_len ,d_k) #[Batch, 12, 197, 64]\n",
    "        key = transform(key, self.key_fc_layer) #[Batch, 12, 197, 64]\n",
    "        value = transform(value, self.value_fc_layer) #[Batch, 12, 197, 64]\n",
    "\n",
    "        if mask is not None:\n",
    "            mask = mask.unsqueeze(1) # mask's shape: (Batch, 1, seq_len, seq_len)\n",
    "\n",
    "        out = self.calculate_attention(query, key, value, mask) # out's shape: (Batch, h, seq_len, d_k)\n",
    "        out = out.transpose(1, 2) # out's shape: (Batch, seq_len, h, d_k)\n",
    "        out = out.reshape(n_batch, -1, self.d_model) # out's shape: (Batch, seq_len, d_model)\n",
    "        out = self.fc_layer(out) # out's shape: (Batch, seq_len, d_embed)\n",
    "        return out\n",
    "    \n",
    "    def calculate_attention(self,query, key, value, mask = None):\n",
    "        # query, key, value's shape: (Batch, h, seq_len ,d_k)\n",
    "        d_k = key.size(-1) # get d_k\n",
    "        attention_score = torch.matmul(query, key.transpose(-2, -1)) # Q x K^T, attention_score's shape: (n_batch, h, seq_len, seq_len)\n",
    "        attention_score = attention_score / math.sqrt(d_k) # scaling\n",
    "        if mask is not None:\n",
    "            attention_score = attention_score.masked_fill(mask==0, -1e9) # masking\n",
    "        attention_prob = F.softmax(attention_score, dim=-1) # softmax, attention_prob's shape: (n_batch, h, seq_len, seq_len)\n",
    "        out = torch.matmul(attention_prob, value) # Attention_Prob x V, out's shape: (n_batch, h, seq_len, d_k)\n",
    "        return out"
   ]
  },
  {
   "cell_type": "markdown",
   "id": "e785e5d5-6d3e-483c-b381-699f703fceee",
   "metadata": {},
   "source": [
    "### Transformer Encoder"
   ]
  },
  {
   "cell_type": "code",
   "execution_count": 11,
   "id": "5854032d-74ab-422b-acbd-86f5e683828b",
   "metadata": {},
   "outputs": [],
   "source": [
    "# Now create the Transformer Encoder Block\n",
    "class TransformerEncoderBlock(nn.Module):\n",
    "    def __init__(self, d_model =768, num_heads = 12):\n",
    "        super(TransformerEncoderBlock, self).__init__()\n",
    "        \n",
    "        self.layernorm = nn.LayerNorm(d_model)\n",
    "        self.mh_attn = MultiHeadAttentionLayer(d_model = d_model, h = num_heads)\n",
    "               \n",
    "        self.second = nn.Sequential(\n",
    "                nn.LayerNorm(d_model),\n",
    "                nn.Linear(d_model, d_model * 4), ##mlp hidden dim 4배 키운다음에 다시 줄여줌\n",
    "                nn.GELU(),\n",
    "                nn.Linear(d_model * 4, d_model)\n",
    "            )\n",
    "    \n",
    "    def forward(self, x):\n",
    "        ##input has shape: [Batch, 197, 768]\n",
    "        #first\n",
    "        res = x\n",
    "        x = self.layernorm(x)\n",
    "        x = self.mh_attn(x, x, x)\n",
    "        x = x + res\n",
    "        \n",
    "        #second\n",
    "        res = x\n",
    "        x = self.second(x)\n",
    "        x = x + res\n",
    "        \n",
    "        return x\n",
    "    \n",
    "    \n",
    "# TransformerEncoder consists of L blocks of TransformerBlock\n",
    "class TransformerEncoder(nn.Module):\n",
    "    def __init__(self, depth=12, d_model = 768, num_heads = 12):\n",
    "        super(TransformerEncoder, self).__init__()\n",
    "        \n",
    "        blocks = []\n",
    "        for i in range(depth):\n",
    "            blocks.append(TransformerEncoderBlock(d_model = d_model, num_heads = num_heads))\n",
    "        \n",
    "        self.transformer_encoder = nn.Sequential(*blocks)\n",
    "        \n",
    "    def forward(self, x):\n",
    "        return self.transformer_encoder(x)"
   ]
  },
  {
   "cell_type": "markdown",
   "id": "bbc52c90-c352-4624-8693-85fe6d08b54e",
   "metadata": {},
   "source": [
    "### ViT Class"
   ]
  },
  {
   "cell_type": "code",
   "execution_count": 12,
   "id": "b8bd32ed-72e6-456c-b001-b09ec6328e7c",
   "metadata": {},
   "outputs": [],
   "source": [
    "class ViT(nn.Module):\n",
    "    def __init__(self, img_size = 224, patch_size = 16, \n",
    "                num_class = 10, d_model = 768, n_head = 12, \n",
    "                n_layers = 12, channels = 3):\n",
    "        super(ViT, self).__init__()\n",
    "\n",
    "        img_h, img_w = img_size, img_size ##224, 224\n",
    "        patch_h, patch_w = patch_size, patch_size  ## 16, 16\n",
    "\n",
    "        assert img_h % patch_h == 0, 'image dimension must be divisible by patch dimension'\n",
    "\n",
    "        num_patches = (img_h // patch_h) * (img_w // patch_w) ## 14 * 14\n",
    "        patch_dim = channels * patch_h * patch_w  # c*p*p ## 3 * 16 * 16\n",
    "\n",
    "        self.patches_embed = nn.Sequential(\n",
    "            #[Batch, channel, img_h, img_w] = [Batch, channel, h * patch_h, w * patch_w]\n",
    "            # [Batch, h * w, patch_h * patch_w * c]\n",
    "            Rearrange('b c (h p1) (w p2) -> b (h w) (p1 p2 c)', p1 = patch_h, p2 = patch_w), \n",
    "            nn.Linear(patch_dim, d_model)\n",
    "        ) #[Batch, h * w, d_model]\n",
    "        \n",
    "        \n",
    "#         input = x\n",
    "#         x = x.view(x.shape[0], c, patch_h, patch_size, patch_w, patch_size)\n",
    "#         x = x.permute(0, 2, 4, 3, 5, 2) # [batch, patch_h, patch_w, patch_size, patch_size, c]\n",
    "#         x = x.view(x.shape[0], -1, patch_size * patch_size * 3)\n",
    "        \n",
    "        ##define class token\n",
    "        ## [1, 1, d_model]\n",
    "        self.class_token = nn.Parameter(torch.randn(1, 1, d_model)) ##class token을 붙이면 총 n+1 token\n",
    "        \n",
    "        ##learnable positional embedding\n",
    "        ## [1, num_patches + 1, d_model]\n",
    "        self.pos_embed = nn.Parameter(torch.randn(1, num_patches + 1, d_model)) ##learnable positional embedding\n",
    "        \n",
    "        \n",
    "        ## define transformer\n",
    "        self.transformer = TransformerEncoder(depth = n_layers) ##저희가 구현한 transformerEncoder 모듈입니다. \n",
    "        \n",
    "#         encoder_layer = nn.TransformerEncoderLayer(d_model = d_model, nhead = n_head)\n",
    "#         self.transformer = nn.TransformerEncoder(encoder_layer, num_layers = n_layers) ### 이와 같이 torch.nn에 정의되어있는 TransformerEncoder를 사용할 수 있습니다. \n",
    "        \n",
    "        ###  mlp head\n",
    "        self.mlp_head = nn.Sequential(\n",
    "            nn.LayerNorm(d_model),\n",
    "            nn.Linear(d_model, num_class)\n",
    "        )\n",
    "    \n",
    "    def forward(self, img):\n",
    "        #[Batch, 3, 224, 224]\n",
    "        ##input image shape [B, 3, img_h, img_w] or [B, 3, h * patch_size, w * patch_size]\n",
    "        ##after rearrage [B, h * w, patch_size * patch_size * c]\n",
    "        ### 각 patch의 embedding을 만들어줌\n",
    "        x = self.patches_embed(img) ## after linear [B, h * w, d_model] [Batch, 196, 768]\n",
    "        \n",
    "        b, n, _ = x.shape\n",
    "        ###Class token을 만들어줌 #[1, 1, 768]  -> [B, 1, 768]\n",
    "        class_token = repeat(self.class_token, '() n d -> b n d', b = b) # [1, 1, d_model] 사이즈인 class 토큰을 배치 개수만큼 늘려줌. [B, 1, d_model]\n",
    "        \n",
    "        #Concat Class Token with image patches\n",
    "        x = torch.cat((class_token,x), dim=1) ## cls token과 image patches를 concat. [B, h * w + 1, d_model] [B, ]\n",
    "        ## [Batch, 197, 768]\n",
    "        \n",
    "        ## positional encoding을 더해줌.\n",
    "        x = x + self.pos_embed[:, :(n+1)] ## [B, h * w + 1, d_model]\n",
    "        ## [Batch, 197, 768]\n",
    "        \n",
    "        ## transformer에 인풋으로 넣어준다.\n",
    "        x = self.transformer(x) ##[B, h * w + 1, d_model]\n",
    "        ## [Batch, 197, 768 ]\n",
    "        \n",
    "        \n",
    "        ## cls token 가져옴\n",
    "        x = x[:, 0] ##prediction을 위한 cls token ## [B, d_model]\n",
    "        #[Batch, 768]\n",
    "        \n",
    "        #MLP Head\n",
    "        x = self.mlp_head(x)\n",
    "        #[Batch, 10]\n",
    "        return x\n",
    "\n"
   ]
  },
  {
   "cell_type": "markdown",
   "id": "97c37de2-d3e6-4657-9719-8622070f92b1",
   "metadata": {},
   "source": [
    "### Load Train, Test Dataset and Define Train, Test Loader"
   ]
  },
  {
   "cell_type": "code",
   "execution_count": 13,
   "id": "aaadf1eb-cca4-4437-9d7e-3c3a9f7f9264",
   "metadata": {},
   "outputs": [
    {
     "name": "stdout",
     "output_type": "stream",
     "text": [
      "Files already downloaded and verified\n",
      "Files already downloaded and verified\n",
      "50000\n",
      "10000\n"
     ]
    }
   ],
   "source": [
    "# Loading and normalizing CIFAR-10\n",
    "import torchvision\n",
    "import torchvision.transforms as transforms\n",
    "\n",
    "transform = transforms.Compose(\n",
    "    [transforms.ToTensor(),\n",
    "     transforms.Resize(224),\n",
    "     transforms.Normalize((0.5, 0.5, 0.5), (0.5, 0.5, 0.5))])\n",
    "\n",
    "trainset = torchvision.datasets.CIFAR10(root='./data', train=True,\n",
    "                                      download=True, transform=transform)\n",
    "trainloader = torch.utils.data.DataLoader(trainset, batch_size=4,\n",
    "                                         shuffle=True, num_workers=2)\n",
    "\n",
    "testset = torchvision.datasets.CIFAR10(root='./data', train=False,\n",
    "                                      download=True, transform=transform)\n",
    "testloader = torch.utils.data.DataLoader(testset, batch_size=4,\n",
    "                                        shuffle=False, num_workers=2)\n",
    "print(len(trainset))\n",
    "print(len(testset))\n",
    "classes = ('plane', 'car', 'bird', 'cat', 'deer', \n",
    "           'dog', 'frog', 'horse', 'ship', 'truck')"
   ]
  },
  {
   "cell_type": "markdown",
   "id": "e350b120-76b2-4042-9996-86b530634640",
   "metadata": {},
   "source": [
    "### For Visualization"
   ]
  },
  {
   "cell_type": "code",
   "execution_count": 14,
   "id": "6e217f1d-8d77-443e-a9ef-1c639dd78d75",
   "metadata": {},
   "outputs": [
    {
     "data": {
      "image/png": "[encoded data removed]",
      "text/plain": [
       "<Figure size 432x288 with 1 Axes>"
      ]
     },
     "metadata": {
      "needs_background": "light"
     },
     "output_type": "display_data"
    },
    {
     "name": "stdout",
     "output_type": "stream",
     "text": [
      "truck  bird  ship  deer\n"
     ]
    }
   ],
   "source": [
    "# display some images\n",
    "\n",
    "import matplotlib.pyplot as plt\n",
    "import numpy as np\n",
    "\n",
    "def imshow(img):\n",
    "    img = img / 2 + 0.5  # Unnormalize\n",
    "    npimg = img.numpy()\n",
    "    plt.imshow(np.transpose(npimg, (1, 2, 0)))\n",
    "    plt.show()\n",
    "    \n",
    "    \n",
    "# get some random training images\n",
    "dataiter = iter(trainloader)\n",
    "images, labels = dataiter.next()\n",
    "\n",
    "# show images\n",
    "imshow(torchvision.utils.make_grid(images))\n",
    "\n",
    "# print labels\n",
    "print(' '.join('%5s' % classes[labels[j]] for j in range(4)))"
   ]
  },
  {
   "cell_type": "markdown",
   "id": "4d597cb1-ede6-4374-83e7-5186c69ad23c",
   "metadata": {},
   "source": [
    "### Define model"
   ]
  },
  {
   "cell_type": "code",
   "execution_count": 15,
   "id": "315dc896-0eb5-4de0-a41c-f6d920709afc",
   "metadata": {},
   "outputs": [
    {
     "name": "stdout",
     "output_type": "stream",
     "text": [
      "torch.Size([16, 10])\n"
     ]
    }
   ],
   "source": [
    "device = \"cuda:0\"\n",
    "x = torch.randn(16,3,224,224).to(device)\n",
    "model = ViT(n_head = 6).to(device)\n",
    "output = model(x)\n",
    "print(output.shape)"
   ]
  },
  {
   "cell_type": "markdown",
   "id": "2731b7fa-ea90-4d1f-a54a-5afbfdb1b99b",
   "metadata": {},
   "source": [
    "### Define Loss and optimizer"
   ]
  },
  {
   "cell_type": "code",
   "execution_count": 16,
   "id": "5265c48a-5f6a-4804-971d-8890e136f119",
   "metadata": {},
   "outputs": [],
   "source": [
    "import torch.optim as optim\n",
    "\n",
    "# define a loss and optimizer\n",
    "criterion = nn.CrossEntropyLoss()\n",
    "optimizer = optim.Adam(model.parameters(), lr=0.0001)"
   ]
  },
  {
   "cell_type": "markdown",
   "id": "8671c7cb-adfd-4349-994a-415488d48dec",
   "metadata": {},
   "source": [
    "### Training"
   ]
  },
  {
   "cell_type": "code",
   "execution_count": 17,
   "id": "103ad83a-ae07-4051-af5e-00c481ab4b9b",
   "metadata": {
    "tags": []
   },
   "outputs": [
    {
     "name": "stdout",
     "output_type": "stream",
     "text": [
      "Start Training \n",
      "[1,     1] loss: 0.004154\n",
      "[1,    51] loss: 0.301965\n",
      "[1,   101] loss: 0.234038\n",
      "[1,   151] loss: 0.234874\n",
      "[1,   201] loss: 0.237495\n",
      "[1,   251] loss: 0.226717\n",
      "[1,   301] loss: 0.231063\n",
      "[1,   351] loss: 0.220311\n",
      "[1,   401] loss: 0.213876\n",
      "[1,   451] loss: 0.205944\n",
      "[1,   501] loss: 0.209500\n",
      "[1,   551] loss: 0.208427\n",
      "[1,   601] loss: 0.213725\n",
      "[1,   651] loss: 0.215761\n",
      "[1,   701] loss: 0.195238\n",
      "[1,   751] loss: 0.208445\n",
      "[1,   801] loss: 0.203962\n",
      "[1,   851] loss: 0.217705\n",
      "[1,   901] loss: 0.200498\n",
      "[1,   951] loss: 0.196163\n",
      "[1,  1001] loss: 0.207225\n",
      "[1,  1051] loss: 0.202954\n",
      "[1,  1101] loss: 0.190841\n",
      "[1,  1151] loss: 0.210985\n",
      "[1,  1201] loss: 0.202158\n",
      "[1,  1251] loss: 0.199322\n",
      "[1,  1301] loss: 0.201088\n",
      "[1,  1351] loss: 0.189266\n",
      "[1,  1401] loss: 0.205669\n",
      "[1,  1451] loss: 0.196401\n",
      "[1,  1501] loss: 0.197915\n",
      "[1,  1551] loss: 0.198066\n",
      "[1,  1601] loss: 0.193360\n",
      "[1,  1651] loss: 0.192805\n",
      "[1,  1701] loss: 0.187569\n",
      "[1,  1751] loss: 0.188970\n",
      "[1,  1801] loss: 0.196853\n",
      "[1,  1851] loss: 0.194491\n",
      "[1,  1901] loss: 0.184275\n",
      "[1,  1951] loss: 0.186316\n",
      "[1,  2001] loss: 0.189309\n",
      "[1,  2051] loss: 0.193737\n",
      "[1,  2101] loss: 0.195328\n",
      "[1,  2151] loss: 0.189198\n",
      "[1,  2201] loss: 0.183442\n",
      "[1,  2251] loss: 0.181758\n",
      "[1,  2301] loss: 0.192987\n",
      "[1,  2351] loss: 0.194554\n",
      "[1,  2401] loss: 0.186796\n",
      "[1,  2451] loss: 0.173389\n",
      "[1,  2501] loss: 0.195484\n",
      "[1,  2551] loss: 0.191475\n",
      "[1,  2601] loss: 0.186355\n",
      "[1,  2651] loss: 0.200170\n",
      "[1,  2701] loss: 0.184098\n",
      "[1,  2751] loss: 0.185055\n",
      "[1,  2801] loss: 0.184949\n",
      "[1,  2851] loss: 0.187115\n",
      "[1,  2901] loss: 0.186956\n",
      "[1,  2951] loss: 0.199647\n",
      "[1,  3001] loss: 0.185761\n",
      "[1,  3051] loss: 0.188486\n",
      "[1,  3101] loss: 0.185302\n",
      "[1,  3151] loss: 0.191318\n",
      "[1,  3201] loss: 0.190721\n",
      "[1,  3251] loss: 0.186967\n",
      "[1,  3301] loss: 0.179548\n",
      "[1,  3351] loss: 0.180588\n",
      "[1,  3401] loss: 0.189221\n",
      "[1,  3451] loss: 0.183538\n",
      "[1,  3501] loss: 0.191327\n",
      "[1,  3551] loss: 0.179692\n",
      "[1,  3601] loss: 0.182510\n",
      "[1,  3651] loss: 0.185863\n",
      "[1,  3701] loss: 0.194463\n",
      "[1,  3751] loss: 0.194056\n",
      "[1,  3801] loss: 0.193763\n",
      "[1,  3851] loss: 0.173816\n",
      "[1,  3901] loss: 0.168699\n",
      "[1,  3951] loss: 0.175255\n",
      "[1,  4001] loss: 0.180310\n",
      "[1,  4051] loss: 0.182688\n",
      "[1,  4101] loss: 0.190033\n",
      "[1,  4151] loss: 0.172289\n",
      "[1,  4201] loss: 0.184224\n",
      "[1,  4251] loss: 0.187544\n",
      "[1,  4301] loss: 0.182882\n",
      "[1,  4351] loss: 0.177159\n",
      "[1,  4401] loss: 0.180602\n",
      "[1,  4451] loss: 0.180507\n",
      "[1,  4501] loss: 0.188522\n",
      "[1,  4551] loss: 0.166782\n",
      "[1,  4601] loss: 0.186163\n",
      "[1,  4651] loss: 0.177833\n",
      "[1,  4701] loss: 0.169032\n",
      "[1,  4751] loss: 0.182593\n",
      "[1,  4801] loss: 0.171659\n",
      "[1,  4851] loss: 0.175524\n",
      "[1,  4901] loss: 0.181197\n",
      "[1,  4951] loss: 0.187170\n",
      "[1,  5001] loss: 0.188330\n"
     ]
    },
    {
     "ename": "KeyboardInterrupt",
     "evalue": "",
     "output_type": "error",
     "traceback": [
      "\u001b[0;31m---------------------------------------------------------------------------\u001b[0m",
      "\u001b[0;31mKeyboardInterrupt\u001b[0m                         Traceback (most recent call last)",
      "\u001b[0;32m<ipython-input-17-0edba9b8a525>\u001b[0m in \u001b[0;36m<module>\u001b[0;34m\u001b[0m\n\u001b[1;32m     16\u001b[0m         \u001b[0mloss\u001b[0m \u001b[0;34m=\u001b[0m \u001b[0mcriterion\u001b[0m\u001b[0;34m(\u001b[0m\u001b[0moutputs\u001b[0m\u001b[0;34m,\u001b[0m \u001b[0mlabels\u001b[0m\u001b[0;34m)\u001b[0m\u001b[0;34m\u001b[0m\u001b[0;34m\u001b[0m\u001b[0m\n\u001b[1;32m     17\u001b[0m         \u001b[0mloss\u001b[0m\u001b[0;34m.\u001b[0m\u001b[0mbackward\u001b[0m\u001b[0;34m(\u001b[0m\u001b[0;34m)\u001b[0m\u001b[0;34m\u001b[0m\u001b[0;34m\u001b[0m\u001b[0m\n\u001b[0;32m---> 18\u001b[0;31m         \u001b[0moptimizer\u001b[0m\u001b[0;34m.\u001b[0m\u001b[0mstep\u001b[0m\u001b[0;34m(\u001b[0m\u001b[0;34m)\u001b[0m\u001b[0;34m\u001b[0m\u001b[0;34m\u001b[0m\u001b[0m\n\u001b[0m\u001b[1;32m     19\u001b[0m \u001b[0;34m\u001b[0m\u001b[0m\n\u001b[1;32m     20\u001b[0m         \u001b[0mrunning_loss\u001b[0m \u001b[0;34m+=\u001b[0m \u001b[0mloss\u001b[0m\u001b[0;34m.\u001b[0m\u001b[0mitem\u001b[0m\u001b[0;34m(\u001b[0m\u001b[0;34m)\u001b[0m\u001b[0;34m\u001b[0m\u001b[0;34m\u001b[0m\u001b[0m\n",
      "\u001b[0;32m~/anaconda3/lib/python3.8/site-packages/torch/optim/optimizer.py\u001b[0m in \u001b[0;36mwrapper\u001b[0;34m(*args, **kwargs)\u001b[0m\n\u001b[1;32m     86\u001b[0m                 \u001b[0mprofile_name\u001b[0m \u001b[0;34m=\u001b[0m \u001b[0;34m\"Optimizer.step#{}.step\"\u001b[0m\u001b[0;34m.\u001b[0m\u001b[0mformat\u001b[0m\u001b[0;34m(\u001b[0m\u001b[0mobj\u001b[0m\u001b[0;34m.\u001b[0m\u001b[0m__class__\u001b[0m\u001b[0;34m.\u001b[0m\u001b[0m__name__\u001b[0m\u001b[0;34m)\u001b[0m\u001b[0;34m\u001b[0m\u001b[0;34m\u001b[0m\u001b[0m\n\u001b[1;32m     87\u001b[0m                 \u001b[0;32mwith\u001b[0m \u001b[0mtorch\u001b[0m\u001b[0;34m.\u001b[0m\u001b[0mautograd\u001b[0m\u001b[0;34m.\u001b[0m\u001b[0mprofiler\u001b[0m\u001b[0;34m.\u001b[0m\u001b[0mrecord_function\u001b[0m\u001b[0;34m(\u001b[0m\u001b[0mprofile_name\u001b[0m\u001b[0;34m)\u001b[0m\u001b[0;34m:\u001b[0m\u001b[0;34m\u001b[0m\u001b[0;34m\u001b[0m\u001b[0m\n\u001b[0;32m---> 88\u001b[0;31m                     \u001b[0;32mreturn\u001b[0m \u001b[0mfunc\u001b[0m\u001b[0;34m(\u001b[0m\u001b[0;34m*\u001b[0m\u001b[0margs\u001b[0m\u001b[0;34m,\u001b[0m \u001b[0;34m**\u001b[0m\u001b[0mkwargs\u001b[0m\u001b[0;34m)\u001b[0m\u001b[0;34m\u001b[0m\u001b[0;34m\u001b[0m\u001b[0m\n\u001b[0m\u001b[1;32m     89\u001b[0m             \u001b[0;32mreturn\u001b[0m \u001b[0mwrapper\u001b[0m\u001b[0;34m\u001b[0m\u001b[0;34m\u001b[0m\u001b[0m\n\u001b[1;32m     90\u001b[0m \u001b[0;34m\u001b[0m\u001b[0m\n",
      "\u001b[0;32m~/anaconda3/lib/python3.8/site-packages/torch/autograd/grad_mode.py\u001b[0m in \u001b[0;36mdecorate_context\u001b[0;34m(*args, **kwargs)\u001b[0m\n\u001b[1;32m     26\u001b[0m         \u001b[0;32mdef\u001b[0m \u001b[0mdecorate_context\u001b[0m\u001b[0;34m(\u001b[0m\u001b[0;34m*\u001b[0m\u001b[0margs\u001b[0m\u001b[0;34m,\u001b[0m \u001b[0;34m**\u001b[0m\u001b[0mkwargs\u001b[0m\u001b[0;34m)\u001b[0m\u001b[0;34m:\u001b[0m\u001b[0;34m\u001b[0m\u001b[0;34m\u001b[0m\u001b[0m\n\u001b[1;32m     27\u001b[0m             \u001b[0;32mwith\u001b[0m \u001b[0mself\u001b[0m\u001b[0;34m.\u001b[0m\u001b[0m__class__\u001b[0m\u001b[0;34m(\u001b[0m\u001b[0;34m)\u001b[0m\u001b[0;34m:\u001b[0m\u001b[0;34m\u001b[0m\u001b[0;34m\u001b[0m\u001b[0m\n\u001b[0;32m---> 28\u001b[0;31m                 \u001b[0;32mreturn\u001b[0m \u001b[0mfunc\u001b[0m\u001b[0;34m(\u001b[0m\u001b[0;34m*\u001b[0m\u001b[0margs\u001b[0m\u001b[0;34m,\u001b[0m \u001b[0;34m**\u001b[0m\u001b[0mkwargs\u001b[0m\u001b[0;34m)\u001b[0m\u001b[0;34m\u001b[0m\u001b[0;34m\u001b[0m\u001b[0m\n\u001b[0m\u001b[1;32m     29\u001b[0m         \u001b[0;32mreturn\u001b[0m \u001b[0mcast\u001b[0m\u001b[0;34m(\u001b[0m\u001b[0mF\u001b[0m\u001b[0;34m,\u001b[0m \u001b[0mdecorate_context\u001b[0m\u001b[0;34m)\u001b[0m\u001b[0;34m\u001b[0m\u001b[0;34m\u001b[0m\u001b[0m\n\u001b[1;32m     30\u001b[0m \u001b[0;34m\u001b[0m\u001b[0m\n",
      "\u001b[0;32m~/anaconda3/lib/python3.8/site-packages/torch/optim/adam.py\u001b[0m in \u001b[0;36mstep\u001b[0;34m(self, closure)\u001b[0m\n\u001b[1;32m    131\u001b[0m                     \u001b[0mstate_steps\u001b[0m\u001b[0;34m.\u001b[0m\u001b[0mappend\u001b[0m\u001b[0;34m(\u001b[0m\u001b[0mstate\u001b[0m\u001b[0;34m[\u001b[0m\u001b[0;34m'step'\u001b[0m\u001b[0;34m]\u001b[0m\u001b[0;34m)\u001b[0m\u001b[0;34m\u001b[0m\u001b[0;34m\u001b[0m\u001b[0m\n\u001b[1;32m    132\u001b[0m \u001b[0;34m\u001b[0m\u001b[0m\n\u001b[0;32m--> 133\u001b[0;31m             F.adam(params_with_grad,\n\u001b[0m\u001b[1;32m    134\u001b[0m                    \u001b[0mgrads\u001b[0m\u001b[0;34m,\u001b[0m\u001b[0;34m\u001b[0m\u001b[0;34m\u001b[0m\u001b[0m\n\u001b[1;32m    135\u001b[0m                    \u001b[0mexp_avgs\u001b[0m\u001b[0;34m,\u001b[0m\u001b[0;34m\u001b[0m\u001b[0;34m\u001b[0m\u001b[0m\n",
      "\u001b[0;32m~/anaconda3/lib/python3.8/site-packages/torch/optim/_functional.py\u001b[0m in \u001b[0;36madam\u001b[0;34m(params, grads, exp_avgs, exp_avg_sqs, max_exp_avg_sqs, state_steps, amsgrad, beta1, beta2, lr, weight_decay, eps)\u001b[0m\n\u001b[1;32m     85\u001b[0m         \u001b[0;31m# Decay the first and second moment running average coefficient\u001b[0m\u001b[0;34m\u001b[0m\u001b[0;34m\u001b[0m\u001b[0;34m\u001b[0m\u001b[0m\n\u001b[1;32m     86\u001b[0m         \u001b[0mexp_avg\u001b[0m\u001b[0;34m.\u001b[0m\u001b[0mmul_\u001b[0m\u001b[0;34m(\u001b[0m\u001b[0mbeta1\u001b[0m\u001b[0;34m)\u001b[0m\u001b[0;34m.\u001b[0m\u001b[0madd_\u001b[0m\u001b[0;34m(\u001b[0m\u001b[0mgrad\u001b[0m\u001b[0;34m,\u001b[0m \u001b[0malpha\u001b[0m\u001b[0;34m=\u001b[0m\u001b[0;36m1\u001b[0m \u001b[0;34m-\u001b[0m \u001b[0mbeta1\u001b[0m\u001b[0;34m)\u001b[0m\u001b[0;34m\u001b[0m\u001b[0;34m\u001b[0m\u001b[0m\n\u001b[0;32m---> 87\u001b[0;31m         \u001b[0mexp_avg_sq\u001b[0m\u001b[0;34m.\u001b[0m\u001b[0mmul_\u001b[0m\u001b[0;34m(\u001b[0m\u001b[0mbeta2\u001b[0m\u001b[0;34m)\u001b[0m\u001b[0;34m.\u001b[0m\u001b[0maddcmul_\u001b[0m\u001b[0;34m(\u001b[0m\u001b[0mgrad\u001b[0m\u001b[0;34m,\u001b[0m \u001b[0mgrad\u001b[0m\u001b[0;34m.\u001b[0m\u001b[0mconj\u001b[0m\u001b[0;34m(\u001b[0m\u001b[0;34m)\u001b[0m\u001b[0;34m,\u001b[0m \u001b[0mvalue\u001b[0m\u001b[0;34m=\u001b[0m\u001b[0;36m1\u001b[0m \u001b[0;34m-\u001b[0m \u001b[0mbeta2\u001b[0m\u001b[0;34m)\u001b[0m\u001b[0;34m\u001b[0m\u001b[0;34m\u001b[0m\u001b[0m\n\u001b[0m\u001b[1;32m     88\u001b[0m         \u001b[0;32mif\u001b[0m \u001b[0mamsgrad\u001b[0m\u001b[0;34m:\u001b[0m\u001b[0;34m\u001b[0m\u001b[0;34m\u001b[0m\u001b[0m\n\u001b[1;32m     89\u001b[0m             \u001b[0;31m# Maintains the maximum of all 2nd moment running avg. till now\u001b[0m\u001b[0;34m\u001b[0m\u001b[0;34m\u001b[0m\u001b[0;34m\u001b[0m\u001b[0m\n",
      "\u001b[0;31mKeyboardInterrupt\u001b[0m: "
     ]
    }
   ],
   "source": [
    "### Train the network\n",
    "print('Start Training ')\n",
    "for epoch in range(2):\n",
    "    running_loss = 0.0\n",
    "    for i, data in enumerate(trainloader):\n",
    "        # Fill this loop\n",
    "        # get the inputs\n",
    "        inputs, labels = data\n",
    "        inputs, labels = inputs.to(device), labels.to(device)\n",
    "\n",
    "        # zero the parameter gradients\n",
    "        optimizer.zero_grad()\n",
    "\n",
    "        # forward + backward + optimize\n",
    "        outputs = model(inputs)\n",
    "        loss = criterion(outputs, labels)\n",
    "        loss.backward()\n",
    "        optimizer.step()\n",
    "        \n",
    "        running_loss += loss.item()\n",
    "        \n",
    "        # print statistics\n",
    "        if i % 50 == 0:\n",
    "            print('[%d, %5d] loss: %.6f' %\n",
    "                 (epoch + 1, i + 1, running_loss / 500))\n",
    "            running_loss = 0.0\n",
    "\n",
    "print('Finished Training')"
   ]
  },
  {
   "cell_type": "code",
   "execution_count": 18,
   "id": "a17d6eb1-3dea-4560-a304-50532e4b6a67",
   "metadata": {},
   "outputs": [
    {
     "data": {
      "image/png": "[encoded data removed]",
      "text/plain": [
       "<Figure size 432x288 with 1 Axes>"
      ]
     },
     "metadata": {
      "needs_background": "light"
     },
     "output_type": "display_data"
    },
    {
     "name": "stdout",
     "output_type": "stream",
     "text": [
      "GrondTruth:    cat  ship  ship plane\n"
     ]
    }
   ],
   "source": [
    "dataiter = iter(testloader)\n",
    "images, labels = dataiter.next()\n",
    "\n",
    "#print images\n",
    "imshow(torchvision.utils.make_grid(images))\n",
    "print('GrondTruth: ', ' '.join('%5s' % classes[labels[j]] for j in range(4)))"
   ]
  },
  {
   "cell_type": "code",
   "execution_count": 19,
   "id": "7ce4c2f9-e5c8-45a7-a0d8-6c7f758fe6cd",
   "metadata": {},
   "outputs": [
    {
     "name": "stdout",
     "output_type": "stream",
     "text": [
      "Predicted:    car   car  ship  ship\n"
     ]
    }
   ],
   "source": [
    "images = images.to(device)\n",
    "outputs = model(images)\n",
    "\n",
    "_, predicted = torch.max(outputs, 1)\n",
    "\n",
    "print('Predicted: ', ' '.join('%5s' % classes[predicted[j]] for j in range(4))) "
   ]
  },
  {
   "cell_type": "code",
   "execution_count": null,
   "id": "9de0d4f6-20b6-4b56-a49f-7c22eb185672",
   "metadata": {},
   "outputs": [],
   "source": []
  }
 ],
 "metadata": {
  "kernelspec": {
   "display_name": "Python 3",
   "language": "python",
   "name": "python3"
  },
  "language_info": {
   "codemirror_mode": {
    "name": "ipython",
    "version": 3
   },
   "file_extension": ".py",
   "mimetype": "text/x-python",
   "name": "python",
   "nbconvert_exporter": "python",
   "pygments_lexer": "ipython3",
   "version": "3.8.8"
  }
 },
 "nbformat": 4,
 "nbformat_minor": 5
}
