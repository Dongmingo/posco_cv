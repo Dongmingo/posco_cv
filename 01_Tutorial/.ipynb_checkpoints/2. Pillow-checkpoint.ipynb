{
 "cells": [
  {
   "cell_type": "markdown",
   "id": "2d30e4d3-7619-4cd8-bda6-9f5b85f01fb3",
   "metadata": {},
   "source": [
    "# PILLOW - Python Image Library"
   ]
  },
  {
   "cell_type": "code",
   "execution_count": null,
   "id": "e36423c5-a4a5-46b1-87e1-eebf19f080ad",
   "metadata": {},
   "outputs": [],
   "source": [
    "%matplotlib inline\n",
    "import numpy as np\n",
    "from matplotlib import pyplot as plt\n",
    "from PIL import Image"
   ]
  },
  {
   "cell_type": "code",
   "execution_count": null,
   "id": "7fe0de3b-b3cc-4fc4-9bf2-bc7c26680913",
   "metadata": {},
   "outputs": [],
   "source": [
    "original = Image.open(\"Astronaut.png\")\n",
    "original.size"
   ]
  },
  {
   "cell_type": "code",
   "execution_count": null,
   "id": "88e99ce9-f3ec-45a6-ba02-8e1482ca4242",
   "metadata": {},
   "outputs": [],
   "source": [
    "original"
   ]
  },
  {
   "cell_type": "code",
   "execution_count": null,
   "id": "bdc1dcaf-7dbc-4279-a6d2-7c70c255a2cd",
   "metadata": {},
   "outputs": [],
   "source": [
    "og_np = np.array(original)\n",
    "og_np.shape"
   ]
  },
  {
   "cell_type": "code",
   "execution_count": null,
   "id": "201b5ab3-cbf7-416e-aa6b-6d16e31d186d",
   "metadata": {},
   "outputs": [],
   "source": [
    "Image.fromarray(og_np)"
   ]
  },
  {
   "cell_type": "code",
   "execution_count": null,
   "id": "ffb15362-dab9-4d1e-9ab5-4b29dfc9c606",
   "metadata": {},
   "outputs": [],
   "source": [
    "small = original.resize((100,100))\n",
    "small"
   ]
  },
  {
   "cell_type": "code",
   "execution_count": null,
   "id": "5f076be9-7850-408f-b2d5-be040c00df1b",
   "metadata": {},
   "outputs": [],
   "source": [
    "rotate = original.rotate(45)\n",
    "rotate"
   ]
  },
  {
   "cell_type": "code",
   "execution_count": null,
   "id": "96e46f12-8596-4ca8-87f2-e87bffbc64a1",
   "metadata": {},
   "outputs": [],
   "source": [
    "crop = original.crop((120,0,320,200)) # x, y 좌표 혼동 유의\n",
    "crop"
   ]
  }
 ],
 "metadata": {
  "kernelspec": {
   "display_name": "Python 3",
   "language": "python",
   "name": "python3"
  },
  "language_info": {
   "codemirror_mode": {
    "name": "ipython",
    "version": 3
   },
   "file_extension": ".py",
   "mimetype": "text/x-python",
   "name": "python",
   "nbconvert_exporter": "python",
   "pygments_lexer": "ipython3",
   "version": "3.8.8"
  }
 },
 "nbformat": 4,
 "nbformat_minor": 5
}
