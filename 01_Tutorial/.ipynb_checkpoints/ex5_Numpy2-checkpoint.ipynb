{
 "cells": [
  {
   "cell_type": "markdown",
   "id": "618785dd-cdc8-4d12-a585-5aa513cb15de",
   "metadata": {},
   "source": [
    "## Broadcasting\n",
    "- Broadcasting is strong!\n",
    "- Broadcasting은 우리가 잘아는 방송과 관련된 뜻이고 유사한 의미로, broadcast란 단어는 무언가를 '흩뿌리고 퍼뜨리고 전파'할 때 사용하는 단어이다. 아래 실습을 해보면서 전파한다는 의미를 더 설명해보도록 하겠다.\n",
    "\n",
    "## Two tensors are “broadcastable” if the following rules hold:\n",
    "\n",
    "- 1. Each tensor has at least one dimension.\n",
    "- 2. When iterating over the dimension sizes, starting at the trailing dimension, the dimension sizes must either be equal, one of them is 1, or one of them does not exis"
   ]
  },
  {
   "cell_type": "code",
   "execution_count": null,
   "id": "f82883f2-cbfc-49f6-b278-527bbf88da56",
   "metadata": {},
   "outputs": [],
   "source": [
    "import numpy as np"
   ]
  },
  {
   "cell_type": "code",
   "execution_count": null,
   "id": "6032d7d2-50a8-42bb-97bf-31c401088c60",
   "metadata": {},
   "outputs": [],
   "source": [
    "a = np.array([\n",
    "    [1, 2, 3],\n",
    "    [4, 5, 6]\n",
    "])\n",
    "print(a)\n",
    "print(a.shape)"
   ]
  },
  {
   "cell_type": "code",
   "execution_count": null,
   "id": "31a732e0-57bd-42ac-8deb-f56876dc19fd",
   "metadata": {},
   "outputs": [],
   "source": [
    "b = np.array([[10, 20, 30]])\n",
    "print(b)\n",
    "print(b.shape)"
   ]
  },
  {
   "cell_type": "code",
   "execution_count": null,
   "id": "b58366e5-d482-422b-a0a2-547d572c7de5",
   "metadata": {},
   "outputs": [],
   "source": [
    "c = a + b\n",
    "print(c)"
   ]
  },
  {
   "cell_type": "code",
   "execution_count": null,
   "id": "7a7a1380-12c0-47c6-9e2e-d04659c68a60",
   "metadata": {},
   "outputs": [],
   "source": [
    "x = np.array([\n",
    "    [1,2,3],\n",
    "    [4,5,6],\n",
    "    [7,8,9],\n",
    "    [10, 11, 12]\n",
    "])\n",
    "v = np.array([1, 0, 1])  \n",
    "\n",
    "## x의 각 행마다 전부 v를 더해서 y를 만들자."
   ]
  },
  {
   "cell_type": "code",
   "execution_count": null,
   "id": "a62d9e5b-76cc-4e87-b04a-b6495a45c641",
   "metadata": {},
   "outputs": [],
   "source": [
    "## first solution\n",
    "y = np.empty_like(x) \n",
    "for i in range(4):\n",
    "    y[i, :] = x[i, :] + v\n",
    "print(y)"
   ]
  },
  {
   "cell_type": "code",
   "execution_count": null,
   "id": "5dc9bd96-f380-422d-b2f2-8719d35126c2",
   "metadata": {},
   "outputs": [],
   "source": [
    "## second solution\n",
    "vv = np.tile(v, (4, 1))\n",
    "print(vv)\n",
    "y = x + vv\n",
    "print(y)"
   ]
  },
  {
   "cell_type": "code",
   "execution_count": null,
   "id": "5436d34d-08bd-4bb4-9708-23626ccdf8b6",
   "metadata": {},
   "outputs": [],
   "source": [
    "## Third Solution\n",
    "v = np.array([1, 0, 1])\n",
    "print(v.shape)\n",
    "v = np.expand_dims(v, axis=0)\n",
    "print(v.shape)\n",
    "print(v)\n",
    "vv = np.repeat(v, repeats=4, axis=0)  # Stack 4 copies of v on top of each other\n",
    "print(vv.shape)\n",
    "y = x + vv  \n",
    "print(y)"
   ]
  },
  {
   "cell_type": "code",
   "execution_count": null,
   "id": "96c4f885-1938-416c-a575-2364a121b672",
   "metadata": {},
   "outputs": [],
   "source": [
    "## Fourth Solution - Broad Casting\n",
    "print(x.shape)\n",
    "print(v.shape)\n",
    "y = x + v  # Add v to each row of x using broadcasting\n",
    "print(y)"
   ]
  },
  {
   "cell_type": "code",
   "execution_count": null,
   "id": "88f11088-7f71-4d28-a636-192a11c07812",
   "metadata": {},
   "outputs": [],
   "source": [
    "## Broadcasting possible cases\n",
    "def checkbroadcasting(x, y):\n",
    "    try:\n",
    "        x+y\n",
    "        return True\n",
    "    except:\n",
    "        return False"
   ]
  },
  {
   "cell_type": "code",
   "execution_count": null,
   "id": "683979cd-9331-4aa7-8817-af5c49a0fa20",
   "metadata": {},
   "outputs": [],
   "source": [
    "x=np.empty((0))\n",
    "y=np.empty((2,2))\n",
    "print(\"problem 1 : \", checkbroadcasting(x,y))\n",
    "\n",
    "x=np.empty((2))\n",
    "y=np.empty((2,2))\n",
    "print(\"problem 2 : \", checkbroadcasting(x,y))\n",
    " \n",
    "x=np.empty((5,3,4,1))\n",
    "y=np.empty((3,4,1))\n",
    "print(\"problem 3 : \", checkbroadcasting(x,y))\n",
    "\n",
    "x=np.empty((5,3,4,1))\n",
    "y=np.empty((3,1,1))\n",
    "print(\"problem 4 : \", checkbroadcasting(x,y))\n",
    "\n",
    "x=np.empty((5,2,4,1))\n",
    "y=np.empty((3,1,1))\n",
    "print(\"problem 5 : \", checkbroadcasting(x,y))"
   ]
  },
  {
   "cell_type": "code",
   "execution_count": null,
   "id": "0c86463b-3efa-4e4b-91ce-9fa36ee6829e",
   "metadata": {},
   "outputs": [],
   "source": [
    "x = np.ones((2,2))\n",
    "y = np.ones((5,2,1))\n",
    "print((x+y).shape)\n",
    "print(x+y)"
   ]
  },
  {
   "cell_type": "code",
   "execution_count": null,
   "id": "410bef2c-88bb-43d5-9f6f-8fa7eda031e7",
   "metadata": {},
   "outputs": [],
   "source": [
    "x = np.empty((5,3,3,1))\n",
    "y = np.empty((3,4))\n",
    "print((x+y).shape)"
   ]
  },
  {
   "cell_type": "markdown",
   "id": "64d60b90-3a62-46a1-b755-2e3594845c9a",
   "metadata": {},
   "source": [
    "- 지금까지 배운 Numpy에서의 indexing 과 Broadcasting 방법이 모두 Pytorch에도 적용 된다."
   ]
  }
 ],
 "metadata": {
  "kernelspec": {
   "display_name": "Python 3",
   "language": "python",
   "name": "python3"
  },
  "language_info": {
   "codemirror_mode": {
    "name": "ipython",
    "version": 3
   },
   "file_extension": ".py",
   "mimetype": "text/x-python",
   "name": "python",
   "nbconvert_exporter": "python",
   "pygments_lexer": "ipython3",
   "version": "3.8.8"
  }
 },
 "nbformat": 4,
 "nbformat_minor": 5
}
