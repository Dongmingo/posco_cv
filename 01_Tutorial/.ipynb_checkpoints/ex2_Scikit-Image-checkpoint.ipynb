{
 "cells": [
  {
   "cell_type": "markdown",
   "id": "1ee9adac-5100-4cf8-8d51-9b70fe4de533",
   "metadata": {},
   "source": [
    "# Scikit - Image\n",
    "- use numpy arrays as arguments"
   ]
  },
  {
   "cell_type": "code",
   "execution_count": null,
   "id": "b121255e-4153-411f-8882-bec4cddaada0",
   "metadata": {},
   "outputs": [],
   "source": [
    "%matplotlib inline\n",
    "import matplotlib\n",
    "import matplotlib.pyplot as plt\n",
    "matplotlib.rcParams['figure.figsize'] = [5,5]\n",
    "import numpy as np\n",
    "import copy\n",
    "from skimage import data, color, io\n",
    "import random"
   ]
  },
  {
   "cell_type": "markdown",
   "id": "262b2a8c-3379-471b-bec3-52cf93370d78",
   "metadata": {},
   "source": [
    "- RGB to gray converting <br>\n",
    "$$ Y = 0.2125*R + 0.7154*G + 0.0721*B $$"
   ]
  },
  {
   "cell_type": "code",
   "execution_count": null,
   "id": "1f4a29d7-c0dd-407d-95ba-352369de5e73",
   "metadata": {},
   "outputs": [],
   "source": [
    "original = data.astronaut()\n",
    "plt.imshow(original)\n",
    "original.shape\n",
    "io.imsave('Astronaut.png', original)"
   ]
  },
  {
   "cell_type": "code",
   "execution_count": null,
   "id": "9c0c8b9c-ea25-4ac8-a554-4ef835fa66e8",
   "metadata": {},
   "outputs": [],
   "source": [
    "gray = color.rgb2gray(original)\n",
    "plt.imshow(gray, cmap = 'gray')\n",
    "gray.shape"
   ]
  },
  {
   "cell_type": "code",
   "execution_count": null,
   "id": "0a5dc43e-7b24-4787-8f37-170929a309a2",
   "metadata": {},
   "outputs": [],
   "source": [
    "gray_opt = np.round(original[:,:,0]*0.2125 + original[:,:,1]*0.7154 + original[:,:,2]*0.0721)\n",
    "plt.imshow(gray_opt, cmap = 'gray')\n",
    "gray_opt.shape"
   ]
  },
  {
   "cell_type": "code",
   "execution_count": null,
   "id": "c1132863-a780-46dd-a7f4-119cd8e69a80",
   "metadata": {},
   "outputs": [],
   "source": [
    "def sp_noise(image,prob):\n",
    "    output = np.zeros(image.shape,np.uint8)\n",
    "    thres = 1 - prob \n",
    "    for i in range(image.shape[0]):\n",
    "        for j in range(image.shape[1]):\n",
    "            rdn = random.random()\n",
    "            if rdn < prob:\n",
    "                output[i][j] = 0\n",
    "            elif rdn > thres:\n",
    "                output[i][j] = 255\n",
    "            else:\n",
    "                output[i][j] = image[i][j]\n",
    "    return output"
   ]
  },
  {
   "cell_type": "code",
   "execution_count": null,
   "id": "d75d3090-332b-4b4e-a08c-f8c35da7f1e2",
   "metadata": {},
   "outputs": [],
   "source": [
    "spn = sp_noise(original, 0.1)\n",
    "spn.shape\n",
    "plt.imshow(spn)"
   ]
  },
  {
   "cell_type": "code",
   "execution_count": null,
   "id": "4e4ace5a-1d0c-4462-9afe-bb08ee9442df",
   "metadata": {},
   "outputs": [],
   "source": [
    "camera = data.camera()\n",
    "print(camera.shape)\n",
    "plt.imshow(camera, cmap='gray')"
   ]
  },
  {
   "cell_type": "code",
   "execution_count": null,
   "id": "584777f9-0de2-4c14-ac31-3a0e3dafd5ce",
   "metadata": {},
   "outputs": [],
   "source": [
    "crop = camera[100:200, 150:250]\n",
    "plt.imshow(crop, cmap = 'gray')\n",
    "print(crop)"
   ]
  },
  {
   "cell_type": "code",
   "execution_count": null,
   "id": "00afccae-5660-458e-8066-c3bcfe423b6b",
   "metadata": {},
   "outputs": [],
   "source": [
    "print(np.max(camera), np.min(camera))\n",
    "result = copy.deepcopy(camera)"
   ]
  },
  {
   "cell_type": "code",
   "execution_count": null,
   "id": "b9b36162-a73f-4f17-969b-9f2b1a921919",
   "metadata": {},
   "outputs": [],
   "source": [
    "# 1. 87 이하 픽셀 가장 밝게\n",
    "\n",
    "#\n",
    "plt.imshow(result, cmap='gray')"
   ]
  },
  {
   "cell_type": "code",
   "execution_count": null,
   "id": "e77e77fd-c968-4581-9c85-017dd9093888",
   "metadata": {},
   "outputs": [],
   "source": [
    "# 2. 검은 점선 : 좌표 [x, (4 * x) % len(camera)]\n",
    "\n",
    "#\n",
    "plt.imshow(result, cmap='gray')"
   ]
  },
  {
   "cell_type": "code",
   "execution_count": null,
   "id": "46efff51-40e5-41a7-a73d-39bd19e43640",
   "metadata": {},
   "outputs": [],
   "source": [
    "# 3. np.ogrid 활용해서 원형 마스크 씌우기\n",
    "\n",
    "#\n",
    "plt.imshow(result, cmap='gray')"
   ]
  },
  {
   "cell_type": "code",
   "execution_count": null,
   "id": "907bf97f-3bef-4363-ae67-dda1c399c82a",
   "metadata": {},
   "outputs": [],
   "source": [
    "# hint\n",
    "X, Y = np.ogrid[:100, :100]\n",
    "mask = X**2 + Y**2 > 10000\n",
    "plt.imshow(mask, cmap='gray')"
   ]
  },
  {
   "cell_type": "code",
   "execution_count": null,
   "id": "d87f822a-98dc-4124-9965-c907e89e9e86",
   "metadata": {},
   "outputs": [],
   "source": [
    "plt.figure(figsize=(8, 8))\n",
    "plt.imshow(camera, cmap='gray')\n",
    "plt.axis('off')\n",
    "plt.show()"
   ]
  }
 ],
 "metadata": {
  "kernelspec": {
   "display_name": "Python 3",
   "language": "python",
   "name": "python3"
  },
  "language_info": {
   "codemirror_mode": {
    "name": "ipython",
    "version": 3
   },
   "file_extension": ".py",
   "mimetype": "text/x-python",
   "name": "python",
   "nbconvert_exporter": "python",
   "pygments_lexer": "ipython3",
   "version": "3.8.8"
  }
 },
 "nbformat": 4,
 "nbformat_minor": 5
}
