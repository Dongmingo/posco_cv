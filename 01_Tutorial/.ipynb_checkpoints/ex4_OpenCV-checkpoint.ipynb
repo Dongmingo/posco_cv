{
 "cells": [
  {
   "cell_type": "markdown",
   "id": "bf0c984f-5549-4b27-8140-f81e1d4bf5eb",
   "metadata": {},
   "source": [
    "# OpenCV\n",
    "- Specify more for Computer Vision Image processing techniques"
   ]
  },
  {
   "cell_type": "code",
   "execution_count": null,
   "id": "2a860b5b-86f7-42a2-8367-04365499bb7a",
   "metadata": {},
   "outputs": [],
   "source": [
    "import cv2\n",
    "import numpy as np\n",
    "from matplotlib import pyplot as plt\n",
    "import matplotlib\n",
    "matplotlib.rcParams['figure.figsize'] = [10,10]\n",
    "\n",
    "img = cv2.imread('Astronaut.png')\n",
    "gray = cv2.cvtColor(img, cv2.COLOR_BGR2GRAY)"
   ]
  },
  {
   "cell_type": "code",
   "execution_count": null,
   "id": "c20f408f-e2d4-4ef6-aba2-207cd35dd68c",
   "metadata": {},
   "outputs": [],
   "source": [
    "# SIFT 추출기 생성\n",
    "sift = cv2.xfeatures2d.SIFT_create()"
   ]
  },
  {
   "cell_type": "code",
   "execution_count": null,
   "id": "9e802be0-61b4-43e9-b53a-780768965dc4",
   "metadata": {},
   "outputs": [],
   "source": [
    "# 키 포인트 검출과 서술자 계산\n",
    "keypoints, descriptor = sift.detectAndCompute(gray, None)\n",
    "print('keypoint:',len(keypoints), 'descriptor:', descriptor.shape)\n",
    "print(descriptor)"
   ]
  },
  {
   "cell_type": "code",
   "execution_count": null,
   "id": "874eae7c-0790-42ea-b37e-9ff62119d8f0",
   "metadata": {},
   "outputs": [],
   "source": [
    "# 키 포인트 그리기\n",
    "img_draw = cv2.drawKeypoints(img, keypoints, None, \\\n",
    "                flags=cv2.DRAW_MATCHES_FLAGS_DRAW_RICH_KEYPOINTS)"
   ]
  },
  {
   "cell_type": "code",
   "execution_count": null,
   "id": "51c1f1f1-34e2-4cd9-8afe-bf4744de7c45",
   "metadata": {},
   "outputs": [],
   "source": [
    "# 결과 출력\n",
    "img = img_draw[:,:,::-1]\n",
    "plt.imshow(img)"
   ]
  }
 ],
 "metadata": {
  "kernelspec": {
   "display_name": "Python 3",
   "language": "python",
   "name": "python3"
  },
  "language_info": {
   "codemirror_mode": {
    "name": "ipython",
    "version": 3
   },
   "file_extension": ".py",
   "mimetype": "text/x-python",
   "name": "python",
   "nbconvert_exporter": "python",
   "pygments_lexer": "ipython3",
   "version": "3.8.8"
  }
 },
 "nbformat": 4,
 "nbformat_minor": 5
}
