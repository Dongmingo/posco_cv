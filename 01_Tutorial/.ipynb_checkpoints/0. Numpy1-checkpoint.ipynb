{
 "cells": [
  {
   "cell_type": "markdown",
   "id": "c1a52aff-a6d0-4bed-86f7-2a9d031de079",
   "metadata": {},
   "source": [
    "# Numpy Tutorial\n",
    "- Indexing"
   ]
  },
  {
   "cell_type": "code",
   "execution_count": 4,
   "id": "13b9c477-c871-41fc-b805-7b387c4712b9",
   "metadata": {},
   "outputs": [
    {
     "data": {
      "text/plain": [
       "'1.20.1'"
      ]
     },
     "execution_count": 4,
     "metadata": {},
     "output_type": "execute_result"
    }
   ],
   "source": [
    "import numpy as np\n",
    "np.__version__"
   ]
  },
  {
   "cell_type": "markdown",
   "id": "9f8b805a-d5f9-43a3-8328-17875a77e983",
   "metadata": {},
   "source": [
    "---\n",
    "## Numpy Initialization"
   ]
  },
  {
   "cell_type": "code",
   "execution_count": null,
   "id": "378fcf6c-9d2e-4a0e-84a2-2dc29e30b248",
   "metadata": {},
   "outputs": [],
   "source": [
    "a = np.array([0,1,2,3,4,5,6,7,8,9,10,11])\n",
    "b = np.arange(0,12,1)\n",
    "c = np.linspace(0,11,12)"
   ]
  },
  {
   "cell_type": "code",
   "execution_count": null,
   "id": "3549f325-bce0-4f9d-818d-886379815ab0",
   "metadata": {},
   "outputs": [],
   "source": [
    "print(a)\n",
    "print(b)\n",
    "print(c)"
   ]
  },
  {
   "cell_type": "code",
   "execution_count": null,
   "id": "490610cc-6346-433b-9db7-54956340d1b4",
   "metadata": {},
   "outputs": [],
   "source": [
    "a = np.arange(12).reshape(3,2,2)"
   ]
  },
  {
   "cell_type": "code",
   "execution_count": null,
   "id": "18c5baca-6921-4255-aec6-a21853b85ace",
   "metadata": {},
   "outputs": [],
   "source": [
    "a[0]"
   ]
  },
  {
   "cell_type": "code",
   "execution_count": null,
   "id": "73f4b39e-6364-4991-bcee-e460cddcb53a",
   "metadata": {},
   "outputs": [],
   "source": [
    "a = np.arange(100).reshape(10,10)\n",
    "print(a)"
   ]
  },
  {
   "cell_type": "code",
   "execution_count": null,
   "id": "09a82573-2522-412e-a6b2-980f598c628c",
   "metadata": {},
   "outputs": [],
   "source": [
    "import sys\n",
    "np.set_printoptions(threshold = sys.maxsize)"
   ]
  },
  {
   "cell_type": "code",
   "execution_count": null,
   "id": "c802eefb-85c1-4b02-aae8-8998c57d3609",
   "metadata": {},
   "outputs": [],
   "source": [
    "print(a)"
   ]
  },
  {
   "cell_type": "markdown",
   "id": "634e75c3-f667-488c-8fe2-e3ca8da94aef",
   "metadata": {},
   "source": [
    "### 실습\n",
    "[[1,2,3,4], <br>\n",
    " [5,6,7,8], <br>\n",
    " [9,10,11,12]]"
   ]
  },
  {
   "cell_type": "code",
   "execution_count": null,
   "id": "d44dc6a2-3175-409c-9624-40dd87a684d1",
   "metadata": {},
   "outputs": [],
   "source": [
    "##### 실습 답안 작성 #####"
   ]
  },
  {
   "cell_type": "code",
   "execution_count": null,
   "id": "4674c946-779a-489f-b80c-aacbcf653ee6",
   "metadata": {},
   "outputs": [],
   "source": [
    "a"
   ]
  },
  {
   "cell_type": "code",
   "execution_count": null,
   "id": "19a42d98-9068-43f0-ab23-bcac830856c4",
   "metadata": {},
   "outputs": [],
   "source": [
    "type(a)"
   ]
  },
  {
   "cell_type": "code",
   "execution_count": null,
   "id": "37d019ba-1b0a-4a65-b9e3-94692bcd3436",
   "metadata": {},
   "outputs": [],
   "source": [
    "a.shape"
   ]
  },
  {
   "cell_type": "code",
   "execution_count": null,
   "id": "ff4c5999-0e9c-4d31-ba62-236b2b4612b3",
   "metadata": {},
   "outputs": [],
   "source": [
    "a.ndim"
   ]
  },
  {
   "cell_type": "code",
   "execution_count": null,
   "id": "91809ec6-5fdd-462e-934d-0b4b2471be64",
   "metadata": {},
   "outputs": [],
   "source": [
    "a.size"
   ]
  },
  {
   "cell_type": "code",
   "execution_count": null,
   "id": "12f05d4a-d7ff-41ea-a075-6dff6b1421c0",
   "metadata": {},
   "outputs": [],
   "source": [
    "a.dtype"
   ]
  },
  {
   "cell_type": "code",
   "execution_count": null,
   "id": "d52f38bd-1450-4dfc-84a9-bc26cac5cf25",
   "metadata": {},
   "outputs": [],
   "source": [
    "print(a)"
   ]
  },
  {
   "cell_type": "markdown",
   "id": "0fcd10c8-09ee-474b-b1fc-ed3700da6569",
   "metadata": {},
   "source": [
    "---\n",
    "## Array indexing\n",
    "* Numpy array의 indexing은 일반적인 list와 유사하다. \n",
    "* 단, indexing해서 분리한 array도 원래 array의 memory를 참조하기 때문에 변경할 때 유의하여야 한다."
   ]
  },
  {
   "cell_type": "code",
   "execution_count": null,
   "id": "d96dd049-41bd-4cde-93d8-bd7530271c9c",
   "metadata": {},
   "outputs": [],
   "source": [
    "a[0]"
   ]
  },
  {
   "cell_type": "code",
   "execution_count": null,
   "id": "685edace-18e8-4c5f-8303-526a9c404b15",
   "metadata": {},
   "outputs": [],
   "source": [
    "b = a[0:2]\n",
    "print(b)"
   ]
  },
  {
   "cell_type": "code",
   "execution_count": null,
   "id": "f32d98d9-4e63-4a86-9e62-620d69a2b7ef",
   "metadata": {},
   "outputs": [],
   "source": [
    "b[0,0] = 100\n",
    "print(b)\n",
    "print(a)"
   ]
  },
  {
   "cell_type": "code",
   "execution_count": null,
   "id": "3ef8727b-3a17-4cca-937d-0607ff4c6b95",
   "metadata": {},
   "outputs": [],
   "source": [
    "from copy import deepcopy\n",
    "c = deepcopy(b)\n",
    "print(c)"
   ]
  },
  {
   "cell_type": "code",
   "execution_count": null,
   "id": "5197d4c5-8e69-42e0-8e1d-4cf2316f309f",
   "metadata": {},
   "outputs": [],
   "source": [
    "c[0,0] = 200\n",
    "print(c)\n",
    "print(b)"
   ]
  },
  {
   "cell_type": "markdown",
   "id": "e1625a1d-3042-4c82-8119-c643fd4a090e",
   "metadata": {},
   "source": [
    "####  Slicing을 할 때는 dimension이 낮아질 수 있다.\n",
    "- Slicing을 하는 방법에는 여러가지가 있는데, integer를 활용해 indexing을 할 때는 dimension이 낮아지고, slicing을 이용해 indexing 할 때는 dimension이 유지된다."
   ]
  },
  {
   "cell_type": "code",
   "execution_count": null,
   "id": "19ce4177-6378-40e0-a3d1-76e077ead6d9",
   "metadata": {},
   "outputs": [],
   "source": [
    "print(a)\n",
    "\n",
    "row_r1 = a[1, :]    # Rank 1 view of the second row of a  \n",
    "row_r2 = a[1:2, :]  # Rank 2 view of the second row of a\n",
    "row_r3 = a[[1], :]  # Rank 2 view of the second row of a\n",
    "\n",
    "print(\"___________________________\")\n",
    "print(\"Slicing Row\")\n",
    "print(\"___________________________\")\n",
    "\n",
    "print(row_r1, row_r1.shape, '\\n')\n",
    "print(row_r2, row_r2.shape, '\\n')\n",
    "print(row_r3, row_r3.shape, '\\n')\n",
    "\n",
    "\n",
    "col_r1 = a[:, 1]\n",
    "col_r2 = a[:, 1:2]\n",
    "\n",
    "print(\"___________________________\")\n",
    "print(\"Slicing Column\")\n",
    "print(\"___________________________\")\n",
    "print(col_r1, col_r1.shape, '\\n')\n",
    "print(col_r2, col_r2.shape)"
   ]
  },
  {
   "cell_type": "markdown",
   "id": "7039abd0-333d-4667-b324-ba127ebf4b0a",
   "metadata": {},
   "source": [
    "- 슬라이싱을 만들 때 주의해야 할 점은 슬라이싱 된 배열은 원본 배열과 같은 데이터를 참조하기 때문에 슬라이싱 된 배열을 수정하면 원본 배열 역시 수정됨"
   ]
  },
  {
   "cell_type": "code",
   "execution_count": null,
   "id": "c85689f0-08a0-4f55-9a77-6fb2b709cb4d",
   "metadata": {},
   "outputs": [],
   "source": [
    "a = np.arange(12).reshape(4,3)\n",
    "print(a)\n",
    "c = a[1:3, 2:3]\n",
    "print(c)"
   ]
  },
  {
   "cell_type": "code",
   "execution_count": null,
   "id": "7e3f1ad6-e2c6-442a-a453-66261e96855d",
   "metadata": {},
   "outputs": [],
   "source": [
    "c[0] = 10\n",
    "print(c)\n",
    "print(a)"
   ]
  },
  {
   "cell_type": "markdown",
   "id": "1bc06d16-3796-4b71-8434-b69995a80d47",
   "metadata": {},
   "source": [
    "#### Integer array를 이용해 indexing을 할 수 있다. \n",
    "- Slicing을 할 때는 네모난 subarray만 추출할 수 있지만, integer array를 이용할 경우 임의의 수치들을 꺼내올 수 있다."
   ]
  },
  {
   "cell_type": "code",
   "execution_count": null,
   "id": "6b3068c7-fcda-48bd-9856-66c31b0bb8a9",
   "metadata": {},
   "outputs": [],
   "source": [
    "a = np.arange(6).reshape(3,2)\n",
    "print(a)\n",
    "# array([0,3,4])를 만들고 싶음"
   ]
  },
  {
   "cell_type": "code",
   "execution_count": null,
   "id": "d795c45b-ca20-4d38-9054-4e1faef9ff26",
   "metadata": {},
   "outputs": [],
   "source": [
    "print(np.array([a[0,0], a[1,1], a[2,0]]))\n",
    "print(a[[0,1,2],[0,1,0]])"
   ]
  },
  {
   "cell_type": "markdown",
   "id": "0473efd1-703c-4f7d-9b0c-13e808e0519e",
   "metadata": {},
   "source": [
    "## 실습\n",
    "- 10x10 2차원 배열에서 대각성분만 뽑아내기"
   ]
  },
  {
   "cell_type": "code",
   "execution_count": null,
   "id": "3d00fc57-9fa7-466f-9d68-2e594102034c",
   "metadata": {},
   "outputs": [],
   "source": [
    "a = np.arange(100).reshape(10,10)\n",
    "print(a)"
   ]
  },
  {
   "cell_type": "code",
   "execution_count": null,
   "id": "49354a3b-8af0-47e8-98b6-c5a2a90d64f1",
   "metadata": {},
   "outputs": [],
   "source": [
    "##### 실습 답안 작성 #####"
   ]
  },
  {
   "cell_type": "markdown",
   "id": "d6f93bfd-310e-4ee1-b9be-b7a82ac0f26f",
   "metadata": {},
   "source": [
    "- Boolean array로도 indexing을 할 수 있다."
   ]
  },
  {
   "cell_type": "code",
   "execution_count": null,
   "id": "1db476a0-0b79-4343-9847-7271b3b4de21",
   "metadata": {},
   "outputs": [],
   "source": [
    "mask = a > 30\n",
    "print(mask)"
   ]
  },
  {
   "cell_type": "code",
   "execution_count": null,
   "id": "19a1858d-4127-47a6-ab32-0e6261e0b1ee",
   "metadata": {},
   "outputs": [],
   "source": [
    "b = a[mask]\n",
    "print(b)"
   ]
  },
  {
   "cell_type": "code",
   "execution_count": null,
   "id": "9b7bf7be-907d-4d5e-bff0-103c7daec7a3",
   "metadata": {},
   "outputs": [],
   "source": [
    "a[mask] = 100\n",
    "print(a)"
   ]
  },
  {
   "cell_type": "code",
   "execution_count": null,
   "id": "c76a1b8d-8b30-4864-abe2-8cac1d36b276",
   "metadata": {},
   "outputs": [],
   "source": [
    "a = np.random.randint(10)\n",
    "print(a)"
   ]
  },
  {
   "cell_type": "code",
   "execution_count": null,
   "id": "064d4c16-e470-4149-bbb9-21d574334cb5",
   "metadata": {},
   "outputs": [],
   "source": [
    "a = np.random.rand(2,5)\n",
    "print(a)"
   ]
  },
  {
   "cell_type": "code",
   "execution_count": null,
   "id": "a42ab4b5-91f9-4374-9ca8-ffb489229b0a",
   "metadata": {},
   "outputs": [],
   "source": [
    "a = np.random.randn(2,5)\n",
    "print(a)"
   ]
  },
  {
   "cell_type": "code",
   "execution_count": 5,
   "id": "a71a7edb-2ccf-42e1-afcb-51aa5f26496e",
   "metadata": {},
   "outputs": [],
   "source": [
    "a = np.random.rand(100)\n",
    "b = np.random.randn(100)"
   ]
  },
  {
   "cell_type": "code",
   "execution_count": null,
   "id": "573b59c5-b7dc-4eba-bfef-719b7e79ca71",
   "metadata": {},
   "outputs": [],
   "source": [
    "print(np.histogram(a))\n",
    "print(np.histogram(b))"
   ]
  },
  {
   "cell_type": "code",
   "execution_count": 7,
   "id": "f4ef0c38-9ad4-4d5a-a53b-d9e4199240a8",
   "metadata": {},
   "outputs": [],
   "source": [
    "%matplotlib inline\n",
    "\n",
    "import matplotlib.pyplot as plt"
   ]
  },
  {
   "cell_type": "code",
   "execution_count": 8,
   "id": "e99e503d-0f1c-4a44-8cc9-63c714cc430c",
   "metadata": {},
   "outputs": [
    {
     "data": {
      "text/plain": [
       "(array([ 9.,  9., 11., 10.,  9., 15.,  9.,  5., 11., 12.]),\n",
       " array([0.01406473, 0.11182668, 0.20958862, 0.30735057, 0.40511251,\n",
       "        0.50287446, 0.6006364 , 0.69839834, 0.79616029, 0.89392223,\n",
       "        0.99168418]),\n",
       " <BarContainer object of 10 artists>)"
      ]
     },
     "execution_count": 8,
     "metadata": {},
     "output_type": "execute_result"
    },
    {
     "data": {
      "image/png": "[encoded data removed]",
      "text/plain": [
       "<Figure size 432x288 with 1 Axes>"
      ]
     },
     "metadata": {
      "needs_background": "light"
     },
     "output_type": "display_data"
    }
   ],
   "source": [
    "plt.hist(a)"
   ]
  },
  {
   "cell_type": "code",
   "execution_count": null,
   "id": "49301d4e-448c-4466-a311-215a6158316b",
   "metadata": {},
   "outputs": [],
   "source": [
    "plt.hist(b)"
   ]
  },
  {
   "cell_type": "markdown",
   "id": "09cbe8a7-9b83-4ee5-96ff-614b12199dac",
   "metadata": {},
   "source": [
    "## Shape manipulation\n",
    "- reshape, ravel, transepose\n",
    "- stack, cat, hstack, vstack"
   ]
  },
  {
   "cell_type": "code",
   "execution_count": null,
   "id": "34f439db-5f70-4f13-8540-21a369b326e5",
   "metadata": {},
   "outputs": [],
   "source": [
    "a = np.arange(12)\n",
    "print(a)"
   ]
  },
  {
   "cell_type": "code",
   "execution_count": null,
   "id": "a585c772-50cb-4c29-81e5-7eea70a16289",
   "metadata": {},
   "outputs": [],
   "source": [
    "a = a.reshape(2,6)\n",
    "print(a)"
   ]
  },
  {
   "cell_type": "code",
   "execution_count": null,
   "id": "e520b1da-2257-4b9a-9b3b-5df3ad1319cc",
   "metadata": {},
   "outputs": [],
   "source": [
    "a = a.ravel()\n",
    "print(a)"
   ]
  },
  {
   "cell_type": "code",
   "execution_count": null,
   "id": "d3065d67-cd0a-4fb1-bd89-cccd17e506f4",
   "metadata": {},
   "outputs": [],
   "source": [
    "a = a.reshape(-1)\n",
    "print(a)"
   ]
  },
  {
   "cell_type": "code",
   "execution_count": null,
   "id": "a85cfa9d-2c22-4873-8aee-50fdf8c59f35",
   "metadata": {},
   "outputs": [],
   "source": [
    "a = a.reshape(3,4)\n",
    "print(a)\n",
    "print(a.transpose())\n",
    "print(a.T)"
   ]
  },
  {
   "cell_type": "code",
   "execution_count": null,
   "id": "5cfe482c-ab80-4f77-9257-e6d70e365767",
   "metadata": {},
   "outputs": [],
   "source": [
    "b = a.T.reshape(-1).reshape(3,4)\n",
    "print(b)\n",
    "print(a)"
   ]
  },
  {
   "cell_type": "code",
   "execution_count": null,
   "id": "cd98b811-0402-45df-8381-991f1c04e399",
   "metadata": {},
   "outputs": [],
   "source": [
    "c = np.vstack([a,b])\n",
    "d = np.concatenate([a,b], 0)\n",
    "print(c)\n",
    "print(d)"
   ]
  },
  {
   "cell_type": "code",
   "execution_count": null,
   "id": "40a81635-94f9-4877-86f8-603b8616075e",
   "metadata": {},
   "outputs": [],
   "source": [
    "c = np.hstack([a,b])\n",
    "d = np.concatenate([a,b], 1)\n",
    "print(c)"
   ]
  },
  {
   "cell_type": "code",
   "execution_count": null,
   "id": "20fc27de-9c6d-4363-aa59-c7a317c75e1d",
   "metadata": {},
   "outputs": [],
   "source": [
    "c = np.stack([a,b])\n",
    "print(c)"
   ]
  }
 ],
 "metadata": {
  "kernelspec": {
   "display_name": "Python 3",
   "language": "python",
   "name": "python3"
  },
  "language_info": {
   "codemirror_mode": {
    "name": "ipython",
    "version": 3
   },
   "file_extension": ".py",
   "mimetype": "text/x-python",
   "name": "python",
   "nbconvert_exporter": "python",
   "pygments_lexer": "ipython3",
   "version": "3.8.8"
  }
 },
 "nbformat": 4,
 "nbformat_minor": 5
}
