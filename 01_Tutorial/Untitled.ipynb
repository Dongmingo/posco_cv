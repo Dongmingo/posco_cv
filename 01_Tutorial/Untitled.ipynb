{
 "cells": [
  {
   "cell_type": "code",
   "execution_count": 1,
   "id": "317cf057-00c9-4c26-8c0e-16a8435fa1ac",
   "metadata": {},
   "outputs": [],
   "source": [
    "from PIL import Image"
   ]
  },
  {
   "cell_type": "code",
   "execution_count": 2,
   "id": "a14ee34d-a4c3-4b7a-b001-6dba9975f64f",
   "metadata": {},
   "outputs": [],
   "source": [
    "import skimage.io"
   ]
  },
  {
   "cell_type": "code",
   "execution_count": 3,
   "id": "ab7dd0cb-bd01-4939-8fd0-6c6def7d90ca",
   "metadata": {},
   "outputs": [],
   "source": [
    "sk = skimage.io.imread('Example.png')"
   ]
  },
  {
   "cell_type": "code",
   "execution_count": 5,
   "id": "3ed470d2-958a-4c8d-b53e-2583fc77978d",
   "metadata": {},
   "outputs": [
    {
     "data": {
      "text/plain": [
       "(512, 512, 3)"
      ]
     },
     "execution_count": 5,
     "metadata": {},
     "output_type": "execute_result"
    }
   ],
   "source": [
    "sk.shape"
   ]
  },
  {
   "cell_type": "code",
   "execution_count": 12,
   "id": "4f6443a1-48cb-44e2-8ad8-ec0ab2f2e364",
   "metadata": {},
   "outputs": [],
   "source": [
    "pi = np.asarray(Image.open('Example.png').convert('RGB'))"
   ]
  },
  {
   "cell_type": "code",
   "execution_count": 13,
   "id": "3cdacbd7-c1e4-4497-86ea-b1cd055a6aa9",
   "metadata": {},
   "outputs": [],
   "source": [
    "import numpy as np"
   ]
  },
  {
   "cell_type": "code",
   "execution_count": 14,
   "id": "8fd5a66b-3221-4c6c-acfb-f851802f64b7",
   "metadata": {},
   "outputs": [
    {
     "data": {
      "text/plain": [
       "(512, 512, 3)"
      ]
     },
     "execution_count": 14,
     "metadata": {},
     "output_type": "execute_result"
    }
   ],
   "source": [
    "pi.shape"
   ]
  },
  {
   "cell_type": "code",
   "execution_count": null,
   "id": "7b10ccf8-263b-44ca-aa3e-beec65c878b2",
   "metadata": {},
   "outputs": [],
   "source": []
  }
 ],
 "metadata": {
  "kernelspec": {
   "display_name": "Python 3",
   "language": "python",
   "name": "python3"
  },
  "language_info": {
   "codemirror_mode": {
    "name": "ipython",
    "version": 3
   },
   "file_extension": ".py",
   "mimetype": "text/x-python",
   "name": "python",
   "nbconvert_exporter": "python",
   "pygments_lexer": "ipython3",
   "version": "3.8.8"
  }
 },
 "nbformat": 4,
 "nbformat_minor": 5
}
