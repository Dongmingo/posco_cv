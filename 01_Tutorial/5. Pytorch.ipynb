{
 "cells": [
  {
   "cell_type": "markdown",
   "id": "c389010f-54b5-466c-a2a6-eacd542094c4",
   "metadata": {},
   "source": [
    "# Pytorch\n",
    "---\n",
    "## Tensors\n",
    "* Tensorflow의 Tensor와 다르지 않다.\n",
    "  * Numpy의 ndarrays를 기본적으로 활용하고 있다.\n",
    "  * Numpy의 ndarrays의 대부분의 operation을 사용할 수 있도록 구성되어 있다.\n",
    "* Numpy의 operation은 CPU만을 이용해 느리지만 Tensor는 CUDA를 활용해 GPU를 이용하기 때문에 빠르게 연산을 진행할 수 있다."
   ]
  },
  {
   "cell_type": "code",
   "execution_count": 1,
   "id": "297b1820-8514-4b77-a3f1-e2d436303ff7",
   "metadata": {},
   "outputs": [],
   "source": [
    "%matplotlib inline\n",
    "\n",
    "from matplotlib import pyplot as plt"
   ]
  },
  {
   "cell_type": "code",
   "execution_count": 2,
   "id": "e5b44208-3d0f-4902-ae96-60406c17ea2e",
   "metadata": {},
   "outputs": [
    {
     "data": {
      "text/plain": [
       "True"
      ]
     },
     "execution_count": 2,
     "metadata": {},
     "output_type": "execute_result"
    }
   ],
   "source": [
    "import torch\n",
    "torch.cuda.is_available()"
   ]
  },
  {
   "cell_type": "code",
   "execution_count": 4,
   "id": "34cf77bd-455d-49ab-9afc-429d19ef0b9f",
   "metadata": {},
   "outputs": [
    {
     "name": "stdout",
     "output_type": "stream",
     "text": [
      "tensor([[ 1.6567e-35,  3.0899e-41,  1.4962e-35],\n",
      "        [ 3.0899e-41,  1.1210e-43,  0.0000e+00],\n",
      "        [ 1.5695e-43,  0.0000e+00,  1.6283e-37],\n",
      "        [ 3.0899e-41, -4.0111e+02,  4.5656e-41],\n",
      "        [ 8.4077e-39,  3.0899e-41, -4.0676e+02]]) \n",
      "\n",
      "torch.Size([5, 3])\n",
      "torch.Size([5, 3])\n",
      "2\n"
     ]
    }
   ],
   "source": [
    "x = torch.Tensor(5,3)\n",
    "print(x)\n",
    "print(x.shape)\n",
    "print(x.size())\n",
    "print(x.dim())"
   ]
  },
  {
   "cell_type": "code",
   "execution_count": 5,
   "id": "452592b7-d4e6-4e50-aec7-3af1f842e3a4",
   "metadata": {},
   "outputs": [
    {
     "name": "stdout",
     "output_type": "stream",
     "text": [
      "tensor([[3, 4, 5],\n",
      "        [1, 2, 3]]) \n",
      "\n",
      "torch.Size([2, 3])\n"
     ]
    }
   ],
   "source": [
    "# Construct a matrix with the list\n",
    "x = torch.tensor([[0,1,2],[3,4,5]])\n",
    "print(x)\n",
    "print(x.shape)"
   ]
  },
  {
   "cell_type": "code",
   "execution_count": 6,
   "id": "cdbff714-6f3c-449c-820e-49e611bba7d3",
   "metadata": {},
   "outputs": [
    {
     "name": "stdout",
     "output_type": "stream",
     "text": [
      "tensor([[0, 1, 2],\n",
      "        [3, 4, 5]]) \n",
      "\n",
      "torch.Size([2, 3])\n"
     ]
    }
   ],
   "source": [
    "x = torch.arange(6).reshape(2,3)\n",
    "print(x)\n",
    "print(x.shape)"
   ]
  },
  {
   "cell_type": "code",
   "execution_count": 7,
   "id": "8c37d8ed-da8c-4273-8bcb-52e86be22c6e",
   "metadata": {},
   "outputs": [
    {
     "name": "stdout",
     "output_type": "stream",
     "text": [
      "tensor([[0.9341, 0.5818, 0.2001],\n",
      "        [0.5163, 0.2177, 0.9530],\n",
      "        [0.4203, 0.3605, 0.0297],\n",
      "        [0.8837, 0.8632, 0.5059],\n",
      "        [0.8130, 0.1951, 0.0714]]) \n",
      "\n",
      "None\n"
     ]
    }
   ],
   "source": [
    "# Construct a randomly initialized matrix \n",
    "x = torch.rand(5, 3) # np.random.rand\n",
    "print(x)\n",
    "print(x.grad)"
   ]
  },
  {
   "cell_type": "code",
   "execution_count": 8,
   "id": "7223f7c8-72be-471e-afca-ab170dfab290",
   "metadata": {},
   "outputs": [
    {
     "name": "stdout",
     "output_type": "stream",
     "text": [
      "tensor([[-3.0935e+02,  4.5656e-41, -3.0935e+02],\n",
      "        [ 4.5656e-41, -4.2492e+02,  4.5656e-41],\n",
      "        [-4.2327e+02,  4.5656e-41, -7.3117e+01],\n",
      "        [ 4.5656e-41,  7.2843e-38,  0.0000e+00],\n",
      "        [ 8.9683e-44,  0.0000e+00,  1.7937e-43]]) \n",
      "\n",
      "tensor([[0.3960, 0.1031, 0.6846],\n",
      "        [0.1626, 0.9639, 0.3853],\n",
      "        [0.8824, 0.7609, 0.0777],\n",
      "        [0.3311, 0.4562, 0.3045],\n",
      "        [0.0915, 0.8151, 0.8239]]) \n",
      "\n",
      "tensor([[3, 4, 5],\n",
      "        [1, 2, 3]]) \n",
      "\n",
      "torch.Size([2, 3])\n",
      "torch.Size([2, 3])\n",
      "None\n"
     ]
    }
   ],
   "source": [
    "# Construct a 5 x 3 matrix, uninitialized (random initialized)\n",
    "x = torch.Tensor(5, 3)\n",
    "print(x)\n",
    "\n",
    "# Construct a randomly initialized matrix \n",
    "x = torch.rand(5, 3)\n",
    "print(x)\n",
    "\n",
    "# Construct a matrix with the list\n",
    "x = torch.tensor([[3, 4, 5], [1, 2, 3]])\n",
    "print(x)\n",
    "\n",
    "# Get its size\n",
    "print(x.size())\n",
    "print(x.shape)\n",
    "\n",
    "# Get its grad\n",
    "print(x.grad)"
   ]
  },
  {
   "cell_type": "markdown",
   "id": "1504510d-ed37-4525-adee-5983f23eaf1c",
   "metadata": {},
   "source": [
    "### dtype and device \n",
    " * dtype - Tensor의 데이터 타입\n",
    " * device - Tensor의 작업 위치 (cpu or cuda)"
   ]
  },
  {
   "cell_type": "code",
   "execution_count": 9,
   "id": "975a0d9b-5943-41a0-8bfd-bff0d45599c7",
   "metadata": {},
   "outputs": [
    {
     "name": "stdout",
     "output_type": "stream",
     "text": [
      "tensor([[3., 4., 5.],\n",
      "        [1., 2., 3.]], dtype=torch.float64) \n",
      "\n",
      "tensor([[3, 4, 5],\n",
      "        [1, 2, 3]], dtype=torch.int32) \n",
      "\n",
      "tensor([[ 6.,  8., 10.],\n",
      "        [ 2.,  4.,  6.]], dtype=torch.float64)\n"
     ]
    }
   ],
   "source": [
    "x = torch.tensor([[3, 4, 5], [1, 2, 3]], dtype=torch.float64)\n",
    "print(x)\n",
    "\n",
    "y = torch.tensor([[3, 4, 5], [1, 2, 3]], dtype=torch.int)\n",
    "print(y)\n",
    "\n",
    "\n",
    "print(x + y)"
   ]
  },
  {
   "cell_type": "code",
   "execution_count": 16,
   "id": "d29dfafb-e3ee-4f29-b60f-a3613837141b",
   "metadata": {},
   "outputs": [
    {
     "name": "stdout",
     "output_type": "stream",
     "text": [
      "tensor([[3., 4., 5.],\n",
      "        [1., 2., 3.]]) \n",
      "\n",
      "torch.float32\n",
      "tensor([[3., 4., 5.],\n",
      "        [1., 2., 3.]], dtype=torch.float64)\n",
      "tensor([[ 6.,  8., 10.],\n",
      "        [ 2.,  4.,  6.]], dtype=torch.float64)\n"
     ]
    }
   ],
   "source": [
    "x = torch.tensor([[3, 4, 5], [1, 2, 3]], dtype=torch.float32)\n",
    "print(x)\n",
    "print(x.dtype)\n",
    "y = x.double()\n",
    "print(y)\n",
    "print(x+y)"
   ]
  },
  {
   "cell_type": "code",
   "execution_count": 21,
   "id": "77aee205-9bfe-48d1-90ec-ee61780cb986",
   "metadata": {},
   "outputs": [
    {
     "name": "stdout",
     "output_type": "stream",
     "text": [
      "cpu\n",
      "cuda:0\n",
      "cuda:1\n"
     ]
    }
   ],
   "source": [
    "x = torch.tensor([[3, 4, 5], [1, 2, 3]], dtype=torch.float32)\n",
    "print(x.device)\n",
    "x = x.to(torch.device('cuda'))\n",
    "print(x.device)\n",
    "x = x.to(torch.device('cuda:1'))\n",
    "print(x.device)"
   ]
  },
  {
   "cell_type": "code",
   "execution_count": 22,
   "id": "226db5ba-8737-4738-8b88-c6915c69ff43",
   "metadata": {},
   "outputs": [
    {
     "name": "stdout",
     "output_type": "stream",
     "text": [
      "cuda:0\n",
      "cpu\n"
     ]
    }
   ],
   "source": [
    "x = x.cuda()\n",
    "print(x.device)\n",
    "x = x.cpu()\n",
    "print(x.device)"
   ]
  },
  {
   "cell_type": "code",
   "execution_count": 29,
   "id": "5733e0bc-168b-4626-b45b-27c66cdb21d6",
   "metadata": {},
   "outputs": [
    {
     "name": "stdout",
     "output_type": "stream",
     "text": [
      "Before \"to\" method\n",
      "torch.float64 cpu\n",
      "torch.float32 cpu\n",
      "torch.int32 cuda:1 \n",
      "\n"
     ]
    }
   ],
   "source": [
    "device_0 = torch.device('cuda:0')\n",
    "device_1 = torch.device('cuda:1')\n",
    "\n",
    "x = torch.randn(4, 3, dtype=torch.float64)\n",
    "y = torch.randn(4, 3, dtype=torch.float32)\n",
    "z = torch.randint(0, 10, (4, 3), dtype=torch.int32)\n",
    "\n",
    "z = z.to(device_1)\n",
    "\n",
    "print('Before \"to\" method')\n",
    "\n",
    "print(x.dtype, x.device)\n",
    "print(y.dtype, y.device)\n",
    "print(z.dtype, z.device, '\\n')"
   ]
  },
  {
   "cell_type": "code",
   "execution_count": 30,
   "id": "83b0a670-bb28-4bd0-b9c7-770be69ca39d",
   "metadata": {},
   "outputs": [
    {
     "name": "stdout",
     "output_type": "stream",
     "text": [
      "After \"to\" method\n",
      "torch.int32 cuda:0\n",
      "torch.int32 cuda:1\n",
      "torch.int32 cpu \n",
      "\n"
     ]
    }
   ],
   "source": [
    "print('After \"to\" method')\n",
    "# to method with specific dtype and device \n",
    "x = x.to(dtype=torch.int32, device=device_0)\n",
    "\n",
    "# to method with some tensor \n",
    "y = y.to(z)\n",
    "z = z.to(device='cpu')\n",
    "\n",
    "print(x.dtype, x.device)\n",
    "print(y.dtype, y.device)\n",
    "print(z.dtype, z.device, '\\n')"
   ]
  },
  {
   "cell_type": "markdown",
   "id": "3359e8a9-c23e-44bb-98da-b25fc6fa3dec",
   "metadata": {},
   "source": [
    "### Constructing like Numpy"
   ]
  },
  {
   "cell_type": "code",
   "execution_count": 28,
   "id": "9d27d60a-ad76-4a4b-9ff7-563aadc213ea",
   "metadata": {},
   "outputs": [
    {
     "name": "stdout",
     "output_type": "stream",
     "text": [
      "tensor([[0., 0., 0., 0., 0.],\n",
      "        [0., 0., 0., 0., 0.],\n",
      "        [0., 0., 0., 0., 0.]]) \n",
      "\n",
      "tensor([[1., 1., 1., 1., 1.],\n",
      "        [1., 1., 1., 1., 1.],\n",
      "        [1., 1., 1., 1., 1.]]) \n",
      "\n",
      "tensor([[3.1415, 3.1415, 3.1415, 3.1415, 3.1415],\n",
      "        [3.1415, 3.1415, 3.1415, 3.1415, 3.1415],\n",
      "        [3.1415, 3.1415, 3.1415, 3.1415, 3.1415]]) \n",
      "\n"
     ]
    }
   ],
   "source": [
    "x = torch.empty(3, 5)\n",
    "print(x)\n",
    "\n",
    "x = torch.zeros(3, 5)\n",
    "print(x)\n",
    "\n",
    "x = torch.ones(3, 5)\n",
    "print(x)\n",
    "\n",
    "x = torch.full((3, 5), 3.1415)\n",
    "print(x)"
   ]
  },
  {
   "cell_type": "code",
   "execution_count": 31,
   "id": "17e29664-3ccb-4e21-bce4-b2e44b9e9666",
   "metadata": {},
   "outputs": [
    {
     "name": "stdout",
     "output_type": "stream",
     "text": [
      "tensor([0, 1, 2, 3, 4]) \n",
      "\n",
      "tensor([0.0000, 0.6250, 1.2500, 1.8750, 2.5000, 3.1250, 3.7500, 4.3750, 5.0000]) \n",
      "\n",
      "tensor([1.0000e-10, 1.0000e-05, 1.0000e+00, 1.0000e+05, 1.0000e+10]) \n",
      "\n"
     ]
    }
   ],
   "source": [
    "x = torch.arange(0, 5, 1)\n",
    "print(x)\n",
    "\n",
    "y = torch.linspace(0, 5, 9)\n",
    "print(y)\n",
    "\n",
    "z = torch.logspace(-10, 10, 5)\n",
    "print(z)"
   ]
  },
  {
   "cell_type": "code",
   "execution_count": 32,
   "id": "3e5ba788-b5fa-4a65-b585-11fa55191d6d",
   "metadata": {},
   "outputs": [
    {
     "name": "stdout",
     "output_type": "stream",
     "text": [
      "tensor([[1., 0., 0., 0., 0.],\n",
      "        [0., 1., 0., 0., 0.],\n",
      "        [0., 0., 1., 0., 0.],\n",
      "        [0., 0., 0., 1., 0.],\n",
      "        [0., 0., 0., 0., 1.]])\n"
     ]
    }
   ],
   "source": [
    "z = torch.eye(5) # I: Identity Matrix\n",
    "print(z)"
   ]
  },
  {
   "cell_type": "code",
   "execution_count": 34,
   "id": "162fb8d3-fd50-4ce2-9509-b829b8e80137",
   "metadata": {},
   "outputs": [
    {
     "name": "stdout",
     "output_type": "stream",
     "text": [
      "tensor([[0.4583, 0.1945, 0.3125, 0.1438, 0.4175],\n",
      "        [0.5065, 0.0354, 0.1886, 0.4496, 0.4129],\n",
      "        [0.3414, 0.8074, 0.5479, 0.5427, 0.3460]])\n",
      "tensor([[ 0.6518, -0.0999, -1.0731, -1.0218, -1.3907],\n",
      "        [ 2.1546,  1.6530, -0.7026, -0.5959,  0.2117],\n",
      "        [ 0.7043, -1.6927, -1.4039,  0.0886,  1.2839]])\n",
      "tensor([[4, 7, 4, 4, 4],\n",
      "        [6, 7, 8, 7, 9],\n",
      "        [9, 9, 7, 7, 8]])\n"
     ]
    }
   ],
   "source": [
    "# Construct a 3 x 5 matrix with random value from uniform distribution, i.e. Uniform[0, 1)\n",
    "x = torch.rand(3, 5)\n",
    "print(x)\n",
    "\n",
    "# Construct a 3 x 5 matrix with random value from normal distribution, i.e. Normal(0, 1)\n",
    "x = torch.randn(3, 5)\n",
    "print(x)\n",
    "\n",
    "x = torch.randint(3, 10, (3, 5))\n",
    "print(x)"
   ]
  },
  {
   "cell_type": "markdown",
   "id": "b9a46dd8-f977-4de4-b2c4-bc33e32fd337",
   "metadata": {},
   "source": [
    "- From numpy to tensor"
   ]
  },
  {
   "cell_type": "code",
   "execution_count": 48,
   "id": "b8ac2af0-4aad-4635-b10a-a955efd375c6",
   "metadata": {},
   "outputs": [
    {
     "name": "stdout",
     "output_type": "stream",
     "text": [
      "cpu\n",
      "torch.float32\n",
      "<class 'numpy.ndarray'>\n",
      "\n",
      " [1. 1. 1. 1. 1.] \n",
      " tensor([1., 1., 1., 1., 1.], dtype=torch.float64) \n",
      " tensor([1., 1., 1., 1., 1.]) \n",
      " [1. 1. 1. 1. 1.] \n",
      " [1. 1. 1. 1. 1.]\n"
     ]
    }
   ],
   "source": [
    "import numpy as np\n",
    "a = np.ones(5)\n",
    "b = torch.from_numpy(a)\n",
    "c = torch.Tensor(a)\n",
    "print(b.device)\n",
    "print(c.dtype)\n",
    "d = b.numpy()\n",
    "e = np.array(b)\n",
    "print(type(d))\n",
    "print(\"\\n\",a,\"\\n\",b,\"\\n\",c,\"\\n\",d,\"\\n\",e)"
   ]
  },
  {
   "cell_type": "markdown",
   "id": "193ac068-f243-45ae-8ff7-32b00851bd67",
   "metadata": {},
   "source": [
    "### Operations\n",
    "* Operations에도 여러가지 syntax가 있다."
   ]
  },
  {
   "cell_type": "code",
   "execution_count": 49,
   "id": "5fbb8bfd-9b4f-47b9-a6f6-ba1d3a30a1d9",
   "metadata": {},
   "outputs": [],
   "source": [
    "x = torch.rand(5, 3)\n",
    "y = torch.rand(1, 3)"
   ]
  },
  {
   "cell_type": "code",
   "execution_count": 50,
   "id": "1e7bd51b-da0b-46e8-ace1-86e4b939e69e",
   "metadata": {},
   "outputs": [
    {
     "name": "stdout",
     "output_type": "stream",
     "text": [
      "tensor([[1.1414, 1.3811, 0.8623],\n",
      "        [0.4634, 0.4945, 1.1879],\n",
      "        [0.8353, 1.2414, 0.9865],\n",
      "        [1.0184, 0.6666, 1.2346],\n",
      "        [1.0225, 0.9829, 1.4727]])\n"
     ]
    }
   ],
   "source": [
    "posco = x + y\n",
    "print(posco)"
   ]
  },
  {
   "cell_type": "code",
   "execution_count": 59,
   "id": "ee7b63f6-a855-4025-a123-3566e87c6d5e",
   "metadata": {},
   "outputs": [
    {
     "name": "stdout",
     "output_type": "stream",
     "text": [
      "solution 1 :  tensor([[1.6202, 0.9356, 1.8683],\n",
      "        [1.0249, 0.5471, 0.6959],\n",
      "        [1.2044, 1.0520, 0.3116],\n",
      "        [1.0311, 0.5876, 1.1942],\n",
      "        [1.1928, 0.1226, 1.0589]]) \n",
      "\n",
      "solution 2 :  tensor([[1.6202, 0.9356, 1.8683],\n",
      "        [1.0249, 0.5471, 0.6959],\n",
      "        [1.2044, 1.0520, 0.3116],\n",
      "        [1.0311, 0.5876, 1.1942],\n",
      "        [1.1928, 0.1226, 1.0589]]) \n",
      "\n",
      "solution 3 :  tensor([[1.6202, 0.9356, 1.8683],\n",
      "        [1.0249, 0.5471, 0.6959],\n",
      "        [1.2044, 1.0520, 0.3116],\n",
      "        [1.0311, 0.5876, 1.1942],\n",
      "        [1.1928, 0.1226, 1.0589]]) \n",
      "\n",
      "solution 4 :  tensor([[1.6202, 0.9356, 1.8683],\n",
      "        [1.0249, 0.5471, 0.6959],\n",
      "        [1.2044, 1.0520, 0.3116],\n",
      "        [1.0311, 0.5876, 1.1942],\n",
      "        [1.1928, 0.1226, 1.0589]]) \n",
      "\n"
     ]
    }
   ],
   "source": [
    "x = torch.rand(5, 3)\n",
    "y = torch.rand(5, 3)\n",
    "print(\"solution 1 : \", x + y, '\\n')\n",
    "\n",
    "\n",
    "print(\"solution 2 : \", torch.add(x, y), '\\n')\n",
    "\n",
    "\n",
    "result = torch.Tensor(5, 3)\n",
    "torch.add(x, y, out=result)\n",
    "print(\"solution 3 : \", result, '\\n')\n",
    "\n",
    "y.add_(x)\n",
    "print(\"solution 4 : \", y, '\\n')\n"
   ]
  },
  {
   "cell_type": "markdown",
   "id": "3fa09981-859a-4c4e-9e93-571126abd8dd",
   "metadata": {},
   "source": [
    "### Same indexing as numpy"
   ]
  },
  {
   "cell_type": "code",
   "execution_count": 60,
   "id": "33699044-394b-4e46-b101-9b766aadb33a",
   "metadata": {},
   "outputs": [
    {
     "name": "stdout",
     "output_type": "stream",
     "text": [
      "tensor([[0.9463, 0.7832, 0.9431],\n",
      "        [0.3020, 0.4144, 0.1780],\n",
      "        [0.3523, 0.6639, 0.2156],\n",
      "        [0.9345, 0.0160, 0.3808],\n",
      "        [0.7219, 0.0355, 0.1539]])\n",
      "tensor([0.7832, 0.4144, 0.6639, 0.0160, 0.0355]) \n",
      "\n",
      "tensor([[ True,  True,  True],\n",
      "        [False, False, False],\n",
      "        [False,  True, False],\n",
      "        [ True, False, False],\n",
      "        [ True, False, False]])\n",
      "tensor([0.9463, 0.7832, 0.9431, 0.6639, 0.9345, 0.7219])\n"
     ]
    }
   ],
   "source": [
    "# indexing 또한 비슷하게\n",
    "print(x)\n",
    "print(x[:, 1], '\\n')\n",
    "print(x>0.5)\n",
    "print(x[x > 0.5])"
   ]
  },
  {
   "cell_type": "markdown",
   "id": "4b1464fe-d4ad-4637-83ce-c6f850ce3087",
   "metadata": {},
   "source": [
    "### Squeeze and Unsqueeze"
   ]
  },
  {
   "cell_type": "code",
   "execution_count": 106,
   "id": "b07615ad-b9a6-4ba8-bf23-029ca0ade94f",
   "metadata": {},
   "outputs": [
    {
     "name": "stdout",
     "output_type": "stream",
     "text": [
      "torch.Size([1, 20, 1, 128])\n",
      "torch.Size([20, 128])\n"
     ]
    }
   ],
   "source": [
    "x = torch.rand(1, 20, 1, 128)\n",
    "print(x.shape)\n",
    "x = x.squeeze() # [1, 20, 1, 128] -> [20, 128]\n",
    "print(x.shape)"
   ]
  },
  {
   "cell_type": "code",
   "execution_count": 107,
   "id": "11370684-83aa-4563-9075-dea18ebd5d4b",
   "metadata": {},
   "outputs": [
    {
     "name": "stdout",
     "output_type": "stream",
     "text": [
      "torch.Size([1, 20, 1, 128])\n",
      "torch.Size([1, 20, 128])\n"
     ]
    }
   ],
   "source": [
    "x2 = torch.rand(1, 20, 1, 128)\n",
    "print(x2.shape)\n",
    "x2 = x2.squeeze(dim=2) # [1, 20, 1, 128] -> [1, 20, 128]\n",
    "print(x2.shape)"
   ]
  },
  {
   "cell_type": "code",
   "execution_count": 110,
   "id": "1b24b185-85fe-4cb9-8a0b-06a0e6a56c4d",
   "metadata": {},
   "outputs": [
    {
     "name": "stdout",
     "output_type": "stream",
     "text": [
      "torch.Size([20, 128])\n",
      "torch.Size([1, 20, 128])\n"
     ]
    }
   ],
   "source": [
    "print(x.shape)\n",
    "x3 = x.unsqueeze(0)\n",
    "print(x3.shape)"
   ]
  },
  {
   "cell_type": "markdown",
   "id": "3e7f1459-b00e-45fe-90df-84ae44855236",
   "metadata": {},
   "source": [
    "### multiplication and concatenation"
   ]
  },
  {
   "cell_type": "code",
   "execution_count": 111,
   "id": "17c9c7bd-35e1-4799-9c17-9d2606abd2e0",
   "metadata": {},
   "outputs": [
    {
     "name": "stdout",
     "output_type": "stream",
     "text": [
      "tensor([[2., 2., 2.],\n",
      "        [2., 2., 2.],\n",
      "        [2., 2., 2.],\n",
      "        [2., 2., 2.],\n",
      "        [2., 2., 2.]])\n",
      "tensor([[3., 3., 3.],\n",
      "        [3., 3., 3.],\n",
      "        [3., 3., 3.],\n",
      "        [3., 3., 3.],\n",
      "        [3., 3., 3.]])\n",
      "tensor([[6., 6., 6.],\n",
      "        [6., 6., 6.],\n",
      "        [6., 6., 6.],\n",
      "        [6., 6., 6.],\n",
      "        [6., 6., 6.]])\n"
     ]
    }
   ],
   "source": [
    "x = torch.ones(5, 3)+1\n",
    "y = torch.ones(5, 3)+2\n",
    "z = x * y\n",
    "print(x)\n",
    "print(y)\n",
    "print(z)"
   ]
  },
  {
   "cell_type": "code",
   "execution_count": 113,
   "id": "45327a1e-ae86-434e-b3d8-ba59d36f97f2",
   "metadata": {},
   "outputs": [
    {
     "name": "stdout",
     "output_type": "stream",
     "text": [
      "torch.Size([5, 3])\n",
      "torch.Size([5, 3])\n",
      "tensor([[18., 18., 18., 18., 18.],\n",
      "        [18., 18., 18., 18., 18.],\n",
      "        [18., 18., 18., 18., 18.],\n",
      "        [18., 18., 18., 18., 18.],\n",
      "        [18., 18., 18., 18., 18.]]) torch.Size([5, 5])\n"
     ]
    },
    {
     "data": {
      "text/plain": [
       "tensor([[18., 18., 18., 18., 18.],\n",
       "        [18., 18., 18., 18., 18.],\n",
       "        [18., 18., 18., 18., 18.],\n",
       "        [18., 18., 18., 18., 18.],\n",
       "        [18., 18., 18., 18., 18.]])"
      ]
     },
     "execution_count": 113,
     "metadata": {},
     "output_type": "execute_result"
    }
   ],
   "source": [
    "## matrix multiplication\n",
    "## y = W.T * x + b\n",
    "z= torch.matmul(x, y.t())\n",
    "print(x.shape)\n",
    "print(y.shape)\n",
    "print(z, z.shape)\n",
    "w = x @ y.T\n",
    "w"
   ]
  },
  {
   "cell_type": "code",
   "execution_count": 114,
   "id": "095d597b-d427-43dc-b8a7-35f232c54502",
   "metadata": {},
   "outputs": [
    {
     "name": "stdout",
     "output_type": "stream",
     "text": [
      "tensor([[2., 2., 2.],\n",
      "        [2., 2., 2.],\n",
      "        [2., 2., 2.],\n",
      "        [2., 2., 2.],\n",
      "        [2., 2., 2.]])\n",
      "tensor([[3., 3., 3.],\n",
      "        [3., 3., 3.],\n",
      "        [3., 3., 3.],\n",
      "        [3., 3., 3.],\n",
      "        [3., 3., 3.]])\n",
      "tensor([[2., 2., 2., 3., 3., 3.],\n",
      "        [2., 2., 2., 3., 3., 3.],\n",
      "        [2., 2., 2., 3., 3., 3.],\n",
      "        [2., 2., 2., 3., 3., 3.],\n",
      "        [2., 2., 2., 3., 3., 3.]])\n",
      "torch.Size([5, 3])\n",
      "torch.Size([5, 3])\n",
      "torch.Size([5, 6])\n"
     ]
    }
   ],
   "source": [
    "print(x)\n",
    "print(y)\n",
    "z = torch.cat([x, y], dim=1)\n",
    "print(z)\n",
    "print(x.shape)\n",
    "print(y.shape)\n",
    "print(z.shape)"
   ]
  },
  {
   "cell_type": "markdown",
   "id": "4026366e-e14b-4fb6-9429-e7138d25fbc1",
   "metadata": {},
   "source": [
    "### 넘파이의 다양한 operation들이 토치에 같은 함수나 변형된 함수로 대부분 탑재 되어있음."
   ]
  },
  {
   "cell_type": "markdown",
   "id": "1946cd3a-7069-4363-886b-ddab96c32704",
   "metadata": {},
   "source": [
    "---\n",
    "## PyTorch의 Autograd: automatic differentiation\n",
    "* Autograd package는 Tensors가 사용할 수 있는 모든 Operation의 Gradient를 자동으로 계산해준다.\n",
    "* Tensor의 required_grad attribute를 이용해 gradient의 계산여부를 결정할 수 있다.\n",
    "  * 계산이 완료된 이후에 .backward()를 호출하면 자동으로 gradient를 계산한다.\n",
    "  * .grad attribute를 통해 마찬가지로 gradient에 접근할 수 있다. \n",
    "  * .grad_fn attribute를 통해 해당 Variable이 어떻게 생성되었는지 확인할 수 있다. 해당 값으로 해당 노드의 local gradient 구할 수 있게 됨.\n",
    "  \n",
    "  "
   ]
  },
  {
   "cell_type": "code",
   "execution_count": 147,
   "id": "2bdf3364-0249-4c91-b10d-e656b23d54d5",
   "metadata": {},
   "outputs": [
    {
     "name": "stdout",
     "output_type": "stream",
     "text": [
      "tensor([[1., 1.],\n",
      "        [1., 1.]], requires_grad=True)\n",
      "True\n",
      "None\n"
     ]
    }
   ],
   "source": [
    "# Create a variable\n",
    "x = torch.ones(2, 2, requires_grad=True)\n",
    "\n",
    "print(x)\n",
    "print(x.requires_grad)\n",
    "print(x.grad)"
   ]
  },
  {
   "cell_type": "code",
   "execution_count": 148,
   "id": "4fa930f7-8472-4f24-b51a-f2900951bbad",
   "metadata": {},
   "outputs": [
    {
     "name": "stdout",
     "output_type": "stream",
     "text": [
      "tensor([[3., 3.],\n",
      "        [3., 3.]], grad_fn=<AddBackward0>)\n",
      "tensor([[27., 27.],\n",
      "        [27., 27.]], grad_fn=<MulBackward0>)\n",
      "tensor(27., grad_fn=<MeanBackward0>)\n"
     ]
    }
   ],
   "source": [
    "y = x + 2\n",
    "print(y)\n",
    "z = y * y * 3\n",
    "print(z)\n",
    "out = z.mean()\n",
    "print(out)\n",
    "\n",
    "out.retain_grad()\n",
    "z.retain_grad()\n",
    "y.retain_grad()"
   ]
  },
  {
   "cell_type": "code",
   "execution_count": 149,
   "id": "9fd3b5a2-8743-4102-ae26-b0e7e2fe74d1",
   "metadata": {},
   "outputs": [
    {
     "name": "stdout",
     "output_type": "stream",
     "text": [
      "tensor(27.) None <MeanBackward0 object at 0x7f44bc6d6c10>\n",
      "tensor([[27., 27.],\n",
      "        [27., 27.]]) None <MulBackward0 object at 0x7f44bc727ca0>\n",
      "tensor([[3., 3.],\n",
      "        [3., 3.]]) None <AddBackward0 object at 0x7f44bc79d1f0>\n",
      "tensor([[1., 1.],\n",
      "        [1., 1.]]) None None\n"
     ]
    }
   ],
   "source": [
    "# y,z는 operation으로 생성된 결과이기 때문에 grad_fn이 있지만 , x는 없다.\n",
    "print(out.data, out.grad, out.grad_fn)\n",
    "print(z.data, z.grad, z.grad_fn)\n",
    "print(y.data, y.grad, y.grad_fn)\n",
    "print(x.data, x.grad, x.grad_fn)"
   ]
  },
  {
   "cell_type": "code",
   "execution_count": 150,
   "id": "60ab368d-6abd-4870-9306-f32ec7191a4a",
   "metadata": {},
   "outputs": [
    {
     "name": "stdout",
     "output_type": "stream",
     "text": [
      "tensor(27.) tensor(1.)\n",
      "tensor([[27., 27.],\n",
      "        [27., 27.]]) tensor([[0.2500, 0.2500],\n",
      "        [0.2500, 0.2500]])\n",
      "tensor([[3., 3.],\n",
      "        [3., 3.]]) tensor([[4.5000, 4.5000],\n",
      "        [4.5000, 4.5000]])\n",
      "tensor([[1., 1.],\n",
      "        [1., 1.]]) tensor([[4.5000, 4.5000],\n",
      "        [4.5000, 4.5000]])\n"
     ]
    }
   ],
   "source": [
    "out.backward()\n",
    "\n",
    "print(out.data, out.grad)\n",
    "print(z.data, z.grad)\n",
    "print(y.data, y.grad)\n",
    "print(x.data, x.grad)"
   ]
  },
  {
   "cell_type": "markdown",
   "id": "87c3b621-c1e3-455a-9935-f7e7feaf5c0b",
   "metadata": {},
   "source": [
    "* 실제로 Gradient 를 계산하면 다음과 같다. <br>\n",
    "$$\\frac{\\partial o}{\\partial o} = 1 $$\n",
    "\n",
    "$$o = \\frac{1}{4}\\sum_{i} z_{i}$$ \n",
    "\n",
    "$$\\frac{\\partial o}{\\partial z_{i}} = 0.25 $$\n",
    "\n",
    "$$z_{i}=3(y_{i})^{2}$$\n",
    "\n",
    "$$\\frac{\\partial o}{\\partial y_{i}} = 0.25 * \\frac{\\partial z_{i}}{\\partial y_{i}} = 1.5 * y_{i}|_{y_{i}=3} = 4.5 $$\n",
    "\n",
    "$$y = x + 2  $$\n",
    "\n",
    "$$\\frac{\\partial o}{\\partial x_{i}}|_{x_{i}=1} = \\frac{\\partial o}{\\partial y_{i}} = 4.5$$"
   ]
  },
  {
   "cell_type": "markdown",
   "id": "49b1356f-9e1d-47ec-be6e-cac8d14e2805",
   "metadata": {},
   "source": [
    "### Gradients \n",
    "* out.backward()을 하면 out의 gradient를 1로 시작해 Back-propagation을 시작한다.\n",
    "* .backward()를 호출한 이후부터는 .grad를 통해 각 변수의 gradient를 구할 수 있다.\n",
    "* https://teamdable.github.io/techblog/PyTorch-Autograd"
   ]
  },
  {
   "cell_type": "code",
   "execution_count": 134,
   "id": "fcea8519-7065-4b81-a60b-6b36ced5898a",
   "metadata": {},
   "outputs": [
    {
     "name": "stdout",
     "output_type": "stream",
     "text": [
      "x tensor(5.)\n",
      "y tensor(125.)\n",
      "z tensor(4.8283)\n"
     ]
    }
   ],
   "source": [
    "import torch\n",
    "\n",
    "x = torch.tensor(5.0)\n",
    "y = x ** 3\n",
    "z = torch.log(y)\n",
    "\n",
    "print('x', x)\n",
    "print('y', y)\n",
    "print('z', z)"
   ]
  },
  {
   "cell_type": "code",
   "execution_count": 151,
   "id": "1cb662cd-af01-4541-b8c1-a80da1263527",
   "metadata": {},
   "outputs": [
    {
     "name": "stdout",
     "output_type": "stream",
     "text": [
      "x requires_grad(False) is_leaf(True) retains_grad(False) grad_fn(None) grad(None) tensor(tensor(5.))\n",
      "y requires_grad(False) is_leaf(True) retains_grad(False) grad_fn(None) grad(None) tensor(tensor(125.))\n",
      "z requires_grad(False) is_leaf(True) retains_grad(False) grad_fn(None) grad(None) tensor(tensor(4.8283))\n"
     ]
    }
   ],
   "source": [
    "def get_tensor_info(tensor):\n",
    "  info = []\n",
    "  for name in ['requires_grad', 'is_leaf', 'retains_grad', 'grad_fn', 'grad']:\n",
    "    info.append(f'{name}({getattr(tensor, name, None)})')\n",
    "  info.append(f'tensor({str(tensor)})')\n",
    "  return ' '.join(info)\n",
    "\n",
    "x = torch.tensor(5.0)\n",
    "y = x ** 3\n",
    "z = torch.log(y)\n",
    "\n",
    "print('x', get_tensor_info(x))\n",
    "print('y', get_tensor_info(y))\n",
    "print('z', get_tensor_info(z))"
   ]
  },
  {
   "cell_type": "code",
   "execution_count": 152,
   "id": "513c6147-8c91-46db-82c2-d3450fc17f57",
   "metadata": {},
   "outputs": [
    {
     "name": "stdout",
     "output_type": "stream",
     "text": [
      "x requires_grad(True) is_leaf(True) retains_grad(False) grad_fn(None) grad(None) tensor(tensor(5., requires_grad=True))\n",
      "y requires_grad(True) is_leaf(False) retains_grad(False) grad_fn(<PowBackward0 object at 0x7f44bc684760>) grad(None) tensor(tensor(125., grad_fn=<PowBackward0>))\n",
      "z requires_grad(True) is_leaf(False) retains_grad(False) grad_fn(<LogBackward0 object at 0x7f44bc6841c0>) grad(None) tensor(tensor(4.8283, grad_fn=<LogBackward0>))\n",
      "x_after_backward requires_grad(True) is_leaf(True) retains_grad(False) grad_fn(None) grad(0.6000000238418579) tensor(tensor(5., requires_grad=True))\n",
      "y_after_backward requires_grad(True) is_leaf(False) retains_grad(False) grad_fn(<PowBackward0 object at 0x7f44bc6d6ac0>) grad(None) tensor(tensor(125., grad_fn=<PowBackward0>))\n",
      "z_after_backward requires_grad(True) is_leaf(False) retains_grad(False) grad_fn(<LogBackward0 object at 0x7f44bc6841c0>) grad(None) tensor(tensor(4.8283, grad_fn=<LogBackward0>))\n"
     ]
    }
   ],
   "source": [
    "x = torch.tensor(5.0, requires_grad=True)\n",
    "y = x ** 3\n",
    "z = torch.log(y)\n",
    "\n",
    "print('x', get_tensor_info(x))\n",
    "print('y', get_tensor_info(y))\n",
    "print('z', get_tensor_info(z))\n",
    "\n",
    "z.backward()\n",
    "\n",
    "print('x_after_backward', get_tensor_info(x))\n",
    "print('y_after_backward', get_tensor_info(y))\n",
    "print('z_after_backward', get_tensor_info(z))"
   ]
  },
  {
   "cell_type": "code",
   "execution_count": 153,
   "id": "eb893c12-1cf0-4820-b8ec-fc646e7c0190",
   "metadata": {},
   "outputs": [
    {
     "name": "stdout",
     "output_type": "stream",
     "text": [
      "x_before_backward : requires_grad(True) is_leaf(True) retains_grad(False) grad_fn(None) grad(None) tensor(tensor(5., requires_grad=True))\n",
      "y_before_backward : requires_grad(True) is_leaf(False) retains_grad(False) grad_fn(<PowBackward0 object at 0x7f44bc6840d0>) grad(None) tensor(tensor(125., grad_fn=<PowBackward0>))\n",
      "z_before_backward : requires_grad(True) is_leaf(False) retains_grad(False) grad_fn(<LogBackward0 object at 0x7f44bc684610>) grad(None) tensor(tensor(4.8283, grad_fn=<LogBackward0>))\n",
      "x_after_backward : requires_grad(True) is_leaf(True) retains_grad(False) grad_fn(None) grad(0.6000000238418579) tensor(tensor(5., requires_grad=True))\n",
      "y_after_backward : requires_grad(True) is_leaf(False) retains_grad(True) grad_fn(<PowBackward0 object at 0x7f44bc713760>) grad(0.00800000037997961) tensor(tensor(125., grad_fn=<PowBackward0>))\n",
      "z_after_backward : requires_grad(True) is_leaf(False) retains_grad(True) grad_fn(<LogBackward0 object at 0x7f44bc684160>) grad(1.0) tensor(tensor(4.8283, grad_fn=<LogBackward0>))\n"
     ]
    }
   ],
   "source": [
    "x = torch.tensor(5.0, requires_grad=True)\n",
    "y = x ** 3\n",
    "z = torch.log(y)\n",
    "\n",
    "print('x_before_backward :', get_tensor_info(x))\n",
    "print('y_before_backward :', get_tensor_info(y))\n",
    "print('z_before_backward :', get_tensor_info(z))\n",
    "\n",
    "y.retain_grad()\n",
    "z.retain_grad()\n",
    "z.backward()\n",
    "\n",
    "print('x_after_backward :', get_tensor_info(x))\n",
    "print('y_after_backward :', get_tensor_info(y))\n",
    "print('z_after_backward :', get_tensor_info(z))"
   ]
  },
  {
   "cell_type": "code",
   "execution_count": 154,
   "id": "524b5976-574f-4189-a3b5-0d9be8c5e36e",
   "metadata": {},
   "outputs": [
    {
     "name": "stdout",
     "output_type": "stream",
     "text": [
      "x requires_grad(True) is_leaf(True) retains_grad(False) grad_fn(None) grad(None) tensor(tensor(5., requires_grad=True))\n",
      "y requires_grad(True) is_leaf(False) retains_grad(False) grad_fn(<PowBackward0 object at 0x7f45bcbaadf0>) grad(None) tensor(tensor(125., grad_fn=<PowBackward0>))\n",
      "z requires_grad(True) is_leaf(False) retains_grad(False) grad_fn(<LogBackward0 object at 0x7f44bc6d6910>) grad(None) tensor(tensor(4.8283, grad_fn=<LogBackward0>))\n",
      "x_after_backward requires_grad(True) is_leaf(True) retains_grad(False) grad_fn(None) grad(0.6000000238418579) tensor(tensor(5., requires_grad=True))\n",
      "y_after_backward requires_grad(True) is_leaf(False) retains_grad(False) grad_fn(<PowBackward0 object at 0x7f450386c730>) grad(None) tensor(tensor(125., grad_fn=<PowBackward0>))\n",
      "z_after_backward requires_grad(True) is_leaf(False) retains_grad(False) grad_fn(<LogBackward0 object at 0x7f44bc6d6040>) grad(None) tensor(tensor(4.8283, grad_fn=<LogBackward0>))\n",
      "x_after_2backward requires_grad(True) is_leaf(True) retains_grad(False) grad_fn(None) grad(1.2000000476837158) tensor(tensor(5., requires_grad=True))\n",
      "y_after_2backward requires_grad(True) is_leaf(False) retains_grad(False) grad_fn(<PowBackward0 object at 0x7f44c40f0490>) grad(None) tensor(tensor(125., grad_fn=<PowBackward0>))\n",
      "z_after_2backward requires_grad(True) is_leaf(False) retains_grad(False) grad_fn(<LogBackward0 object at 0x7f44bc6d6280>) grad(None) tensor(tensor(4.8283, grad_fn=<LogBackward0>))\n"
     ]
    }
   ],
   "source": [
    "x = torch.tensor(5.0, requires_grad=True)\n",
    "y = x ** 3\n",
    "z = torch.log(y)\n",
    "\n",
    "print('x', get_tensor_info(x))\n",
    "print('y', get_tensor_info(y))\n",
    "print('z', get_tensor_info(z))\n",
    "\n",
    "z.backward(retain_graph=True)\n",
    "\n",
    "print('x_after_backward', get_tensor_info(x))\n",
    "print('y_after_backward', get_tensor_info(y))\n",
    "print('z_after_backward', get_tensor_info(z))\n",
    "\n",
    "z.backward()\n",
    "\n",
    "print('x_after_2backward', get_tensor_info(x))\n",
    "print('y_after_2backward', get_tensor_info(y))\n",
    "print('z_after_2backward', get_tensor_info(z))"
   ]
  }
 ],
 "metadata": {
  "kernelspec": {
   "display_name": "Python 3",
   "language": "python",
   "name": "python3"
  },
  "language_info": {
   "codemirror_mode": {
    "name": "ipython",
    "version": 3
   },
   "file_extension": ".py",
   "mimetype": "text/x-python",
   "name": "python",
   "nbconvert_exporter": "python",
   "pygments_lexer": "ipython3",
   "version": "3.8.8"
  }
 },
 "nbformat": 4,
 "nbformat_minor": 5
}
