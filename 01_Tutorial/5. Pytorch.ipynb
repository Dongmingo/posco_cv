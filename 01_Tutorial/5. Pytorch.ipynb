{
 "cells": [
  {
   "cell_type": "markdown",
   "id": "c389010f-54b5-466c-a2a6-eacd542094c4",
   "metadata": {},
   "source": [
    "# Pytorch\n",
    "---\n",
    "## Tensors\n",
    "* Tensorflow의 Tensor와 다르지 않다.\n",
    "  * Numpy의 ndarrays를 기본적으로 활용하고 있다.\n",
    "  * Numpy의 ndarrays의 대부분의 operation을 사용할 수 있도록 구성되어 있다.\n",
    "* Numpy의 operation은 CPU만을 이용해 느리지만 Tensor는 CUDA를 활용해 GPU를 이용하기 때문에 빠르게 연산을 진행할 수 있다."
   ]
  },
  {
   "cell_type": "code",
   "execution_count": 1,
   "id": "297b1820-8514-4b77-a3f1-e2d436303ff7",
   "metadata": {},
   "outputs": [],
   "source": [
    "%matplotlib inline\n",
    "\n",
    "from matplotlib import pyplot as plt"
   ]
  },
  {
   "cell_type": "code",
   "execution_count": 69,
   "id": "e5b44208-3d0f-4902-ae96-60406c17ea2e",
   "metadata": {},
   "outputs": [
    {
     "name": "stdout",
     "output_type": "stream",
     "text": [
      "Mon Jun 13 07:54:28 2022       \n",
      "+-----------------------------------------------------------------------------+\n",
      "| NVIDIA-SMI 440.82       Driver Version: 440.82       CUDA Version: 10.2     |\n",
      "|-------------------------------+----------------------+----------------------+\n",
      "| GPU  Name        Persistence-M| Bus-Id        Disp.A | Volatile Uncorr. ECC |\n",
      "| Fan  Temp  Perf  Pwr:Usage/Cap|         Memory-Usage | GPU-Util  Compute M. |\n",
      "|===============================+======================+======================|\n",
      "|   0  GeForce GTX 108...  Off  | 00000000:03:00.0 Off |                  N/A |\n",
      "| 23%   37C    P8     9W / 250W |    577MiB / 11176MiB |      0%      Default |\n",
      "+-------------------------------+----------------------+----------------------+\n",
      "|   1  GeForce GTX 108...  Off  | 00000000:04:00.0 Off |                  N/A |\n",
      "| 29%   36C    P8     9W / 250W |    577MiB / 11178MiB |      0%      Default |\n",
      "+-------------------------------+----------------------+----------------------+\n",
      "                                                                               \n",
      "+-----------------------------------------------------------------------------+\n",
      "| Processes:                                                       GPU Memory |\n",
      "|  GPU       PID   Type   Process name                             Usage      |\n",
      "|=============================================================================|\n",
      "+-----------------------------------------------------------------------------+\n"
     ]
    }
   ],
   "source": [
    "import torch\n",
    "torch.cuda.is_available()\n",
    "\n",
    "!nvidia-smi"
   ]
  },
  {
   "cell_type": "code",
   "execution_count": 70,
   "id": "7c3da022-af25-4f50-9443-75df3f7512ee",
   "metadata": {},
   "outputs": [],
   "source": [
    "x = torch.rand(10000,100000).to('cuda')"
   ]
  },
  {
   "cell_type": "code",
   "execution_count": 72,
   "id": "f2c36e03-a7e6-4e7f-a8a5-dae21a88ffa4",
   "metadata": {},
   "outputs": [
    {
     "name": "stdout",
     "output_type": "stream",
     "text": [
      "Mon Jun 13 07:55:44 2022       \n",
      "+-----------------------------------------------------------------------------+\n",
      "| NVIDIA-SMI 440.82       Driver Version: 440.82       CUDA Version: 10.2     |\n",
      "|-------------------------------+----------------------+----------------------+\n",
      "| GPU  Name        Persistence-M| Bus-Id        Disp.A | Volatile Uncorr. ECC |\n",
      "| Fan  Temp  Perf  Pwr:Usage/Cap|         Memory-Usage | GPU-Util  Compute M. |\n",
      "|===============================+======================+======================|\n",
      "|   0  GeForce GTX 108...  Off  | 00000000:03:00.0 Off |                  N/A |\n",
      "| 23%   43C    P5    13W / 250W |   4393MiB / 11176MiB |      0%      Default |\n",
      "+-------------------------------+----------------------+----------------------+\n",
      "|   1  GeForce GTX 108...  Off  | 00000000:04:00.0 Off |                  N/A |\n",
      "| 29%   36C    P8     9W / 250W |    577MiB / 11178MiB |      0%      Default |\n",
      "+-------------------------------+----------------------+----------------------+\n",
      "                                                                               \n",
      "+-----------------------------------------------------------------------------+\n",
      "| Processes:                                                       GPU Memory |\n",
      "|  GPU       PID   Type   Process name                             Usage      |\n",
      "|=============================================================================|\n",
      "+-----------------------------------------------------------------------------+\n"
     ]
    }
   ],
   "source": [
    "!nvidia-smi"
   ]
  },
  {
   "cell_type": "code",
   "execution_count": 77,
   "id": "63d1259f-0df0-457b-9716-ee1755367b78",
   "metadata": {},
   "outputs": [
    {
     "data": {
      "text/plain": [
       "4391.697265625"
      ]
     },
     "execution_count": 77,
     "metadata": {},
     "output_type": "execute_result"
    }
   ],
   "source": [
    "x.dtype\n",
    "1000000000/1024/1024*4 + 577"
   ]
  },
  {
   "cell_type": "code",
   "execution_count": 5,
   "id": "34cf77bd-455d-49ab-9afc-429d19ef0b9f",
   "metadata": {},
   "outputs": [
    {
     "name": "stdout",
     "output_type": "stream",
     "text": [
      "tensor([[-8.0936e-15,  4.5835e-41, -1.8887e-24],\n",
      "        [ 3.0620e-41,  1.3563e-19,  1.3569e-19],\n",
      "        [ 2.3301e-09,  1.3556e-19,  1.5257e-19],\n",
      "        [ 1.3570e-19,  6.6545e-33,  1.3563e-19],\n",
      "        [ 1.6114e-19,  3.4543e+30,  1.7864e+25]])\n",
      "torch.Size([5, 3])\n",
      "torch.Size([5, 3])\n",
      "2\n"
     ]
    }
   ],
   "source": [
    "x = torch.Tensor(5,3)\n",
    "print(x)\n",
    "print(x.shape)\n",
    "print(x.size())\n",
    "print(x.dim())"
   ]
  },
  {
   "cell_type": "code",
   "execution_count": 6,
   "id": "452592b7-d4e6-4e50-aec7-3af1f842e3a4",
   "metadata": {},
   "outputs": [
    {
     "name": "stdout",
     "output_type": "stream",
     "text": [
      "tensor([[0, 1, 2],\n",
      "        [3, 4, 5]])\n",
      "torch.Size([2, 3])\n"
     ]
    }
   ],
   "source": [
    "# Construct a matrix with the list\n",
    "x = torch.tensor([[0,1,2],[3,4,5]])\n",
    "print(x)\n",
    "print(x.shape)"
   ]
  },
  {
   "cell_type": "code",
   "execution_count": 7,
   "id": "cdbff714-6f3c-449c-820e-49e611bba7d3",
   "metadata": {},
   "outputs": [
    {
     "name": "stdout",
     "output_type": "stream",
     "text": [
      "tensor([[0, 1, 2],\n",
      "        [3, 4, 5]])\n",
      "torch.Size([2, 3])\n"
     ]
    }
   ],
   "source": [
    "x = torch.arange(6).reshape(2,3)\n",
    "print(x)\n",
    "print(x.shape)"
   ]
  },
  {
   "cell_type": "code",
   "execution_count": 8,
   "id": "8c37d8ed-da8c-4273-8bcb-52e86be22c6e",
   "metadata": {},
   "outputs": [
    {
     "name": "stdout",
     "output_type": "stream",
     "text": [
      "tensor([[0.0905, 0.8385, 0.5971],\n",
      "        [0.7587, 0.5293, 0.5693],\n",
      "        [0.2580, 0.0111, 0.4075],\n",
      "        [0.5826, 0.4118, 0.1744],\n",
      "        [0.3852, 0.4031, 0.2682]])\n",
      "None\n"
     ]
    }
   ],
   "source": [
    "# Construct a randomly initialized matrix \n",
    "x = torch.rand(5, 3) # np.random.rand\n",
    "print(x)\n",
    "print(x.grad)"
   ]
  },
  {
   "cell_type": "code",
   "execution_count": 12,
   "id": "7223f7c8-72be-471e-afca-ab170dfab290",
   "metadata": {},
   "outputs": [
    {
     "name": "stdout",
     "output_type": "stream",
     "text": [
      "tensor([[-8.0936e-15,  4.5835e-41, -8.0936e-15],\n",
      "        [ 4.5835e-41,  5.7651e-01,  7.6007e-01],\n",
      "        [ 6.9026e-01,  9.1783e-01,  3.2770e-01],\n",
      "        [ 9.4797e-01,  7.1581e-02,  1.4809e-01],\n",
      "        [ 5.0616e-01,  2.5177e-01,  9.2551e-01]])\n",
      "tensor([[0.9047, 0.6213, 0.2686],\n",
      "        [0.2948, 0.3269, 0.5125],\n",
      "        [0.1985, 0.4824, 0.0502],\n",
      "        [0.5937, 0.0558, 0.5935],\n",
      "        [0.7950, 0.0395, 0.3007]])\n",
      "torch.float32\n",
      "torch.Size([2, 3])\n",
      "torch.Size([2, 3])\n",
      "None\n"
     ]
    }
   ],
   "source": [
    "# Construct a 5 x 3 matrix, uninitialized (random initialized)\n",
    "x = torch.Tensor(5, 3)\n",
    "print(x)\n",
    "\n",
    "# Construct a randomly initialized matrix \n",
    "x = torch.rand(5, 3)\n",
    "print(x)\n",
    "\n",
    "# Construct a matrix with the list\n",
    "x = torch.tensor([[3.5, 4, 5], [1, 2, 3]])\n",
    "print(x.dtype)\n",
    "\n",
    "# Get its size\n",
    "print(x.size())\n",
    "print(x.shape)\n",
    "\n",
    "# Get its grad\n",
    "print(x.grad)"
   ]
  },
  {
   "cell_type": "markdown",
   "id": "1504510d-ed37-4525-adee-5983f23eaf1c",
   "metadata": {},
   "source": [
    "### dtype and device \n",
    " * dtype - Tensor의 데이터 타입\n",
    " * device - Tensor의 작업 위치 (cpu or cuda)"
   ]
  },
  {
   "cell_type": "code",
   "execution_count": 13,
   "id": "975a0d9b-5943-41a0-8bfd-bff0d45599c7",
   "metadata": {},
   "outputs": [
    {
     "name": "stdout",
     "output_type": "stream",
     "text": [
      "tensor([[3., 4., 5.],\n",
      "        [1., 2., 3.]], dtype=torch.float64)\n",
      "tensor([[3, 4, 5],\n",
      "        [1, 2, 3]], dtype=torch.int32)\n",
      "tensor([[ 6.,  8., 10.],\n",
      "        [ 2.,  4.,  6.]], dtype=torch.float64)\n"
     ]
    }
   ],
   "source": [
    "x = torch.tensor([[3, 4, 5], [1, 2, 3]], dtype=torch.float64)\n",
    "print(x)\n",
    "\n",
    "y = torch.tensor([[3, 4, 5], [1, 2, 3]], dtype=torch.int)\n",
    "print(y)\n",
    "\n",
    "\n",
    "print(x + y)"
   ]
  },
  {
   "cell_type": "code",
   "execution_count": 14,
   "id": "d29dfafb-e3ee-4f29-b60f-a3613837141b",
   "metadata": {},
   "outputs": [
    {
     "name": "stdout",
     "output_type": "stream",
     "text": [
      "tensor([[3., 4., 5.],\n",
      "        [1., 2., 3.]])\n",
      "torch.float32\n",
      "tensor([[3., 4., 5.],\n",
      "        [1., 2., 3.]], dtype=torch.float64)\n",
      "tensor([[ 6.,  8., 10.],\n",
      "        [ 2.,  4.,  6.]], dtype=torch.float64)\n"
     ]
    }
   ],
   "source": [
    "x = torch.tensor([[3, 4, 5], [1, 2, 3]], dtype=torch.float32)\n",
    "print(x)\n",
    "print(x.dtype)\n",
    "y = x.double()\n",
    "print(y)\n",
    "print(x+y)"
   ]
  },
  {
   "cell_type": "code",
   "execution_count": 15,
   "id": "77aee205-9bfe-48d1-90ec-ee61780cb986",
   "metadata": {},
   "outputs": [
    {
     "name": "stdout",
     "output_type": "stream",
     "text": [
      "cpu\n",
      "cuda:0\n",
      "cuda:1\n"
     ]
    }
   ],
   "source": [
    "x = torch.tensor([[3, 4, 5], [1, 2, 3]], dtype=torch.float32)\n",
    "print(x.device)\n",
    "x = x.to(torch.device('cuda'))\n",
    "print(x.device)\n",
    "x = x.to(torch.device('cuda:1'))\n",
    "print(x.device)"
   ]
  },
  {
   "cell_type": "code",
   "execution_count": 16,
   "id": "226db5ba-8737-4738-8b88-c6915c69ff43",
   "metadata": {},
   "outputs": [
    {
     "name": "stdout",
     "output_type": "stream",
     "text": [
      "cuda:0\n",
      "cpu\n"
     ]
    }
   ],
   "source": [
    "x = x.cuda()\n",
    "print(x.device)\n",
    "x = x.cpu()\n",
    "print(x.device)"
   ]
  },
  {
   "cell_type": "code",
   "execution_count": 19,
   "id": "f83bf72c-f5b6-4919-ad94-dfcc8ce4c121",
   "metadata": {},
   "outputs": [],
   "source": [
    "device = 'cuda:1' if torch.cuda.is_available() else 'cpu'\n",
    "x = x.to(device)"
   ]
  },
  {
   "cell_type": "code",
   "execution_count": 21,
   "id": "5733e0bc-168b-4626-b45b-27c66cdb21d6",
   "metadata": {},
   "outputs": [
    {
     "name": "stdout",
     "output_type": "stream",
     "text": [
      "Before \"to\" method\n",
      "torch.float64 cpu\n",
      "torch.float32 cpu\n",
      "torch.int32 cuda:1 \n",
      "\n"
     ]
    }
   ],
   "source": [
    "device_0 = torch.device('cuda:0')\n",
    "device_1 = torch.device('cuda:1')\n",
    "\n",
    "x = torch.randn(4, 3, dtype=torch.float64)\n",
    "y = torch.randn(4, 3, dtype=torch.float32)\n",
    "z = torch.randint(0, 10, (4, 3), dtype=torch.int32)\n",
    "\n",
    "z = z.to(device_1)\n",
    "\n",
    "print('Before \"to\" method')\n",
    "\n",
    "print(x.dtype, x.device)\n",
    "print(y.dtype, y.device)\n",
    "print(z.dtype, z.device, '\\n')"
   ]
  },
  {
   "cell_type": "code",
   "execution_count": 22,
   "id": "83b0a670-bb28-4bd0-b9c7-770be69ca39d",
   "metadata": {},
   "outputs": [
    {
     "name": "stdout",
     "output_type": "stream",
     "text": [
      "After \"to\" method\n",
      "torch.int32 cuda:0\n",
      "torch.int32 cuda:1\n",
      "torch.int32 cpu \n",
      "\n"
     ]
    }
   ],
   "source": [
    "print('After \"to\" method')\n",
    "# to method with specific dtype and device \n",
    "x = x.to(dtype=torch.int32, device=device_0)\n",
    "\n",
    "# to method with some tensor \n",
    "y = y.to(z)\n",
    "z = z.to(device='cpu')\n",
    "\n",
    "print(x.dtype, x.device)\n",
    "print(y.dtype, y.device)\n",
    "print(z.dtype, z.device, '\\n')"
   ]
  },
  {
   "cell_type": "markdown",
   "id": "3359e8a9-c23e-44bb-98da-b25fc6fa3dec",
   "metadata": {},
   "source": [
    "### Constructing like Numpy"
   ]
  },
  {
   "cell_type": "code",
   "execution_count": 25,
   "id": "9d27d60a-ad76-4a4b-9ff7-563aadc213ea",
   "metadata": {},
   "outputs": [
    {
     "name": "stdout",
     "output_type": "stream",
     "text": [
      "tensor([[1.6880e+25, 2.5226e-18, 6.7062e+22, 5.4073e+22, 2.1298e+23],\n",
      "        [1.0739e-05, 1.9989e+20, 1.2802e-11, 5.3177e-08, 2.5813e-09],\n",
      "        [1.6987e+22, 3.1369e+27, 7.0800e+31, 3.1095e-18, 1.8590e+34]])\n",
      "tensor([[0., 0., 0., 0., 0.],\n",
      "        [0., 0., 0., 0., 0.],\n",
      "        [0., 0., 0., 0., 0.]])\n",
      "tensor([[1., 1., 1., 1., 1.],\n",
      "        [1., 1., 1., 1., 1.],\n",
      "        [1., 1., 1., 1., 1.]])\n",
      "tensor([[3.1415, 3.1415, 3.1415, 3.1415, 3.1415],\n",
      "        [3.1415, 3.1415, 3.1415, 3.1415, 3.1415],\n",
      "        [3.1415, 3.1415, 3.1415, 3.1415, 3.1415]])\n"
     ]
    }
   ],
   "source": [
    "x = torch.empty(3, 5)\n",
    "print(x)\n",
    "\n",
    "x = torch.zeros(3, 5)\n",
    "print(x)\n",
    "\n",
    "x = torch.ones(3, 5)\n",
    "print(x)\n",
    "\n",
    "x = torch.full((3, 5), 3.1415)\n",
    "print(x)"
   ]
  },
  {
   "cell_type": "code",
   "execution_count": 27,
   "id": "17e29664-3ccb-4e21-bce4-b2e44b9e9666",
   "metadata": {},
   "outputs": [
    {
     "name": "stdout",
     "output_type": "stream",
     "text": [
      "tensor([0, 1, 2, 3, 4])\n",
      "tensor([0.0000, 0.6250, 1.2500, 1.8750, 2.5000, 3.1250, 3.7500, 4.3750, 5.0000])\n",
      "tensor([1.0000e-10, 1.0000e-05, 1.0000e+00, 1.0000e+05, 1.0000e+10])\n"
     ]
    }
   ],
   "source": [
    "x = torch.arange(0, 5, 1)\n",
    "x = torch.arange(5)\n",
    "print(x)\n",
    "\n",
    "y = torch.linspace(0, 5, 9)\n",
    "print(y)\n",
    "\n",
    "z = torch.logspace(-10, 10, 5)\n",
    "print(z)"
   ]
  },
  {
   "cell_type": "code",
   "execution_count": 28,
   "id": "3e5ba788-b5fa-4a65-b585-11fa55191d6d",
   "metadata": {},
   "outputs": [
    {
     "name": "stdout",
     "output_type": "stream",
     "text": [
      "tensor([[1., 0., 0., 0., 0.],\n",
      "        [0., 1., 0., 0., 0.],\n",
      "        [0., 0., 1., 0., 0.],\n",
      "        [0., 0., 0., 1., 0.],\n",
      "        [0., 0., 0., 0., 1.]])\n"
     ]
    }
   ],
   "source": [
    "z = torch.eye(5) # I: Identity Matrix\n",
    "print(z)"
   ]
  },
  {
   "cell_type": "code",
   "execution_count": 29,
   "id": "162fb8d3-fd50-4ce2-9509-b829b8e80137",
   "metadata": {},
   "outputs": [
    {
     "name": "stdout",
     "output_type": "stream",
     "text": [
      "tensor([[0.2459, 0.1346, 0.5653, 0.6261, 0.5238],\n",
      "        [0.6581, 0.2211, 0.6217, 0.2938, 0.9698],\n",
      "        [0.4090, 0.5181, 0.2611, 0.4978, 0.6980]])\n",
      "tensor([[-0.1675, -0.6749,  1.0925, -0.6593, -0.6047],\n",
      "        [ 0.2443, -0.2702,  0.4234,  0.2609,  1.5687],\n",
      "        [-0.8654, -0.8218,  0.3130, -1.2606,  0.2460]])\n",
      "tensor([[7, 5, 4, 6, 7],\n",
      "        [9, 3, 9, 3, 6],\n",
      "        [7, 4, 9, 5, 5]])\n"
     ]
    }
   ],
   "source": [
    "# Construct a 3 x 5 matrix with random value from uniform distribution, i.e. Uniform[0, 1)\n",
    "x = torch.rand(3, 5)\n",
    "print(x)\n",
    "\n",
    "# Construct a 3 x 5 matrix with random value from normal distribution, i.e. Normal(0, 1)\n",
    "x = torch.randn(3, 5)\n",
    "print(x)\n",
    "\n",
    "x = torch.randint(3, 10, (3, 5))\n",
    "print(x)"
   ]
  },
  {
   "cell_type": "markdown",
   "id": "b9a46dd8-f977-4de4-b2c4-bc33e32fd337",
   "metadata": {},
   "source": [
    "- From numpy to tensor"
   ]
  },
  {
   "cell_type": "code",
   "execution_count": 35,
   "id": "b8ac2af0-4aad-4635-b10a-a955efd375c6",
   "metadata": {},
   "outputs": [
    {
     "name": "stdout",
     "output_type": "stream",
     "text": [
      "[1. 1. 1. 1. 1.]\n",
      "cpu\n",
      "cpu\n",
      "torch.float64\n",
      "torch.float32\n",
      "<class 'numpy.ndarray'>\n",
      "\n",
      " [1. 1. 1. 1. 1.] \n",
      " tensor([1., 1., 1., 1., 1.], dtype=torch.float64) \n",
      " tensor([1., 1., 1., 1., 1.]) \n",
      " [1. 1. 1. 1. 1.] \n",
      " [1. 1. 1. 1. 1.]\n"
     ]
    }
   ],
   "source": [
    "import numpy as np\n",
    "a = np.ones(5)\n",
    "print(a)\n",
    "b = torch.from_numpy(a)\n",
    "c = torch.Tensor(a)\n",
    "print(b.device)\n",
    "print(c.device)\n",
    "print(b.dtype)\n",
    "print(c.dtype)\n",
    "d = b.numpy()\n",
    "e = np.array(b)\n",
    "print(type(d))\n",
    "print(\"\\n\",a,\"\\n\",b,\"\\n\",c,\"\\n\",d,\"\\n\",e)"
   ]
  },
  {
   "cell_type": "markdown",
   "id": "193ac068-f243-45ae-8ff7-32b00851bd67",
   "metadata": {},
   "source": [
    "### Operations\n",
    "* Operations에도 여러가지 syntax가 있다."
   ]
  },
  {
   "cell_type": "code",
   "execution_count": 37,
   "id": "5fbb8bfd-9b4f-47b9-a6f6-ba1d3a30a1d9",
   "metadata": {},
   "outputs": [],
   "source": [
    "x = torch.rand(5, 3)\n",
    "y = torch.rand(1, 3)\n",
    "x = x + 3"
   ]
  },
  {
   "cell_type": "code",
   "execution_count": 38,
   "id": "1e7bd51b-da0b-46e8-ace1-86e4b939e69e",
   "metadata": {},
   "outputs": [
    {
     "name": "stdout",
     "output_type": "stream",
     "text": [
      "tensor([[3.7846, 3.9089, 3.8674],\n",
      "        [3.8079, 4.3974, 3.9420],\n",
      "        [4.2804, 4.3342, 4.0926],\n",
      "        [3.9286, 4.2705, 3.6056],\n",
      "        [3.6605, 4.1539, 3.4242]])\n"
     ]
    }
   ],
   "source": [
    "posco = x + y\n",
    "print(posco)"
   ]
  },
  {
   "cell_type": "code",
   "execution_count": 41,
   "id": "ee7b63f6-a855-4025-a123-3566e87c6d5e",
   "metadata": {},
   "outputs": [
    {
     "name": "stdout",
     "output_type": "stream",
     "text": [
      "solution 1 :  tensor([[0.6450, 0.5101, 1.1401],\n",
      "        [0.8112, 1.3695, 0.4760],\n",
      "        [0.4035, 1.2139, 1.1941],\n",
      "        [0.7043, 1.2612, 0.8963],\n",
      "        [1.0410, 0.4389, 1.2423]]) \n",
      "\n",
      "solution 2 :  tensor([[0.6450, 0.5101, 1.1401],\n",
      "        [0.8112, 1.3695, 0.4760],\n",
      "        [0.4035, 1.2139, 1.1941],\n",
      "        [0.7043, 1.2612, 0.8963],\n",
      "        [1.0410, 0.4389, 1.2423]]) \n",
      "\n",
      "solution 3 :  tensor([[0.6450, 0.5101, 1.1401],\n",
      "        [0.8112, 1.3695, 0.4760],\n",
      "        [0.4035, 1.2139, 1.1941],\n",
      "        [0.7043, 1.2612, 0.8963],\n",
      "        [1.0410, 0.4389, 1.2423]]) \n",
      "\n",
      "solution 4 :  tensor([[0.6450, 0.5101, 1.1401],\n",
      "        [0.8112, 1.3695, 0.4760],\n",
      "        [0.4035, 1.2139, 1.1941],\n",
      "        [0.7043, 1.2612, 0.8963],\n",
      "        [1.0410, 0.4389, 1.2423]]) \n",
      "\n",
      "tensor([[0.7880, 0.8386, 1.4170],\n",
      "        [1.4182, 2.3529, 0.4977],\n",
      "        [0.4567, 1.9745, 1.9693],\n",
      "        [0.8584, 2.2078, 0.9289],\n",
      "        [1.1000, 0.8535, 2.0934]])\n"
     ]
    }
   ],
   "source": [
    "x = torch.rand(5, 3)\n",
    "y = torch.rand(5, 3)\n",
    "print(\"solution 1 : \", x + y, '\\n')\n",
    "\n",
    "\n",
    "print(\"solution 2 : \", torch.add(x, y), '\\n')\n",
    "\n",
    "\n",
    "result = torch.Tensor(5, 3)\n",
    "torch.add(x, y, out=result)\n",
    "print(\"solution 3 : \", result, '\\n')\n",
    "\n",
    "y.add_(x) # y = y + x\n",
    "print(\"solution 4 : \", y, '\\n')\n",
    "\n",
    "print(x+y)"
   ]
  },
  {
   "cell_type": "markdown",
   "id": "3fa09981-859a-4c4e-9e93-571126abd8dd",
   "metadata": {},
   "source": [
    "### Same indexing as numpy"
   ]
  },
  {
   "cell_type": "code",
   "execution_count": 43,
   "id": "33699044-394b-4e46-b101-9b766aadb33a",
   "metadata": {},
   "outputs": [
    {
     "name": "stdout",
     "output_type": "stream",
     "text": [
      "tensor([[0.1430, 0.3284, 0.2769],\n",
      "        [0.6070, 0.9834, 0.0217],\n",
      "        [0.0532, 0.7606, 0.7753],\n",
      "        [0.1541, 0.9465, 0.0327],\n",
      "        [0.0590, 0.4146, 0.8511]])\n",
      "tensor([[0.3284],\n",
      "        [0.9834],\n",
      "        [0.7606],\n",
      "        [0.9465],\n",
      "        [0.4146]]) \n",
      "\n",
      "tensor([[False, False, False],\n",
      "        [ True,  True, False],\n",
      "        [False,  True,  True],\n",
      "        [False,  True, False],\n",
      "        [False, False,  True]])\n",
      "tensor([0.6070, 0.9834, 0.7606, 0.7753, 0.9465, 0.8511])\n"
     ]
    }
   ],
   "source": [
    "# indexing 또한 비슷하게\n",
    "print(x)\n",
    "print(x[:, [1]], '\\n')\n",
    "print(x>0.5)\n",
    "print(x[x > 0.5])"
   ]
  },
  {
   "cell_type": "markdown",
   "id": "4b1464fe-d4ad-4637-83ce-c6f850ce3087",
   "metadata": {},
   "source": [
    "### Squeeze and Unsqueeze"
   ]
  },
  {
   "cell_type": "code",
   "execution_count": 45,
   "id": "b07615ad-b9a6-4ba8-bf23-029ca0ade94f",
   "metadata": {},
   "outputs": [
    {
     "name": "stdout",
     "output_type": "stream",
     "text": [
      "torch.Size([1, 2, 1, 3])\n",
      "tensor([[[[0.4884, 0.3529, 0.8457]],\n",
      "\n",
      "         [[0.4126, 0.3411, 0.1079]]]])\n",
      "torch.Size([2, 3])\n",
      "tensor([[0.4884, 0.3529, 0.8457],\n",
      "        [0.4126, 0.3411, 0.1079]])\n"
     ]
    }
   ],
   "source": [
    "x = torch.rand(1, 2, 1, 3)\n",
    "print(x.shape)\n",
    "print(x)\n",
    "x = x.squeeze() # [1, 20, 1, 128] -> [20, 128]\n",
    "print(x.shape)\n",
    "print(x)"
   ]
  },
  {
   "cell_type": "code",
   "execution_count": 46,
   "id": "11370684-83aa-4563-9075-dea18ebd5d4b",
   "metadata": {},
   "outputs": [
    {
     "name": "stdout",
     "output_type": "stream",
     "text": [
      "torch.Size([1, 20, 1, 128])\n",
      "torch.Size([1, 20, 128])\n"
     ]
    }
   ],
   "source": [
    "x2 = torch.rand(1, 20, 1, 128)\n",
    "print(x2.shape)\n",
    "x2 = x2.squeeze(dim=2) # [1, 20, 1, 128] -> [1, 20, 128]\n",
    "print(x2.shape)"
   ]
  },
  {
   "cell_type": "code",
   "execution_count": 51,
   "id": "1b24b185-85fe-4cb9-8a0b-06a0e6a56c4d",
   "metadata": {},
   "outputs": [
    {
     "name": "stdout",
     "output_type": "stream",
     "text": [
      "torch.Size([1, 1, 2, 3])\n",
      "torch.Size([1, 1, 1, 2, 3])\n"
     ]
    }
   ],
   "source": [
    "print(x.shape)\n",
    "x = x.unsqueeze(0)\n",
    "print(x.shape)"
   ]
  },
  {
   "cell_type": "markdown",
   "id": "3e7f1459-b00e-45fe-90df-84ae44855236",
   "metadata": {},
   "source": [
    "### multiplication and concatenation"
   ]
  },
  {
   "cell_type": "code",
   "execution_count": 58,
   "id": "17c9c7bd-35e1-4799-9c17-9d2606abd2e0",
   "metadata": {},
   "outputs": [
    {
     "name": "stdout",
     "output_type": "stream",
     "text": [
      "tensor([[ 0.,  1.,  2.],\n",
      "        [ 3.,  4.,  5.],\n",
      "        [ 6.,  7.,  8.],\n",
      "        [ 9., 10., 11.],\n",
      "        [12., 13., 14.]])\n",
      "tensor([[3., 3., 3.],\n",
      "        [3., 3., 3.],\n",
      "        [3., 3., 3.],\n",
      "        [3., 3., 3.],\n",
      "        [3., 3., 3.]])\n",
      "tensor([[ 0.,  3.,  6.],\n",
      "        [ 9., 12., 15.],\n",
      "        [18., 21., 24.],\n",
      "        [27., 30., 33.],\n",
      "        [36., 39., 42.]])\n"
     ]
    }
   ],
   "source": [
    "x = torch.arange(15).reshape(5,3).to(dtype=torch.float32)\n",
    "y = torch.ones(5, 3)+2\n",
    "z = x * y\n",
    "print(x)\n",
    "print(y)\n",
    "print(z)"
   ]
  },
  {
   "cell_type": "code",
   "execution_count": 60,
   "id": "45327a1e-ae86-434e-b3d8-ba59d36f97f2",
   "metadata": {},
   "outputs": [
    {
     "name": "stdout",
     "output_type": "stream",
     "text": [
      "torch.Size([5, 3])\n",
      "torch.Size([5, 3])\n",
      "tensor([[  9.,   9.,   9.,   9.,   9.],\n",
      "        [ 36.,  36.,  36.,  36.,  36.],\n",
      "        [ 63.,  63.,  63.,  63.,  63.],\n",
      "        [ 90.,  90.,  90.,  90.,  90.],\n",
      "        [117., 117., 117., 117., 117.]]) torch.Size([5, 5])\n",
      "tensor([[  9.,   9.,   9.,   9.,   9.],\n",
      "        [ 36.,  36.,  36.,  36.,  36.],\n",
      "        [ 63.,  63.,  63.,  63.,  63.],\n",
      "        [ 90.,  90.,  90.,  90.,  90.],\n",
      "        [117., 117., 117., 117., 117.]])\n"
     ]
    }
   ],
   "source": [
    "## matrix multiplication\n",
    "#y = W.T * x + b\n",
    "z= torch.matmul(x, y.t())\n",
    "print(x.shape)\n",
    "print(y.shape)\n",
    "print(z, z.shape)\n",
    "w = x @ y.T\n",
    "print(w)"
   ]
  },
  {
   "cell_type": "code",
   "execution_count": 62,
   "id": "095d597b-d427-43dc-b8a7-35f232c54502",
   "metadata": {},
   "outputs": [
    {
     "name": "stdout",
     "output_type": "stream",
     "text": [
      "tensor([[ 0.,  1.,  2.],\n",
      "        [ 3.,  4.,  5.],\n",
      "        [ 6.,  7.,  8.],\n",
      "        [ 9., 10., 11.],\n",
      "        [12., 13., 14.]])\n",
      "tensor([[3., 3., 3.],\n",
      "        [3., 3., 3.],\n",
      "        [3., 3., 3.],\n",
      "        [3., 3., 3.],\n",
      "        [3., 3., 3.]])\n",
      "tensor([[ 0.,  1.,  2.],\n",
      "        [ 3.,  4.,  5.],\n",
      "        [ 6.,  7.,  8.],\n",
      "        [ 9., 10., 11.],\n",
      "        [12., 13., 14.],\n",
      "        [ 3.,  3.,  3.],\n",
      "        [ 3.,  3.,  3.],\n",
      "        [ 3.,  3.,  3.],\n",
      "        [ 3.,  3.,  3.],\n",
      "        [ 3.,  3.,  3.]])\n",
      "torch.Size([5, 3])\n",
      "torch.Size([5, 3])\n",
      "torch.Size([10, 3])\n"
     ]
    }
   ],
   "source": [
    "print(x)\n",
    "print(y)\n",
    "z = torch.cat([x, y], dim=0)\n",
    "print(z)\n",
    "print(x.shape)\n",
    "print(y.shape)\n",
    "print(z.shape)"
   ]
  },
  {
   "cell_type": "markdown",
   "id": "4026366e-e14b-4fb6-9429-e7138d25fbc1",
   "metadata": {},
   "source": [
    "### 넘파이의 다양한 operation들이 토치에 같은 함수나 변형된 함수로 대부분 탑재 되어있음."
   ]
  },
  {
   "cell_type": "markdown",
   "id": "1946cd3a-7069-4363-886b-ddab96c32704",
   "metadata": {},
   "source": [
    "---\n",
    "## PyTorch의 Autograd: automatic differentiation\n",
    "* Autograd package는 Tensors가 사용할 수 있는 모든 Operation의 Gradient를 자동으로 계산해준다.\n",
    "* Tensor의 required_grad attribute를 이용해 gradient의 계산여부를 결정할 수 있다.\n",
    "  * 계산이 완료된 이후에 .backward()를 호출하면 자동으로 gradient를 계산한다.\n",
    "  * .grad attribute를 통해 마찬가지로 gradient에 접근할 수 있다. \n",
    "  * .grad_fn attribute를 통해 해당 Variable이 어떻게 생성되었는지 확인할 수 있다. 해당 값으로 해당 노드의 local gradient 구할 수 있게 됨.\n",
    "  \n",
    "  "
   ]
  },
  {
   "cell_type": "code",
   "execution_count": 63,
   "id": "2bdf3364-0249-4c91-b10d-e656b23d54d5",
   "metadata": {},
   "outputs": [
    {
     "name": "stdout",
     "output_type": "stream",
     "text": [
      "tensor([[1., 1.],\n",
      "        [1., 1.]], requires_grad=True)\n",
      "True\n",
      "None\n"
     ]
    }
   ],
   "source": [
    "# Create a variable\n",
    "x = torch.ones(2, 2, requires_grad=True)\n",
    "\n",
    "print(x)\n",
    "print(x.requires_grad)\n",
    "print(x.grad)"
   ]
  },
  {
   "cell_type": "code",
   "execution_count": 64,
   "id": "4fa930f7-8472-4f24-b51a-f2900951bbad",
   "metadata": {},
   "outputs": [
    {
     "name": "stdout",
     "output_type": "stream",
     "text": [
      "tensor([[3., 3.],\n",
      "        [3., 3.]], grad_fn=<AddBackward0>)\n",
      "tensor([[27., 27.],\n",
      "        [27., 27.]], grad_fn=<MulBackward0>)\n",
      "tensor(27., grad_fn=<MeanBackward0>)\n"
     ]
    }
   ],
   "source": [
    "y = x + 2\n",
    "print(y)\n",
    "z = y * y * 3\n",
    "print(z)\n",
    "out = z.mean()\n",
    "print(out)\n",
    "\n",
    "out.retain_grad()\n",
    "z.retain_grad()\n",
    "y.retain_grad()"
   ]
  },
  {
   "cell_type": "code",
   "execution_count": 65,
   "id": "9fd3b5a2-8743-4102-ae26-b0e7e2fe74d1",
   "metadata": {},
   "outputs": [
    {
     "name": "stdout",
     "output_type": "stream",
     "text": [
      "tensor(27.) None <MeanBackward0 object at 0x7fc4e6b7af70>\n",
      "tensor([[27., 27.],\n",
      "        [27., 27.]]) None <MulBackward0 object at 0x7fc4e6b7ae20>\n",
      "tensor([[3., 3.],\n",
      "        [3., 3.]]) None <AddBackward0 object at 0x7fc4e6b7af70>\n",
      "tensor([[1., 1.],\n",
      "        [1., 1.]]) None None\n"
     ]
    }
   ],
   "source": [
    "# y,z는 operation으로 생성된 결과이기 때문에 grad_fn이 있지만 , x는 없다.\n",
    "print(out.data, out.grad, out.grad_fn)\n",
    "print(z.data, z.grad, z.grad_fn)\n",
    "print(y.data, y.grad, y.grad_fn)\n",
    "print(x.data, x.grad, x.grad_fn)"
   ]
  },
  {
   "cell_type": "code",
   "execution_count": 66,
   "id": "60ab368d-6abd-4870-9306-f32ec7191a4a",
   "metadata": {},
   "outputs": [
    {
     "name": "stdout",
     "output_type": "stream",
     "text": [
      "tensor(27.) tensor(1.)\n",
      "tensor([[27., 27.],\n",
      "        [27., 27.]]) tensor([[0.2500, 0.2500],\n",
      "        [0.2500, 0.2500]])\n",
      "tensor([[3., 3.],\n",
      "        [3., 3.]]) tensor([[4.5000, 4.5000],\n",
      "        [4.5000, 4.5000]])\n",
      "tensor([[1., 1.],\n",
      "        [1., 1.]]) tensor([[4.5000, 4.5000],\n",
      "        [4.5000, 4.5000]])\n"
     ]
    }
   ],
   "source": [
    "out.backward()\n",
    "\n",
    "print(out.data, out.grad)\n",
    "print(z.data, z.grad)\n",
    "print(y.data, y.grad)\n",
    "print(x.data, x.grad)"
   ]
  },
  {
   "cell_type": "markdown",
   "id": "87c3b621-c1e3-455a-9935-f7e7feaf5c0b",
   "metadata": {},
   "source": [
    "* 실제로 Gradient 를 계산하면 다음과 같다. <br>\n",
    "$$\\frac{\\partial o}{\\partial o} = 1 $$\n",
    "\n",
    "$$o = \\frac{1}{4}\\sum_{i} z_{i}$$ \n",
    "\n",
    "$$\\frac{\\partial o}{\\partial z_{i}} = 0.25 $$\n",
    "\n",
    "$$z_{i}=3(y_{i})^{2}$$\n",
    "\n",
    "$$\\frac{\\partial o}{\\partial y_{i}} = 0.25 * \\frac{\\partial z_{i}}{\\partial y_{i}} = 1.5 * y_{i}|_{y_{i}=3} = 4.5 $$\n",
    "\n",
    "$$y = x + 2  $$\n",
    "\n",
    "$$\\frac{\\partial o}{\\partial x_{i}}|_{x_{i}=1} = \\frac{\\partial o}{\\partial y_{i}} = 4.5$$"
   ]
  },
  {
   "cell_type": "markdown",
   "id": "49b1356f-9e1d-47ec-be6e-cac8d14e2805",
   "metadata": {},
   "source": [
    "### Gradients \n",
    "* out.backward()을 하면 out의 gradient를 1로 시작해 Back-propagation을 시작한다.\n",
    "* .backward()를 호출한 이후부터는 .grad를 통해 각 변수의 gradient를 구할 수 있다.\n",
    "* https://teamdable.github.io/techblog/PyTorch-Autograd"
   ]
  },
  {
   "cell_type": "code",
   "execution_count": null,
   "id": "fcea8519-7065-4b81-a60b-6b36ced5898a",
   "metadata": {},
   "outputs": [],
   "source": [
    "import torch\n",
    "\n",
    "x = torch.tensor(5.0)\n",
    "y = x ** 3\n",
    "z = torch.log(y)\n",
    "\n",
    "print('x', x)\n",
    "print('y', y)\n",
    "print('z', z)"
   ]
  },
  {
   "cell_type": "code",
   "execution_count": null,
   "id": "1cb662cd-af01-4541-b8c1-a80da1263527",
   "metadata": {},
   "outputs": [],
   "source": [
    "def get_tensor_info(tensor):\n",
    "  info = []\n",
    "  for name in ['requires_grad', 'is_leaf', 'retains_grad', 'grad_fn', 'grad']:\n",
    "    info.append(f'{name}({getattr(tensor, name, None)})')\n",
    "  info.append(f'tensor({str(tensor)})')\n",
    "  return ' '.join(info)\n",
    "\n",
    "x = torch.tensor(5.0)\n",
    "y = x ** 3\n",
    "z = torch.log(y)\n",
    "\n",
    "print('x', get_tensor_info(x))\n",
    "print('y', get_tensor_info(y))\n",
    "print('z', get_tensor_info(z))"
   ]
  },
  {
   "cell_type": "code",
   "execution_count": null,
   "id": "513c6147-8c91-46db-82c2-d3450fc17f57",
   "metadata": {},
   "outputs": [],
   "source": [
    "x = torch.tensor(5.0, requires_grad=True)\n",
    "y = x ** 3\n",
    "z = torch.log(y)\n",
    "\n",
    "print('x', get_tensor_info(x))\n",
    "print('y', get_tensor_info(y))\n",
    "print('z', get_tensor_info(z))\n",
    "\n",
    "z.backward()\n",
    "\n",
    "print('x_after_backward', get_tensor_info(x))\n",
    "print('y_after_backward', get_tensor_info(y))\n",
    "print('z_after_backward', get_tensor_info(z))"
   ]
  },
  {
   "cell_type": "code",
   "execution_count": null,
   "id": "eb893c12-1cf0-4820-b8ec-fc646e7c0190",
   "metadata": {},
   "outputs": [],
   "source": [
    "x = torch.tensor(5.0, requires_grad=True)\n",
    "y = x ** 3\n",
    "z = torch.log(y)\n",
    "\n",
    "print('x_before_backward :', get_tensor_info(x))\n",
    "print('y_before_backward :', get_tensor_info(y))\n",
    "print('z_before_backward :', get_tensor_info(z))\n",
    "\n",
    "y.retain_grad()\n",
    "z.retain_grad()\n",
    "z.backward()\n",
    "\n",
    "print('x_after_backward :', get_tensor_info(x))\n",
    "print('y_after_backward :', get_tensor_info(y))\n",
    "print('z_after_backward :', get_tensor_info(z))"
   ]
  },
  {
   "cell_type": "code",
   "execution_count": null,
   "id": "524b5976-574f-4189-a3b5-0d9be8c5e36e",
   "metadata": {},
   "outputs": [],
   "source": [
    "x = torch.tensor(5.0, requires_grad=True)\n",
    "y = x ** 3\n",
    "z = torch.log(y)\n",
    "\n",
    "print('x', get_tensor_info(x))\n",
    "print('y', get_tensor_info(y))\n",
    "print('z', get_tensor_info(z))\n",
    "\n",
    "z.backward(retain_graph=True)\n",
    "\n",
    "print('x_after_backward', get_tensor_info(x))\n",
    "print('y_after_backward', get_tensor_info(y))\n",
    "print('z_after_backward', get_tensor_info(z))\n",
    "\n",
    "z.backward()\n",
    "\n",
    "print('x_after_2backward', get_tensor_info(x))\n",
    "print('y_after_2backward', get_tensor_info(y))\n",
    "print('z_after_2backward', get_tensor_info(z))"
   ]
  }
 ],
 "metadata": {
  "kernelspec": {
   "display_name": "Python 3",
   "language": "python",
   "name": "python3"
  },
  "language_info": {
   "codemirror_mode": {
    "name": "ipython",
    "version": 3
   },
   "file_extension": ".py",
   "mimetype": "text/x-python",
   "name": "python",
   "nbconvert_exporter": "python",
   "pygments_lexer": "ipython3",
   "version": "3.8.8"
  }
 },
 "nbformat": 4,
 "nbformat_minor": 5
}
