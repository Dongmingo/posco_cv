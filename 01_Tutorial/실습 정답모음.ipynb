{
 "cells": [
  {
   "cell_type": "markdown",
   "id": "902140a5-6a43-4676-8ecd-c45113d5580a",
   "metadata": {},
   "source": [
    "# 실습 정답모음"
   ]
  },
  {
   "cell_type": "markdown",
   "id": "a0224aae-a8f6-443d-8b5e-53fc9a34b8a1",
   "metadata": {},
   "source": [
    "## 0. Numpy 1"
   ]
  },
  {
   "cell_type": "code",
   "execution_count": null,
   "id": "f545f6a7-b8fe-49d3-9d12-d36ad0ff3975",
   "metadata": {},
   "outputs": [],
   "source": [
    "a = np.arange(1,13).reshape(3,4)"
   ]
  },
  {
   "cell_type": "code",
   "execution_count": null,
   "id": "0bfe0d72-f7d1-4cb0-b574-15abe41e16db",
   "metadata": {},
   "outputs": [],
   "source": [
    "a[np.arange(10),np.arange(10)]"
   ]
  },
  {
   "cell_type": "markdown",
   "id": "9ab7450e-ae22-416e-9506-c9565fc12d18",
   "metadata": {},
   "source": [
    "## 1. Scikit Image"
   ]
  },
  {
   "cell_type": "code",
   "execution_count": null,
   "id": "3b36ca17-5021-4f6e-8e90-d1731f29799a",
   "metadata": {},
   "outputs": [],
   "source": [
    "mask = camera < 87\n",
    "camera[mask] = 255"
   ]
  },
  {
   "cell_type": "code",
   "execution_count": null,
   "id": "8d152784-7f39-4402-b9e8-3b743f4aeb43",
   "metadata": {},
   "outputs": [],
   "source": [
    "inds_x = np.arange(len(camera))\n",
    "inds_y = (4 * inds_x) % len(camera)\n",
    "camera[inds_x, inds_y] = 0"
   ]
  },
  {
   "cell_type": "code",
   "execution_count": null,
   "id": "4cabee7a-234c-48c6-9ef6-533d849df60c",
   "metadata": {},
   "outputs": [],
   "source": [
    "l_x, l_y = camera.shape[0], camera.shape[1]\n",
    "outer_disk_mask = (X - l_x / 2)**2 + (Y - l_y / 2)**2 > (l_x / 2)**2\n",
    "camera[outer_disk_mask] = 0"
   ]
  },
  {
   "cell_type": "code",
   "execution_count": null,
   "id": "8127817b-2bc9-40cd-bdc4-fd9e4df951a7",
   "metadata": {},
   "outputs": [],
   "source": []
  }
 ],
 "metadata": {
  "kernelspec": {
   "display_name": "Python 3",
   "language": "python",
   "name": "python3"
  },
  "language_info": {
   "codemirror_mode": {
    "name": "ipython",
    "version": 3
   },
   "file_extension": ".py",
   "mimetype": "text/x-python",
   "name": "python",
   "nbconvert_exporter": "python",
   "pygments_lexer": "ipython3",
   "version": "3.8.8"
  }
 },
 "nbformat": 4,
 "nbformat_minor": 5
}
