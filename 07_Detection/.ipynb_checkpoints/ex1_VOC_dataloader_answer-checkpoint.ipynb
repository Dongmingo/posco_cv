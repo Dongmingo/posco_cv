{
 "cells": [
  {
   "cell_type": "markdown",
   "id": "db3c6792-c4aa-4d6e-98bf-27581cfa3ee6",
   "metadata": {},
   "source": [
    "# PASCAL VOC DataLoader"
   ]
  },
  {
   "cell_type": "markdown",
   "id": "df4433e8-62b7-4855-9ec3-c3207a57891d",
   "metadata": {},
   "source": [
    "## 1. Prepare PASCAL VOC2007 dataset."
   ]
  },
  {
   "cell_type": "code",
   "execution_count": 1,
   "id": "deacf7dc-030a-4fd8-ab28-478dd55ebe7a",
   "metadata": {
    "scrolled": true,
    "tags": []
   },
   "outputs": [
    {
     "name": "stdout",
     "output_type": "stream",
     "text": [
      "--2022-06-20 18:20:11--  https://docs.google.com/uc?export=download&confirm=t&id=1FSPPvm6-QZ43pCYzPA3-pyN7RZ0rq5DT\n",
      "Resolving docs.google.com (docs.google.com)... 142.250.199.110, 2404:6800:4004:823::200e\n",
      "Connecting to docs.google.com (docs.google.com)|142.250.199.110|:443... connected.\n",
      "HTTP request sent, awaiting response... 303 See Other\n",
      "Location: https://doc-04-1k-docs.googleusercontent.com/docs/securesc/ha0ro937gcuc7l7deffksulhg5h7mbp1/anp62ltqkcsln7m1l58b4i9cegavtv8g/1655749200000/16525786242263481678/*/1FSPPvm6-QZ43pCYzPA3-pyN7RZ0rq5DT?e=download [following]\n",
      "Warning: wildcards not supported in HTTP.\n",
      "--2022-06-20 18:20:11--  https://doc-04-1k-docs.googleusercontent.com/docs/securesc/ha0ro937gcuc7l7deffksulhg5h7mbp1/anp62ltqkcsln7m1l58b4i9cegavtv8g/1655749200000/16525786242263481678/*/1FSPPvm6-QZ43pCYzPA3-pyN7RZ0rq5DT?e=download\n",
      "Resolving doc-04-1k-docs.googleusercontent.com (doc-04-1k-docs.googleusercontent.com)... 142.250.207.1, 2404:6800:4004:820::2001\n",
      "Connecting to doc-04-1k-docs.googleusercontent.com (doc-04-1k-docs.googleusercontent.com)|142.250.207.1|:443... connected.\n",
      "HTTP request sent, awaiting response... 200 OK\n",
      "Length: 892858331 (851M) [application/zip]\n",
      "Saving to: ‘VOC2007.zip’\n",
      "\n",
      "VOC2007.zip         100%[===================>] 851.50M  32.7MB/s    in 26s     \n",
      "\n",
      "2022-06-20 18:20:38 (32.6 MB/s) - ‘VOC2007.zip’ saved [892858331/892858331]\n",
      "\n"
     ]
    }
   ],
   "source": [
    "## link: https://drive.google.com/file/d/1FSPPvm6-QZ43pCYzPA3-pyN7RZ0rq5DT/view?usp=sharing\n",
    "## id: 1FSPPvm6-QZ43pCYzPA3-pyN7RZ0rq5DT\n",
    "## filename: VOC2007.zip\n",
    "\n",
    "!wget --load-cookies ~/cookies.txt \"https://docs.google.com/uc?export=download&confirm=$(wget --quiet --save-cookies ~/cookies.txt --keep-session-cookies --no-check-certificate 'https://docs.google.com/uc?export=download&id=1FSPPvm6-QZ43pCYzPA3-pyN7RZ0rq5DT' -O- | sed -rn 's/.*confirm=([0-9A-Za-z_]+).*/\\1\\n/p')&id=1FSPPvm6-QZ43pCYzPA3-pyN7RZ0rq5DT\" -O VOC2007.zip && rm -rf ~/cookies.txt"
   ]
  },
  {
   "cell_type": "code",
   "execution_count": 2,
   "id": "01080f13-d7f3-4ad5-a489-bacd06a62e17",
   "metadata": {},
   "outputs": [],
   "source": [
    "import zipfile\n",
    "with zipfile.ZipFile('VOC2007.zip', 'r')as f:\n",
    "    f.extractall('./')\n",
    "\n",
    "!rm -rf VOC2007.zip\n",
    "!rm -rf __MACOSX"
   ]
  },
  {
   "cell_type": "markdown",
   "id": "63c5010f-5e57-4950-8194-e9a5df3bb945",
   "metadata": {},
   "source": [
    "## 2. Import packages."
   ]
  },
  {
   "cell_type": "code",
   "execution_count": null,
   "id": "28bde974-5447-43e9-8564-4b09041ee9ce",
   "metadata": {},
   "outputs": [],
   "source": [
    "import os\n",
    "\n",
    "import numpy as np\n",
    "import scipy.io as sio\n",
    "import pickle\n",
    "import torch\n",
    "import torch.utils.data as data\n",
    "import xml.etree.ElementTree as ET\n",
    "from PIL import Image\n",
    "import matplotlib.pyplot as plt\n",
    "import matplotlib.patches as patches\n",
    "from torchvision import transforms"
   ]
  },
  {
   "cell_type": "code",
   "execution_count": null,
   "id": "83ae5c3e-a6c6-45f1-8d51-8aadaee60dbc",
   "metadata": {},
   "outputs": [],
   "source": [
    "VOC2007_CLASSES = (\n",
    "    '__background__',\n",
    "    'aeroplane', 'bicycle', 'bird', 'boat',\n",
    "    'bottle', 'bus', 'car', 'cat', 'chair',\n",
    "    'cow', 'diningtable', 'dog', 'horse',\n",
    "    'motorbike', 'person', 'pottedplant',\n",
    "    'sheep', 'sofa', 'train', 'tvmonitor'\n",
    ")\n",
    "\n",
    "# Define bbox color\n",
    "VOC2007_COLORS = [\n",
    "    [0.,        0.,        0.       ],\n",
    " [0.5019608, 0.,        0.       ],\n",
    " [0.,        0.5019608, 0.       ],\n",
    " [0.5019608, 0.5019608, 0.       ],\n",
    " [0.,        0.,        0.5019608],\n",
    " [0.5019608, 0.,        0.5019608],\n",
    " [0.,        0.5019608, 0.5019608],\n",
    " [0.5019608, 0.5019608, 0.5019608],\n",
    " [0.2509804, 0.,        0.       ],\n",
    " [0.7529412, 0.,        0.       ],\n",
    " [0.2509804, 0.5019608, 0.       ],\n",
    " [0.7529412, 0.5019608, 0.       ],\n",
    " [0.2509804, 0.,        0.5019608],\n",
    " [0.7529412, 0.,        0.5019608],\n",
    " [0.2509804, 0.5019608, 0.5019608],\n",
    " [0.7529412, 0.5019608, 0.5019608],\n",
    " [0.,        0.2509804, 0.       ],\n",
    " [0.5019608, 0.2509804, 0.       ],\n",
    " [0.,        0.7529412, 0.       ],\n",
    " [0.5019608, 0.7529412, 0.       ],\n",
    " [0.,        0.2509804, 0.5019608]]"
   ]
  },
  {
   "cell_type": "markdown",
   "id": "f82f34c5-ee72-4e35-975d-e975fe49caef",
   "metadata": {},
   "source": [
    "## 3. Load an annotation file (working with a XML file)."
   ]
  },
  {
   "cell_type": "markdown",
   "id": "93a8d2e6-2e39-497e-a231-706754a31850",
   "metadata": {},
   "source": [
    "### xml file example\n",
    "- open any xml file by web browsers"
   ]
  },
  {
   "cell_type": "markdown",
   "id": "8ab4c96e-1077-426c-9312-f697dca13718",
   "metadata": {},
   "source": [
    "- output of \"__getitems__\" should be\n",
    "\n",
    ">image : a PIL Image of size (H, W)  \n",
    ">target : a dict containing the following key  \n",
    ">>boxes (FloatTensor[N, 4]) :  the coordinates of the N bounding boxes in [x0, y0, x1, y1] format, ranging from 0 to W and 0 to H  \n",
    ">>labels (Int64Tensor[N]) : the label for each bounding box  \n",
    ">>image_id (Int64Tensor[1]): an image identifier. It should be unique between all the images in the dataset, and is used during evaluation  \n",
    ">>area (Tensor[N]): The area of the bounding box. This is used during evaluation with the COCO metric, to separate the metric scores between small, medium and large boxes.  \n",
    ">>iscrowd (UInt8Tensor[N]): instances with iscrowd=True will be ignored during evaluation(all set zero) "
   ]
  },
  {
   "cell_type": "code",
   "execution_count": null,
   "id": "bc0da340-bf2a-4203-b7d0-6e8ed6662df2",
   "metadata": {},
   "outputs": [],
   "source": [
    "### Parse xml file\n",
    "sample_idx = 1\n",
    "filename = os.path.join(f'./VOC2007/Annotations/{sample_idx:06d}.xml')\n",
    "tree = ET.parse(filename)"
   ]
  },
  {
   "cell_type": "code",
   "execution_count": null,
   "id": "977fc1ca-d39b-4f25-b186-b7da72239598",
   "metadata": {},
   "outputs": [],
   "source": [
    "### explore xml file\n",
    "root = tree.getroot()\n",
    "print(\"root.tag:\", root.tag)\n",
    "for node in root:\n",
    "    print(\">>>>\", node.tag)\n",
    "print('\\n')\n",
    "\n",
    "print(\"node.tag:\", node.tag)\n",
    "for node2 in node:  ### iterate the final object\n",
    "    print(f\">>>> {node2.tag}: {node2.text}\")\n",
    "print(\"\\n\")\n",
    "\n",
    "print(\"node2.tag:\", node2.tag)\n",
    "for node3 in node2: ### iterate the final bndbox (bounding box)\n",
    "    print(f\">>>> {node3.tag}: {node3.text}\")"
   ]
  },
  {
   "cell_type": "markdown",
   "id": "89ce319b-dc30-45f3-aed4-7a7a6123453a",
   "metadata": {},
   "source": [
    "### 3-1. Find all objects"
   ]
  },
  {
   "cell_type": "code",
   "execution_count": null,
   "id": "5a91e0c4-375d-4022-a948-429b5b12bfe4",
   "metadata": {},
   "outputs": [],
   "source": [
    "objs = tree.findall('object')\n",
    "num_objs = len(objs)\n",
    "print(\"the number of objects:\", num_objs)\n",
    "print(\"objs:\", objs) # List[Element]\n",
    "\n",
    "for obj_idx, obj in enumerate(objs):\n",
    "    for node in obj:\n",
    "        print(f\">>>> {obj_idx}th {node.tag}: {node.text}\")\n",
    "        for node2 in node:\n",
    "            print(f\">>>> {obj_idx}th bounding box's {node2.tag}: {node2.text}\")\n",
    "    print(\"\")"
   ]
  },
  {
   "cell_type": "markdown",
   "id": "0dd74f74-d5b9-497a-8668-f67912ef75a1",
   "metadata": {},
   "source": [
    "### 3-2. Obtain bounding boxes as np.ndarray."
   ]
  },
  {
   "cell_type": "code",
   "execution_count": null,
   "id": "1324cfa8-3beb-492b-b4e6-a26854ecf193",
   "metadata": {},
   "outputs": [],
   "source": [
    "boxes = np.zeros((num_objs, 4), dtype=np.int32)\n",
    "classes = []\n",
    "for obj_idx, obj in enumerate(objs):\n",
    "    ###Get bounding boxes\n",
    "    bbox = obj.find('bndbox')\n",
    "    x1 = float(bbox.find('xmin').text) - 1 # correct coordinates\n",
    "    y1 = float(bbox.find('ymin').text) - 1\n",
    "    x2 = float(bbox.find('xmax').text) - 1\n",
    "    y2 = float(bbox.find('ymax').text) - 1\n",
    "    boxes[obj_idx, :] = [x1, y1, x2, y2]\n",
    "    \n",
    "    ###Get Categories\n",
    "    object_class = obj.find('name').text   # class name *as string\n",
    "    classes.append(object_class)\n",
    "    \n",
    "print(boxes)\n",
    "print(classes)"
   ]
  },
  {
   "cell_type": "code",
   "execution_count": null,
   "id": "f015d487-369d-42a2-bcd1-4c2dd89308fd",
   "metadata": {},
   "outputs": [],
   "source": [
    "img = Image.open(f'./VOC2007/JPEGImages/{sample_idx:06d}.jpg')\n",
    "fig, ax = plt.subplots(1)\n",
    "ax.imshow(img)"
   ]
  },
  {
   "cell_type": "code",
   "execution_count": null,
   "id": "183a35cf-5f0e-478d-b34c-2274b55981bf",
   "metadata": {},
   "outputs": [],
   "source": [
    "def draw_bb(img, boxes, classes, red_only=False):\n",
    "    fig,ax = plt.subplots(1)\n",
    "    for box, class_ in zip(boxes, classes):\n",
    "        rect = patches.Rectangle(\n",
    "            (box[0], box[1]), # the upper left point\n",
    "            box[2]-box[0], # delta_x: width\n",
    "            box[3]-box[1], # delta_y: height\n",
    "            linewidth=3, # thickness\n",
    "            edgecolor='r' if red_only else VOC2007_COLORS[VOC2007_CLASSES.index(class_)],\n",
    "            facecolor='none'\n",
    "        )\n",
    "        ax.add_patch(rect)\n",
    "    ax.imshow(img)\n",
    "\n",
    "draw_bb(img, boxes, classes, True)"
   ]
  },
  {
   "cell_type": "markdown",
   "id": "1c440833-5f5c-4df7-9c0c-ff0c49ef2008",
   "metadata": {},
   "source": [
    "## 4. Define PASCAL VOC2007 dataset."
   ]
  },
  {
   "cell_type": "code",
   "execution_count": null,
   "id": "b65e8143-e6a6-48ae-a7b4-4048043d55df",
   "metadata": {},
   "outputs": [],
   "source": [
    "class PASCAL_DATASET(data.Dataset):\n",
    "    def __init__(self, data_root, img_list_file):        \n",
    "        self.data_root = data_root        \n",
    "        self.img_list = []\n",
    "        self._load_img_name_list(img_list_file)               \n",
    "\n",
    "    def _load_img_name_list(self, img_list_file):\n",
    "        with open(img_list_file) as f:\n",
    "            self.img_list = f.read().splitlines()\n",
    "                                  \n",
    "    def _load_annotation(self, img_path):\n",
    "        filename = os.path.join(self.data_root, 'Annotations', img_path + '.xml')\n",
    "        tree = ET.parse(filename)\n",
    "        objs = tree.findall('object')\n",
    "        num_objs = len(objs)\n",
    "        boxes = np.zeros((num_objs, 4), dtype=np.int32)\n",
    "        gt_classes_str = []\n",
    "        \n",
    "        for ix, obj in enumerate(objs):\n",
    "            bbox = obj.find('bndbox')\n",
    "            # Make pixel indexes 0-based\n",
    "            x1 = float(bbox.find('xmin').text) - 1\n",
    "            y1 = float(bbox.find('ymin').text) - 1\n",
    "            x2 = float(bbox.find('xmax').text) - 1\n",
    "            y2 = float(bbox.find('ymax').text) - 1\n",
    "            gt_classes_str.append(obj.find('name').text)\n",
    "            boxes[ix, :] = [x1, y1, x2, y2]\n",
    "\n",
    "        return boxes, gt_classes_str\n",
    "                                      \n",
    "    def __len__(self,):\n",
    "        return len(self.img_list)\n",
    "\n",
    "    def __getitem__(self, index):\n",
    "        img_path = self.img_list[index]\n",
    "        img = Image.open(os.path.join(self.data_root, 'JPEGImages', img_path + '.jpg'))\n",
    "        boxes, gt_classes_str = self._load_annotation(img_path)\n",
    "        return img, boxes, gt_classes_str"
   ]
  },
  {
   "cell_type": "code",
   "execution_count": null,
   "id": "63980973-6238-441d-a216-c7e59ceea09c",
   "metadata": {},
   "outputs": [],
   "source": [
    "pascal_data = PASCAL_DATASET('./VOC2007','./VOC2007/ImageSets/Main/train.txt')"
   ]
  },
  {
   "cell_type": "code",
   "execution_count": null,
   "id": "186a1d45-587b-4b2c-a73e-f009a8739b08",
   "metadata": {},
   "outputs": [],
   "source": [
    "pascal_it = iter(pascal_data)\n",
    "first_data = next(pascal_it)"
   ]
  },
  {
   "cell_type": "code",
   "execution_count": null,
   "id": "3cb89e6e-0147-43ca-8583-cf28649e5e01",
   "metadata": {},
   "outputs": [],
   "source": [
    "first_data"
   ]
  },
  {
   "cell_type": "code",
   "execution_count": null,
   "id": "9c297c02-5e02-47ec-984a-f891ab6c31a2",
   "metadata": {},
   "outputs": [],
   "source": [
    "draw_bb(first_data[0], first_data[1], first_data[2], True)"
   ]
  },
  {
   "cell_type": "code",
   "execution_count": null,
   "id": "aa0ba35b-1845-4a08-8fc5-49a1bf789e10",
   "metadata": {},
   "outputs": [],
   "source": [
    "next_data = next(pascal_it)\n",
    "print(next_data)\n",
    "draw_bb(next_data[0], next_data[1], next_data[2])"
   ]
  },
  {
   "cell_type": "code",
   "execution_count": null,
   "id": "28e4a1c6-dcdf-4269-b4a8-a6c5b19dab78",
   "metadata": {},
   "outputs": [],
   "source": []
  }
 ],
 "metadata": {
  "kernelspec": {
   "display_name": "Python 3",
   "language": "python",
   "name": "python3"
  },
  "language_info": {
   "codemirror_mode": {
    "name": "ipython",
    "version": 3
   },
   "file_extension": ".py",
   "mimetype": "text/x-python",
   "name": "python",
   "nbconvert_exporter": "python",
   "pygments_lexer": "ipython3",
   "version": "3.8.8"
  }
 },
 "nbformat": 4,
 "nbformat_minor": 5
}
